{
 "cells": [
  {
   "cell_type": "markdown",
   "metadata": {
    "_cell_guid": "b1076dfc-b9ad-4769-8c92-a6c4dae69d19",
    "_uuid": "8f2839f25d086af736a60e9eeb907d3b93b6e0e5"
   },
   "source": [
    "# Feature Engineering"
   ]
  },
  {
   "cell_type": "code",
   "execution_count": 1,
   "metadata": {
    "_cell_guid": "79c7e3d0-c299-4dcb-8224-4455121ee9b0",
    "_uuid": "d629ff2d2480ee46fbb7e2d37f6b5fab8052498a"
   },
   "outputs": [],
   "source": [
    "# Import required libraries\n",
    "import pandas as pd\n",
    "import numpy as np\n",
    "import matplotlib.pyplot as plt\n",
    "import seaborn as sns"
   ]
  },
  {
   "cell_type": "code",
   "execution_count": 100,
   "metadata": {
    "_uuid": "63e37e90db157935fa9cad9dbf49352d2adbe739"
   },
   "outputs": [],
   "source": [
    "# Import Dataset\n",
    "train=pd.read_csv(\"PEP1.csv\")\n",
    "test=pd.read_csv(\"PEP1.csv\")"
   ]
  },
  {
   "cell_type": "code",
   "execution_count": 3,
   "metadata": {
    "_uuid": "69cf2e53df63a379a66a318a772ecc25813428f9"
   },
   "outputs": [
    {
     "data": {
      "text/html": [
       "<div>\n",
       "<style scoped>\n",
       "    .dataframe tbody tr th:only-of-type {\n",
       "        vertical-align: middle;\n",
       "    }\n",
       "\n",
       "    .dataframe tbody tr th {\n",
       "        vertical-align: top;\n",
       "    }\n",
       "\n",
       "    .dataframe thead th {\n",
       "        text-align: right;\n",
       "    }\n",
       "</style>\n",
       "<table border=\"1\" class=\"dataframe\">\n",
       "  <thead>\n",
       "    <tr style=\"text-align: right;\">\n",
       "      <th></th>\n",
       "      <th>Id</th>\n",
       "      <th>MSSubClass</th>\n",
       "      <th>MSZoning</th>\n",
       "      <th>LotFrontage</th>\n",
       "      <th>LotArea</th>\n",
       "      <th>Street</th>\n",
       "      <th>Alley</th>\n",
       "      <th>LotShape</th>\n",
       "      <th>LandContour</th>\n",
       "      <th>Utilities</th>\n",
       "      <th>...</th>\n",
       "      <th>PoolArea</th>\n",
       "      <th>PoolQC</th>\n",
       "      <th>Fence</th>\n",
       "      <th>MiscFeature</th>\n",
       "      <th>MiscVal</th>\n",
       "      <th>MoSold</th>\n",
       "      <th>YrSold</th>\n",
       "      <th>SaleType</th>\n",
       "      <th>SaleCondition</th>\n",
       "      <th>SalePrice</th>\n",
       "    </tr>\n",
       "  </thead>\n",
       "  <tbody>\n",
       "    <tr>\n",
       "      <th>count</th>\n",
       "      <td>1460.000000</td>\n",
       "      <td>1460.000000</td>\n",
       "      <td>1460</td>\n",
       "      <td>1201.000000</td>\n",
       "      <td>1460.000000</td>\n",
       "      <td>1460</td>\n",
       "      <td>91</td>\n",
       "      <td>1460</td>\n",
       "      <td>1460</td>\n",
       "      <td>1460</td>\n",
       "      <td>...</td>\n",
       "      <td>1460.000000</td>\n",
       "      <td>7</td>\n",
       "      <td>281</td>\n",
       "      <td>54</td>\n",
       "      <td>1460.000000</td>\n",
       "      <td>1460.000000</td>\n",
       "      <td>1460.000000</td>\n",
       "      <td>1460</td>\n",
       "      <td>1460</td>\n",
       "      <td>1460.000000</td>\n",
       "    </tr>\n",
       "    <tr>\n",
       "      <th>unique</th>\n",
       "      <td>NaN</td>\n",
       "      <td>NaN</td>\n",
       "      <td>5</td>\n",
       "      <td>NaN</td>\n",
       "      <td>NaN</td>\n",
       "      <td>2</td>\n",
       "      <td>2</td>\n",
       "      <td>4</td>\n",
       "      <td>4</td>\n",
       "      <td>2</td>\n",
       "      <td>...</td>\n",
       "      <td>NaN</td>\n",
       "      <td>3</td>\n",
       "      <td>4</td>\n",
       "      <td>4</td>\n",
       "      <td>NaN</td>\n",
       "      <td>NaN</td>\n",
       "      <td>NaN</td>\n",
       "      <td>9</td>\n",
       "      <td>6</td>\n",
       "      <td>NaN</td>\n",
       "    </tr>\n",
       "    <tr>\n",
       "      <th>top</th>\n",
       "      <td>NaN</td>\n",
       "      <td>NaN</td>\n",
       "      <td>RL</td>\n",
       "      <td>NaN</td>\n",
       "      <td>NaN</td>\n",
       "      <td>Pave</td>\n",
       "      <td>Grvl</td>\n",
       "      <td>Reg</td>\n",
       "      <td>Lvl</td>\n",
       "      <td>AllPub</td>\n",
       "      <td>...</td>\n",
       "      <td>NaN</td>\n",
       "      <td>Gd</td>\n",
       "      <td>MnPrv</td>\n",
       "      <td>Shed</td>\n",
       "      <td>NaN</td>\n",
       "      <td>NaN</td>\n",
       "      <td>NaN</td>\n",
       "      <td>WD</td>\n",
       "      <td>Normal</td>\n",
       "      <td>NaN</td>\n",
       "    </tr>\n",
       "    <tr>\n",
       "      <th>freq</th>\n",
       "      <td>NaN</td>\n",
       "      <td>NaN</td>\n",
       "      <td>1151</td>\n",
       "      <td>NaN</td>\n",
       "      <td>NaN</td>\n",
       "      <td>1454</td>\n",
       "      <td>50</td>\n",
       "      <td>925</td>\n",
       "      <td>1311</td>\n",
       "      <td>1459</td>\n",
       "      <td>...</td>\n",
       "      <td>NaN</td>\n",
       "      <td>3</td>\n",
       "      <td>157</td>\n",
       "      <td>49</td>\n",
       "      <td>NaN</td>\n",
       "      <td>NaN</td>\n",
       "      <td>NaN</td>\n",
       "      <td>1267</td>\n",
       "      <td>1198</td>\n",
       "      <td>NaN</td>\n",
       "    </tr>\n",
       "    <tr>\n",
       "      <th>mean</th>\n",
       "      <td>730.500000</td>\n",
       "      <td>56.897260</td>\n",
       "      <td>NaN</td>\n",
       "      <td>70.049958</td>\n",
       "      <td>10516.828082</td>\n",
       "      <td>NaN</td>\n",
       "      <td>NaN</td>\n",
       "      <td>NaN</td>\n",
       "      <td>NaN</td>\n",
       "      <td>NaN</td>\n",
       "      <td>...</td>\n",
       "      <td>2.758904</td>\n",
       "      <td>NaN</td>\n",
       "      <td>NaN</td>\n",
       "      <td>NaN</td>\n",
       "      <td>43.489041</td>\n",
       "      <td>6.321918</td>\n",
       "      <td>2007.815753</td>\n",
       "      <td>NaN</td>\n",
       "      <td>NaN</td>\n",
       "      <td>180921.195890</td>\n",
       "    </tr>\n",
       "    <tr>\n",
       "      <th>std</th>\n",
       "      <td>421.610009</td>\n",
       "      <td>42.300571</td>\n",
       "      <td>NaN</td>\n",
       "      <td>24.284752</td>\n",
       "      <td>9981.264932</td>\n",
       "      <td>NaN</td>\n",
       "      <td>NaN</td>\n",
       "      <td>NaN</td>\n",
       "      <td>NaN</td>\n",
       "      <td>NaN</td>\n",
       "      <td>...</td>\n",
       "      <td>40.177307</td>\n",
       "      <td>NaN</td>\n",
       "      <td>NaN</td>\n",
       "      <td>NaN</td>\n",
       "      <td>496.123024</td>\n",
       "      <td>2.703626</td>\n",
       "      <td>1.328095</td>\n",
       "      <td>NaN</td>\n",
       "      <td>NaN</td>\n",
       "      <td>79442.502883</td>\n",
       "    </tr>\n",
       "    <tr>\n",
       "      <th>min</th>\n",
       "      <td>1.000000</td>\n",
       "      <td>20.000000</td>\n",
       "      <td>NaN</td>\n",
       "      <td>21.000000</td>\n",
       "      <td>1300.000000</td>\n",
       "      <td>NaN</td>\n",
       "      <td>NaN</td>\n",
       "      <td>NaN</td>\n",
       "      <td>NaN</td>\n",
       "      <td>NaN</td>\n",
       "      <td>...</td>\n",
       "      <td>0.000000</td>\n",
       "      <td>NaN</td>\n",
       "      <td>NaN</td>\n",
       "      <td>NaN</td>\n",
       "      <td>0.000000</td>\n",
       "      <td>1.000000</td>\n",
       "      <td>2006.000000</td>\n",
       "      <td>NaN</td>\n",
       "      <td>NaN</td>\n",
       "      <td>34900.000000</td>\n",
       "    </tr>\n",
       "    <tr>\n",
       "      <th>25%</th>\n",
       "      <td>365.750000</td>\n",
       "      <td>20.000000</td>\n",
       "      <td>NaN</td>\n",
       "      <td>59.000000</td>\n",
       "      <td>7553.500000</td>\n",
       "      <td>NaN</td>\n",
       "      <td>NaN</td>\n",
       "      <td>NaN</td>\n",
       "      <td>NaN</td>\n",
       "      <td>NaN</td>\n",
       "      <td>...</td>\n",
       "      <td>0.000000</td>\n",
       "      <td>NaN</td>\n",
       "      <td>NaN</td>\n",
       "      <td>NaN</td>\n",
       "      <td>0.000000</td>\n",
       "      <td>5.000000</td>\n",
       "      <td>2007.000000</td>\n",
       "      <td>NaN</td>\n",
       "      <td>NaN</td>\n",
       "      <td>129975.000000</td>\n",
       "    </tr>\n",
       "    <tr>\n",
       "      <th>50%</th>\n",
       "      <td>730.500000</td>\n",
       "      <td>50.000000</td>\n",
       "      <td>NaN</td>\n",
       "      <td>69.000000</td>\n",
       "      <td>9478.500000</td>\n",
       "      <td>NaN</td>\n",
       "      <td>NaN</td>\n",
       "      <td>NaN</td>\n",
       "      <td>NaN</td>\n",
       "      <td>NaN</td>\n",
       "      <td>...</td>\n",
       "      <td>0.000000</td>\n",
       "      <td>NaN</td>\n",
       "      <td>NaN</td>\n",
       "      <td>NaN</td>\n",
       "      <td>0.000000</td>\n",
       "      <td>6.000000</td>\n",
       "      <td>2008.000000</td>\n",
       "      <td>NaN</td>\n",
       "      <td>NaN</td>\n",
       "      <td>163000.000000</td>\n",
       "    </tr>\n",
       "    <tr>\n",
       "      <th>75%</th>\n",
       "      <td>1095.250000</td>\n",
       "      <td>70.000000</td>\n",
       "      <td>NaN</td>\n",
       "      <td>80.000000</td>\n",
       "      <td>11601.500000</td>\n",
       "      <td>NaN</td>\n",
       "      <td>NaN</td>\n",
       "      <td>NaN</td>\n",
       "      <td>NaN</td>\n",
       "      <td>NaN</td>\n",
       "      <td>...</td>\n",
       "      <td>0.000000</td>\n",
       "      <td>NaN</td>\n",
       "      <td>NaN</td>\n",
       "      <td>NaN</td>\n",
       "      <td>0.000000</td>\n",
       "      <td>8.000000</td>\n",
       "      <td>2009.000000</td>\n",
       "      <td>NaN</td>\n",
       "      <td>NaN</td>\n",
       "      <td>214000.000000</td>\n",
       "    </tr>\n",
       "    <tr>\n",
       "      <th>max</th>\n",
       "      <td>1460.000000</td>\n",
       "      <td>190.000000</td>\n",
       "      <td>NaN</td>\n",
       "      <td>313.000000</td>\n",
       "      <td>215245.000000</td>\n",
       "      <td>NaN</td>\n",
       "      <td>NaN</td>\n",
       "      <td>NaN</td>\n",
       "      <td>NaN</td>\n",
       "      <td>NaN</td>\n",
       "      <td>...</td>\n",
       "      <td>738.000000</td>\n",
       "      <td>NaN</td>\n",
       "      <td>NaN</td>\n",
       "      <td>NaN</td>\n",
       "      <td>15500.000000</td>\n",
       "      <td>12.000000</td>\n",
       "      <td>2010.000000</td>\n",
       "      <td>NaN</td>\n",
       "      <td>NaN</td>\n",
       "      <td>755000.000000</td>\n",
       "    </tr>\n",
       "  </tbody>\n",
       "</table>\n",
       "<p>11 rows × 81 columns</p>\n",
       "</div>"
      ],
      "text/plain": [
       "                 Id   MSSubClass MSZoning  LotFrontage        LotArea Street  \\\n",
       "count   1460.000000  1460.000000     1460  1201.000000    1460.000000   1460   \n",
       "unique          NaN          NaN        5          NaN            NaN      2   \n",
       "top             NaN          NaN       RL          NaN            NaN   Pave   \n",
       "freq            NaN          NaN     1151          NaN            NaN   1454   \n",
       "mean     730.500000    56.897260      NaN    70.049958   10516.828082    NaN   \n",
       "std      421.610009    42.300571      NaN    24.284752    9981.264932    NaN   \n",
       "min        1.000000    20.000000      NaN    21.000000    1300.000000    NaN   \n",
       "25%      365.750000    20.000000      NaN    59.000000    7553.500000    NaN   \n",
       "50%      730.500000    50.000000      NaN    69.000000    9478.500000    NaN   \n",
       "75%     1095.250000    70.000000      NaN    80.000000   11601.500000    NaN   \n",
       "max     1460.000000   190.000000      NaN   313.000000  215245.000000    NaN   \n",
       "\n",
       "       Alley LotShape LandContour Utilities  ...     PoolArea PoolQC  Fence  \\\n",
       "count     91     1460        1460      1460  ...  1460.000000      7    281   \n",
       "unique     2        4           4         2  ...          NaN      3      4   \n",
       "top     Grvl      Reg         Lvl    AllPub  ...          NaN     Gd  MnPrv   \n",
       "freq      50      925        1311      1459  ...          NaN      3    157   \n",
       "mean     NaN      NaN         NaN       NaN  ...     2.758904    NaN    NaN   \n",
       "std      NaN      NaN         NaN       NaN  ...    40.177307    NaN    NaN   \n",
       "min      NaN      NaN         NaN       NaN  ...     0.000000    NaN    NaN   \n",
       "25%      NaN      NaN         NaN       NaN  ...     0.000000    NaN    NaN   \n",
       "50%      NaN      NaN         NaN       NaN  ...     0.000000    NaN    NaN   \n",
       "75%      NaN      NaN         NaN       NaN  ...     0.000000    NaN    NaN   \n",
       "max      NaN      NaN         NaN       NaN  ...   738.000000    NaN    NaN   \n",
       "\n",
       "       MiscFeature       MiscVal       MoSold       YrSold  SaleType  \\\n",
       "count           54   1460.000000  1460.000000  1460.000000      1460   \n",
       "unique           4           NaN          NaN          NaN         9   \n",
       "top           Shed           NaN          NaN          NaN        WD   \n",
       "freq            49           NaN          NaN          NaN      1267   \n",
       "mean           NaN     43.489041     6.321918  2007.815753       NaN   \n",
       "std            NaN    496.123024     2.703626     1.328095       NaN   \n",
       "min            NaN      0.000000     1.000000  2006.000000       NaN   \n",
       "25%            NaN      0.000000     5.000000  2007.000000       NaN   \n",
       "50%            NaN      0.000000     6.000000  2008.000000       NaN   \n",
       "75%            NaN      0.000000     8.000000  2009.000000       NaN   \n",
       "max            NaN  15500.000000    12.000000  2010.000000       NaN   \n",
       "\n",
       "        SaleCondition      SalePrice  \n",
       "count            1460    1460.000000  \n",
       "unique              6            NaN  \n",
       "top            Normal            NaN  \n",
       "freq             1198            NaN  \n",
       "mean              NaN  180921.195890  \n",
       "std               NaN   79442.502883  \n",
       "min               NaN   34900.000000  \n",
       "25%               NaN  129975.000000  \n",
       "50%               NaN  163000.000000  \n",
       "75%               NaN  214000.000000  \n",
       "max               NaN  755000.000000  \n",
       "\n",
       "[11 rows x 81 columns]"
      ]
     },
     "execution_count": 3,
     "metadata": {},
     "output_type": "execute_result"
    }
   ],
   "source": [
    "train.describe(include='all')\n"
   ]
  },
  {
   "cell_type": "code",
   "execution_count": 4,
   "metadata": {
    "_uuid": "56096affda30fca8d5b05632c12ee95b7d86128b"
   },
   "outputs": [
    {
     "data": {
      "text/plain": [
       "(1460, 81)"
      ]
     },
     "execution_count": 4,
     "metadata": {},
     "output_type": "execute_result"
    }
   ],
   "source": [
    "train.shape"
   ]
  },
  {
   "cell_type": "code",
   "execution_count": 12,
   "metadata": {
    "_uuid": "60a4106912534683b63bb765b7c7d58e92bac047"
   },
   "outputs": [
    {
     "data": {
      "text/plain": [
       "PoolQC          1452\n",
       "MiscFeature     1404\n",
       "Alley           1367\n",
       "Fence           1177\n",
       "FireplaceQu      690\n",
       "LotFrontage      259\n",
       "GarageYrBlt       81\n",
       "GarageCond        81\n",
       "GarageType        81\n",
       "GarageFinish      81\n",
       "GarageQual        81\n",
       "BsmtFinType2      38\n",
       "BsmtExposure      38\n",
       "BsmtQual          37\n",
       "BsmtCond          37\n",
       "BsmtFinType1      37\n",
       "MasVnrArea         8\n",
       "MasVnrType         8\n",
       "Electrical         1\n",
       "Id                 0\n",
       "Functiol           0\n",
       "Fireplaces         0\n",
       "KitchenQual        0\n",
       "KitchebvGr         0\n",
       "BedroomAbvGr       0\n",
       "HalfBath           0\n",
       "FullBath           0\n",
       "BsmtHalfBath       0\n",
       "TotRmsAbvGrd       0\n",
       "GarageCars         0\n",
       "dtype: int64"
      ]
     },
     "execution_count": 12,
     "metadata": {},
     "output_type": "execute_result"
    }
   ],
   "source": [
    "train.isnull().sum().sort_values(ascending= False).head(30)\n"
   ]
  },
  {
   "cell_type": "code",
   "execution_count": 6,
   "metadata": {
    "_uuid": "8864d1a85497700e7bbdaed2870604bcab731f9a"
   },
   "outputs": [],
   "source": [
    "#Dropping the column with plenty of missing data"
   ]
  },
  {
   "cell_type": "code",
   "execution_count": 7,
   "metadata": {
    "_uuid": "1d787ae20af954b8afee83f17fa9de4714608111"
   },
   "outputs": [
    {
     "data": {
      "text/html": [
       "<div>\n",
       "<style scoped>\n",
       "    .dataframe tbody tr th:only-of-type {\n",
       "        vertical-align: middle;\n",
       "    }\n",
       "\n",
       "    .dataframe tbody tr th {\n",
       "        vertical-align: top;\n",
       "    }\n",
       "\n",
       "    .dataframe thead th {\n",
       "        text-align: right;\n",
       "    }\n",
       "</style>\n",
       "<table border=\"1\" class=\"dataframe\">\n",
       "  <thead>\n",
       "    <tr style=\"text-align: right;\">\n",
       "      <th></th>\n",
       "      <th>Id</th>\n",
       "      <th>MSSubClass</th>\n",
       "      <th>MSZoning</th>\n",
       "      <th>LotArea</th>\n",
       "      <th>Street</th>\n",
       "      <th>LotShape</th>\n",
       "      <th>LandContour</th>\n",
       "      <th>Utilities</th>\n",
       "      <th>LotConfig</th>\n",
       "      <th>LandSlope</th>\n",
       "      <th>...</th>\n",
       "      <th>EnclosedPorch</th>\n",
       "      <th>3SsnPorch</th>\n",
       "      <th>ScreenPorch</th>\n",
       "      <th>PoolArea</th>\n",
       "      <th>MiscVal</th>\n",
       "      <th>MoSold</th>\n",
       "      <th>YrSold</th>\n",
       "      <th>SaleType</th>\n",
       "      <th>SaleCondition</th>\n",
       "      <th>SalePrice</th>\n",
       "    </tr>\n",
       "  </thead>\n",
       "  <tbody>\n",
       "    <tr>\n",
       "      <th>0</th>\n",
       "      <td>1</td>\n",
       "      <td>60</td>\n",
       "      <td>RL</td>\n",
       "      <td>8450</td>\n",
       "      <td>Pave</td>\n",
       "      <td>Reg</td>\n",
       "      <td>Lvl</td>\n",
       "      <td>AllPub</td>\n",
       "      <td>Inside</td>\n",
       "      <td>Gtl</td>\n",
       "      <td>...</td>\n",
       "      <td>0</td>\n",
       "      <td>0</td>\n",
       "      <td>0</td>\n",
       "      <td>0</td>\n",
       "      <td>0</td>\n",
       "      <td>2</td>\n",
       "      <td>2008</td>\n",
       "      <td>WD</td>\n",
       "      <td>Normal</td>\n",
       "      <td>208500</td>\n",
       "    </tr>\n",
       "    <tr>\n",
       "      <th>1</th>\n",
       "      <td>2</td>\n",
       "      <td>20</td>\n",
       "      <td>RL</td>\n",
       "      <td>9600</td>\n",
       "      <td>Pave</td>\n",
       "      <td>Reg</td>\n",
       "      <td>Lvl</td>\n",
       "      <td>AllPub</td>\n",
       "      <td>FR2</td>\n",
       "      <td>Gtl</td>\n",
       "      <td>...</td>\n",
       "      <td>0</td>\n",
       "      <td>0</td>\n",
       "      <td>0</td>\n",
       "      <td>0</td>\n",
       "      <td>0</td>\n",
       "      <td>5</td>\n",
       "      <td>2007</td>\n",
       "      <td>WD</td>\n",
       "      <td>Normal</td>\n",
       "      <td>181500</td>\n",
       "    </tr>\n",
       "    <tr>\n",
       "      <th>2</th>\n",
       "      <td>3</td>\n",
       "      <td>60</td>\n",
       "      <td>RL</td>\n",
       "      <td>11250</td>\n",
       "      <td>Pave</td>\n",
       "      <td>IR1</td>\n",
       "      <td>Lvl</td>\n",
       "      <td>AllPub</td>\n",
       "      <td>Inside</td>\n",
       "      <td>Gtl</td>\n",
       "      <td>...</td>\n",
       "      <td>0</td>\n",
       "      <td>0</td>\n",
       "      <td>0</td>\n",
       "      <td>0</td>\n",
       "      <td>0</td>\n",
       "      <td>9</td>\n",
       "      <td>2008</td>\n",
       "      <td>WD</td>\n",
       "      <td>Normal</td>\n",
       "      <td>223500</td>\n",
       "    </tr>\n",
       "    <tr>\n",
       "      <th>3</th>\n",
       "      <td>4</td>\n",
       "      <td>70</td>\n",
       "      <td>RL</td>\n",
       "      <td>9550</td>\n",
       "      <td>Pave</td>\n",
       "      <td>IR1</td>\n",
       "      <td>Lvl</td>\n",
       "      <td>AllPub</td>\n",
       "      <td>Corner</td>\n",
       "      <td>Gtl</td>\n",
       "      <td>...</td>\n",
       "      <td>272</td>\n",
       "      <td>0</td>\n",
       "      <td>0</td>\n",
       "      <td>0</td>\n",
       "      <td>0</td>\n",
       "      <td>2</td>\n",
       "      <td>2006</td>\n",
       "      <td>WD</td>\n",
       "      <td>Abnorml</td>\n",
       "      <td>140000</td>\n",
       "    </tr>\n",
       "    <tr>\n",
       "      <th>4</th>\n",
       "      <td>5</td>\n",
       "      <td>60</td>\n",
       "      <td>RL</td>\n",
       "      <td>14260</td>\n",
       "      <td>Pave</td>\n",
       "      <td>IR1</td>\n",
       "      <td>Lvl</td>\n",
       "      <td>AllPub</td>\n",
       "      <td>FR2</td>\n",
       "      <td>Gtl</td>\n",
       "      <td>...</td>\n",
       "      <td>0</td>\n",
       "      <td>0</td>\n",
       "      <td>0</td>\n",
       "      <td>0</td>\n",
       "      <td>0</td>\n",
       "      <td>12</td>\n",
       "      <td>2008</td>\n",
       "      <td>WD</td>\n",
       "      <td>Normal</td>\n",
       "      <td>250000</td>\n",
       "    </tr>\n",
       "    <tr>\n",
       "      <th>...</th>\n",
       "      <td>...</td>\n",
       "      <td>...</td>\n",
       "      <td>...</td>\n",
       "      <td>...</td>\n",
       "      <td>...</td>\n",
       "      <td>...</td>\n",
       "      <td>...</td>\n",
       "      <td>...</td>\n",
       "      <td>...</td>\n",
       "      <td>...</td>\n",
       "      <td>...</td>\n",
       "      <td>...</td>\n",
       "      <td>...</td>\n",
       "      <td>...</td>\n",
       "      <td>...</td>\n",
       "      <td>...</td>\n",
       "      <td>...</td>\n",
       "      <td>...</td>\n",
       "      <td>...</td>\n",
       "      <td>...</td>\n",
       "      <td>...</td>\n",
       "    </tr>\n",
       "    <tr>\n",
       "      <th>1455</th>\n",
       "      <td>1456</td>\n",
       "      <td>60</td>\n",
       "      <td>RL</td>\n",
       "      <td>7917</td>\n",
       "      <td>Pave</td>\n",
       "      <td>Reg</td>\n",
       "      <td>Lvl</td>\n",
       "      <td>AllPub</td>\n",
       "      <td>Inside</td>\n",
       "      <td>Gtl</td>\n",
       "      <td>...</td>\n",
       "      <td>0</td>\n",
       "      <td>0</td>\n",
       "      <td>0</td>\n",
       "      <td>0</td>\n",
       "      <td>0</td>\n",
       "      <td>8</td>\n",
       "      <td>2007</td>\n",
       "      <td>WD</td>\n",
       "      <td>Normal</td>\n",
       "      <td>175000</td>\n",
       "    </tr>\n",
       "    <tr>\n",
       "      <th>1456</th>\n",
       "      <td>1457</td>\n",
       "      <td>20</td>\n",
       "      <td>RL</td>\n",
       "      <td>13175</td>\n",
       "      <td>Pave</td>\n",
       "      <td>Reg</td>\n",
       "      <td>Lvl</td>\n",
       "      <td>AllPub</td>\n",
       "      <td>Inside</td>\n",
       "      <td>Gtl</td>\n",
       "      <td>...</td>\n",
       "      <td>0</td>\n",
       "      <td>0</td>\n",
       "      <td>0</td>\n",
       "      <td>0</td>\n",
       "      <td>0</td>\n",
       "      <td>2</td>\n",
       "      <td>2010</td>\n",
       "      <td>WD</td>\n",
       "      <td>Normal</td>\n",
       "      <td>210000</td>\n",
       "    </tr>\n",
       "    <tr>\n",
       "      <th>1457</th>\n",
       "      <td>1458</td>\n",
       "      <td>70</td>\n",
       "      <td>RL</td>\n",
       "      <td>9042</td>\n",
       "      <td>Pave</td>\n",
       "      <td>Reg</td>\n",
       "      <td>Lvl</td>\n",
       "      <td>AllPub</td>\n",
       "      <td>Inside</td>\n",
       "      <td>Gtl</td>\n",
       "      <td>...</td>\n",
       "      <td>0</td>\n",
       "      <td>0</td>\n",
       "      <td>0</td>\n",
       "      <td>0</td>\n",
       "      <td>2500</td>\n",
       "      <td>5</td>\n",
       "      <td>2010</td>\n",
       "      <td>WD</td>\n",
       "      <td>Normal</td>\n",
       "      <td>266500</td>\n",
       "    </tr>\n",
       "    <tr>\n",
       "      <th>1458</th>\n",
       "      <td>1459</td>\n",
       "      <td>20</td>\n",
       "      <td>RL</td>\n",
       "      <td>9717</td>\n",
       "      <td>Pave</td>\n",
       "      <td>Reg</td>\n",
       "      <td>Lvl</td>\n",
       "      <td>AllPub</td>\n",
       "      <td>Inside</td>\n",
       "      <td>Gtl</td>\n",
       "      <td>...</td>\n",
       "      <td>112</td>\n",
       "      <td>0</td>\n",
       "      <td>0</td>\n",
       "      <td>0</td>\n",
       "      <td>0</td>\n",
       "      <td>4</td>\n",
       "      <td>2010</td>\n",
       "      <td>WD</td>\n",
       "      <td>Normal</td>\n",
       "      <td>142125</td>\n",
       "    </tr>\n",
       "    <tr>\n",
       "      <th>1459</th>\n",
       "      <td>1460</td>\n",
       "      <td>20</td>\n",
       "      <td>RL</td>\n",
       "      <td>9937</td>\n",
       "      <td>Pave</td>\n",
       "      <td>Reg</td>\n",
       "      <td>Lvl</td>\n",
       "      <td>AllPub</td>\n",
       "      <td>Inside</td>\n",
       "      <td>Gtl</td>\n",
       "      <td>...</td>\n",
       "      <td>0</td>\n",
       "      <td>0</td>\n",
       "      <td>0</td>\n",
       "      <td>0</td>\n",
       "      <td>0</td>\n",
       "      <td>6</td>\n",
       "      <td>2008</td>\n",
       "      <td>WD</td>\n",
       "      <td>Normal</td>\n",
       "      <td>147500</td>\n",
       "    </tr>\n",
       "  </tbody>\n",
       "</table>\n",
       "<p>1460 rows × 76 columns</p>\n",
       "</div>"
      ],
      "text/plain": [
       "        Id  MSSubClass MSZoning  LotArea Street LotShape LandContour  \\\n",
       "0        1          60       RL     8450   Pave      Reg         Lvl   \n",
       "1        2          20       RL     9600   Pave      Reg         Lvl   \n",
       "2        3          60       RL    11250   Pave      IR1         Lvl   \n",
       "3        4          70       RL     9550   Pave      IR1         Lvl   \n",
       "4        5          60       RL    14260   Pave      IR1         Lvl   \n",
       "...    ...         ...      ...      ...    ...      ...         ...   \n",
       "1455  1456          60       RL     7917   Pave      Reg         Lvl   \n",
       "1456  1457          20       RL    13175   Pave      Reg         Lvl   \n",
       "1457  1458          70       RL     9042   Pave      Reg         Lvl   \n",
       "1458  1459          20       RL     9717   Pave      Reg         Lvl   \n",
       "1459  1460          20       RL     9937   Pave      Reg         Lvl   \n",
       "\n",
       "     Utilities LotConfig LandSlope  ... EnclosedPorch 3SsnPorch ScreenPorch  \\\n",
       "0       AllPub    Inside       Gtl  ...             0         0           0   \n",
       "1       AllPub       FR2       Gtl  ...             0         0           0   \n",
       "2       AllPub    Inside       Gtl  ...             0         0           0   \n",
       "3       AllPub    Corner       Gtl  ...           272         0           0   \n",
       "4       AllPub       FR2       Gtl  ...             0         0           0   \n",
       "...        ...       ...       ...  ...           ...       ...         ...   \n",
       "1455    AllPub    Inside       Gtl  ...             0         0           0   \n",
       "1456    AllPub    Inside       Gtl  ...             0         0           0   \n",
       "1457    AllPub    Inside       Gtl  ...             0         0           0   \n",
       "1458    AllPub    Inside       Gtl  ...           112         0           0   \n",
       "1459    AllPub    Inside       Gtl  ...             0         0           0   \n",
       "\n",
       "     PoolArea MiscVal  MoSold  YrSold  SaleType  SaleCondition SalePrice  \n",
       "0           0       0       2    2008        WD         Normal    208500  \n",
       "1           0       0       5    2007        WD         Normal    181500  \n",
       "2           0       0       9    2008        WD         Normal    223500  \n",
       "3           0       0       2    2006        WD        Abnorml    140000  \n",
       "4           0       0      12    2008        WD         Normal    250000  \n",
       "...       ...     ...     ...     ...       ...            ...       ...  \n",
       "1455        0       0       8    2007        WD         Normal    175000  \n",
       "1456        0       0       2    2010        WD         Normal    210000  \n",
       "1457        0    2500       5    2010        WD         Normal    266500  \n",
       "1458        0       0       4    2010        WD         Normal    142125  \n",
       "1459        0       0       6    2008        WD         Normal    147500  \n",
       "\n",
       "[1460 rows x 76 columns]"
      ]
     },
     "execution_count": 7,
     "metadata": {},
     "output_type": "execute_result"
    }
   ],
   "source": [
    "train.drop(['PoolQC','MiscFeature','Alley','Fence','LotFrontage'],axis=1)\n",
    "test.drop(['PoolQC','MiscFeature','Alley','Fence','LotFrontage'],axis=1)"
   ]
  },
  {
   "cell_type": "code",
   "execution_count": 8,
   "metadata": {
    "_uuid": "789cb932ed8647bb91bd883942195d51896a95c7"
   },
   "outputs": [
    {
     "name": "stdout",
     "output_type": "stream",
     "text": [
      "(1460, 81)\n"
     ]
    },
    {
     "data": {
      "text/plain": [
       "<AxesSubplot:xlabel='GrLivArea', ylabel='SalePrice'>"
      ]
     },
     "execution_count": 8,
     "metadata": {},
     "output_type": "execute_result"
    },
    {
     "data": {
      "image/png": "[encoded data removed]",
      "text/plain": [
       "<Figure size 432x288 with 1 Axes>"
      ]
     },
     "metadata": {
      "needs_background": "light"
     },
     "output_type": "display_data"
    }
   ],
   "source": [
    "#Detecting outliers\n",
    "print(train.shape)\n",
    "sns.scatterplot(y=\"SalePrice\", x=\"GrLivArea\", data=train)"
   ]
  },
  {
   "cell_type": "code",
   "execution_count": 9,
   "metadata": {
    "_uuid": "eb317c64ba3d6644f2adf025049ff0542d8b7090"
   },
   "outputs": [
    {
     "name": "stdout",
     "output_type": "stream",
     "text": [
      "Rows and columns after dropping outliers : (1458, 81)\n"
     ]
    }
   ],
   "source": [
    "train.drop(train[(train['GrLivArea']>4000) & (train['SalePrice']<200000)].index, inplace=True)\n",
    "print('Rows and columns after dropping outliers :' , train.shape )"
   ]
  },
  {
   "cell_type": "markdown",
   "metadata": {
    "_uuid": "4ea4b8ee583b39a2398c771c414ecac0c2a39fcd"
   },
   "source": [
    "Now I'll check every features and will scale the data."
   ]
  },
  {
   "cell_type": "code",
   "execution_count": 10,
   "metadata": {
    "_uuid": "17e5ec0beef4d6c08bccd8579adcbe1e33709691"
   },
   "outputs": [
    {
     "data": {
      "text/plain": [
       "Text(0.5, 1.0, 'MSSubClass Count')"
      ]
     },
     "execution_count": 10,
     "metadata": {},
     "output_type": "execute_result"
    },
    {
     "data": {
      "image/png": "[encoded data removed]",
      "text/plain": [
       "<Figure size 432x288 with 1 Axes>"
      ]
     },
     "metadata": {
      "needs_background": "light"
     },
     "output_type": "display_data"
    }
   ],
   "source": [
    "#MSSubClass : It identifies the type of dwelling involved in the sale.\n",
    "sns.countplot(x=\"MSSubClass\",data=train)\n",
    "plt.title('MSSubClass Count')\n",
    "# It contains pretty imbalanced data and I can't get any good insights from it ,so neglecting its effect.  "
   ]
  },
  {
   "cell_type": "code",
   "execution_count": 13,
   "metadata": {
    "_uuid": "2857fdbc3c34b4c130f04d74f4cf9201231469a2"
   },
   "outputs": [
    {
     "data": {
      "text/plain": [
       "['MSZoning',\n",
       " 'Street',\n",
       " 'Alley',\n",
       " 'LotShape',\n",
       " 'LandContour',\n",
       " 'Utilities',\n",
       " 'LotConfig',\n",
       " 'LandSlope',\n",
       " 'Neighborhood',\n",
       " 'Condition1',\n",
       " 'Condition2',\n",
       " 'BldgType',\n",
       " 'HouseStyle',\n",
       " 'RoofStyle',\n",
       " 'RoofMatl',\n",
       " 'Exterior1st',\n",
       " 'Exterior2nd',\n",
       " 'MasVnrType',\n",
       " 'ExterQual',\n",
       " 'ExterCond',\n",
       " 'Foundation',\n",
       " 'BsmtQual',\n",
       " 'BsmtCond',\n",
       " 'BsmtExposure',\n",
       " 'BsmtFinType1',\n",
       " 'BsmtFinType2',\n",
       " 'Heating',\n",
       " 'HeatingQC',\n",
       " 'CentralAir',\n",
       " 'Electrical',\n",
       " 'KitchenQual',\n",
       " 'Functiol',\n",
       " 'FireplaceQu',\n",
       " 'GarageType',\n",
       " 'GarageFinish',\n",
       " 'GarageQual',\n",
       " 'GarageCond',\n",
       " 'PavedDrive',\n",
       " 'PoolQC',\n",
       " 'Fence',\n",
       " 'MiscFeature',\n",
       " 'SaleType',\n",
       " 'SaleCondition']"
      ]
     },
     "execution_count": 13,
     "metadata": {},
     "output_type": "execute_result"
    }
   ],
   "source": [
    "cols = ['MSSubClass', 'MSZoning', 'LotFrontage', 'LotArea', 'Street',\n",
    "       'Alley', 'LotShape', 'LandContour', 'Utilities', 'LotConfig',\n",
    "       'LandSlope', 'Neighborhood', 'Condition1', 'Condition2', 'BldgType',\n",
    "       'HouseStyle', 'OverallQual', 'OverallCond', 'YearBuilt', 'YearRemodAdd',\n",
    "       'RoofStyle', 'RoofMatl', 'Exterior1st', 'Exterior2nd', 'MasVnrType',\n",
    "       'MasVnrArea', 'ExterQual', 'ExterCond', 'Foundation', 'BsmtQual',\n",
    "       'BsmtCond', 'BsmtExposure', 'BsmtFinType1', 'BsmtFinSF1',\n",
    "       'BsmtFinType2', 'BsmtFinSF2', 'BsmtUnfSF', 'TotalBsmtSF', 'Heating',\n",
    "       'HeatingQC', 'CentralAir', 'Electrical', '1stFlrSF', '2ndFlrSF',\n",
    "       'LowQualFinSF', 'GrLivArea', 'BsmtFullBath', 'BsmtHalfBath', 'FullBath',\n",
    "       'HalfBath', 'BedroomAbvGr', 'KitchebvGr', 'KitchenQual',\n",
    "       'TotRmsAbvGrd', 'Functiol', 'Fireplaces', 'FireplaceQu', 'GarageType',\n",
    "       'GarageYrBlt', 'GarageFinish', 'GarageCars', 'GarageArea', 'GarageQual',\n",
    "       'GarageCond', 'PavedDrive', 'WoodDeckSF', 'OpenPorchSF',\n",
    "       'EnclosedPorch', '3SsnPorch', 'ScreenPorch', 'PoolArea', 'PoolQC',\n",
    "       'Fence', 'MiscFeature', 'MiscVal', 'MoSold', 'YrSold', 'SaleType',\n",
    "       'SaleCondition', 'SalePrice']\n",
    "features=[]\n",
    "obj_col=[]\n",
    "for col in cols:\n",
    "    if (train[col].dtype) == object :\n",
    "        obj_col.append(col)\n",
    "obj_col        "
   ]
  },
  {
   "cell_type": "code",
   "execution_count": 14,
   "metadata": {
    "_uuid": "49f0847286d3da23015a876f6d5399e899a6c6d4"
   },
   "outputs": [],
   "source": [
    "#Plotting\n",
    "def plotting(col):\n",
    "    sns.countplot(x=col,data=train)\n",
    "    plt.title('CountPlot for '+ col)\n",
    "    print('No. of missing values are : ')\n",
    "    print(train[col].isnull().sum())\n",
    "    \n",
    "    "
   ]
  },
  {
   "cell_type": "code",
   "execution_count": 15,
   "metadata": {
    "_uuid": "9dbdec7784b7714e90d615c2ebdfa30e94105289"
   },
   "outputs": [
    {
     "name": "stdout",
     "output_type": "stream",
     "text": [
      "No. of missing values are : \n",
      "0\n"
     ]
    },
    {
     "data": {
      "image/png": "[encoded data removed]",
      "text/plain": [
       "<Figure size 432x288 with 1 Axes>"
      ]
     },
     "metadata": {
      "needs_background": "light"
     },
     "output_type": "display_data"
    }
   ],
   "source": [
    "#Zoning Classification :  Identifies the general zoning classification of the sale.\n",
    "plotting('MSZoning')"
   ]
  },
  {
   "cell_type": "code",
   "execution_count": 16,
   "metadata": {
    "_uuid": "14cafaef31d7ba4b38f8eb6cc0183a98bec91899"
   },
   "outputs": [
    {
     "name": "stdout",
     "output_type": "stream",
     "text": [
      "No. of missing values are : \n",
      "0\n"
     ]
    },
    {
     "data": {
      "image/png": "[encoded data removed]",
      "text/plain": [
       "<Figure size 432x288 with 1 Axes>"
      ]
     },
     "metadata": {
      "needs_background": "light"
     },
     "output_type": "display_data"
    }
   ],
   "source": [
    "#Street : Type of road access to property\n",
    "plotting('Street')"
   ]
  },
  {
   "cell_type": "code",
   "execution_count": 17,
   "metadata": {
    "_uuid": "d4c38f0ceb8f56effc03a613c0b4bd48944837bd"
   },
   "outputs": [
    {
     "name": "stdout",
     "output_type": "stream",
     "text": [
      "No. of missing values are : \n",
      "0\n"
     ]
    },
    {
     "data": {
      "image/png": "[encoded data removed]",
      "text/plain": [
       "<Figure size 432x288 with 1 Axes>"
      ]
     },
     "metadata": {
      "needs_background": "light"
     },
     "output_type": "display_data"
    }
   ],
   "source": [
    "# Lot Shape : General shape of property\n",
    "plotting('LotShape')\n",
    "features.append('LotShape')\n",
    "\n",
    "# Mapping its values\n",
    "train.LotShape=train.LotShape.replace({'Reg':1,'IR1':2,'IR2':3,'IR3':4})\n",
    "test.LotShape=test.LotShape.replace({'Reg':1,'IR1':2,'IR2':3,'IR3':4})"
   ]
  },
  {
   "cell_type": "code",
   "execution_count": 18,
   "metadata": {
    "_uuid": "04c909365087c17d61926ddd29acd6e6fa6542a7"
   },
   "outputs": [
    {
     "name": "stdout",
     "output_type": "stream",
     "text": [
      "No. of missing values are : \n",
      "0\n"
     ]
    },
    {
     "data": {
      "image/png": "[encoded data removed]",
      "text/plain": [
       "<Figure size 432x288 with 1 Axes>"
      ]
     },
     "metadata": {
      "needs_background": "light"
     },
     "output_type": "display_data"
    }
   ],
   "source": [
    "#LandContour: Flatness of the property\n",
    "plotting('LandContour')"
   ]
  },
  {
   "cell_type": "code",
   "execution_count": 19,
   "metadata": {
    "_uuid": "3f9eb9e38c818436f2384f052e6f74195684fdb2"
   },
   "outputs": [
    {
     "name": "stdout",
     "output_type": "stream",
     "text": [
      "No. of missing values are : \n",
      "0\n"
     ]
    },
    {
     "data": {
      "image/png": "[encoded data removed]",
      "text/plain": [
       "<Figure size 432x288 with 1 Axes>"
      ]
     },
     "metadata": {
      "needs_background": "light"
     },
     "output_type": "display_data"
    }
   ],
   "source": [
    "# Utilities: Type of utilities available\n",
    "plotting('Utilities')"
   ]
  },
  {
   "cell_type": "code",
   "execution_count": 20,
   "metadata": {
    "_uuid": "4c3e7493a6519e09bed0d3f584c4e79ece36b950"
   },
   "outputs": [
    {
     "name": "stdout",
     "output_type": "stream",
     "text": [
      "No. of missing values are : \n",
      "0\n"
     ]
    },
    {
     "data": {
      "image/png": "[encoded data removed]",
      "text/plain": [
       "<Figure size 432x288 with 1 Axes>"
      ]
     },
     "metadata": {
      "needs_background": "light"
     },
     "output_type": "display_data"
    }
   ],
   "source": [
    "#LotConfig: Lot configuration\n",
    "plotting('LotConfig')\n",
    "# Well it looks okayish as CornerLotConfig will surely boost the price.\n",
    "features.append('LotConfig')\n",
    "#Mapping the values to make this column suitable for model.\n",
    "train.LotConfig=train.LotConfig.replace({'Inside':1,'Corner':2,'CulDSac':3,'FR2':4,'FR3':5})\n",
    "test.LotConfig=test.LotConfig.replace({'Inside':1,'Corner':2,'CulDSac':3,'FR2':4,'FR3':5})"
   ]
  },
  {
   "cell_type": "code",
   "execution_count": 21,
   "metadata": {
    "_uuid": "397831caa9fe8ae9e0438a5896faf9e40b673157"
   },
   "outputs": [
    {
     "name": "stdout",
     "output_type": "stream",
     "text": [
      "No. of missing values are : \n",
      "0\n"
     ]
    },
    {
     "data": {
      "image/png": "[encoded data removed]",
      "text/plain": [
       "<Figure size 432x288 with 1 Axes>"
      ]
     },
     "metadata": {
      "needs_background": "light"
     },
     "output_type": "display_data"
    }
   ],
   "source": [
    "#LandSlope: Slope of property\n",
    "plotting('LandSlope')\n",
    "#This seems more biased towards Gentle Slope, so avoiding it."
   ]
  },
  {
   "cell_type": "code",
   "execution_count": 36,
   "metadata": {
    "_uuid": "6aac0eba0782c78fd2ff44b7d7ca06dfbd2391f9"
   },
   "outputs": [
    {
     "name": "stdout",
     "output_type": "stream",
     "text": [
      "                  SalePrice\n",
      "Neighborhood               \n",
      "1              98576.470588\n",
      "2             101443.018868\n",
      "3             127163.769517\n",
      "4             138242.336634\n",
      "5             154163.551724\n",
      "6             189777.028436\n",
      "7             202038.065041\n",
      "8             231219.029630\n",
      "9             310499.000000\n",
      "10            322880.898305\n",
      "mes           145847.080000\n",
      "No. of missing values are : \n",
      "0\n"
     ]
    },
    {
     "data": {
      "image/png": "[encoded data removed]",
      "text/plain": [
       "<Figure size 360x360 with 1 Axes>"
      ]
     },
     "metadata": {
      "needs_background": "light"
     },
     "output_type": "display_data"
    }
   ],
   "source": [
    "#Neighborhood: Physical locations within Ames city limits\n",
    "train_neighbor=train.copy()\n",
    "print(train_neighbor[['Neighborhood','SalePrice']].groupby(['Neighborhood'],as_index=True).mean())\n",
    "plt.figure(figsize=(5,5))\n",
    "plotting('Neighborhood')\n",
    "#This looks promising as Price varies from area to area and it can be seen through the mean of the prices of selected Neighborhood.\n",
    "features.append('Neighborhood')\n",
    "train.Neighborhood=train.Neighborhood.replace({'MeadowV':1,\n",
    "                                               'IDOTRR':2, 'BrDale':2,\n",
    "                                               'OldTown':3, 'Edwards':3, 'BrkSide':3,\n",
    "                                               'Sawyer':4, 'Blueste':4, 'SWISU':4, 'NAmes':4,\n",
    "                                               'NPkVill':5, 'Mitchel':5,\n",
    "                                               'SawyerW':6, 'Gilbert':6, 'NWAmes':6,\n",
    "                                               'Blmngtn':7, 'CollgCr':7, 'ClearCr':7, 'Crawfor':7,\n",
    "                                               'Veenker':8, 'Somerst':8, 'Timber':8,\n",
    "                                               'StoneBr':9,\n",
    "                                               'NoRidge':10, 'NridgHt':10})\n",
    "test.Neighborhood=test.Neighborhood.replace({'MeadowV':1,\n",
    "                                               'IDOTRR':2, 'BrDale':2,\n",
    "                                               'OldTown':3, 'Edwards':3, 'BrkSide':3,\n",
    "                                               'Sawyer':4, 'Blueste':4, 'SWISU':4, 'NAmes':4,\n",
    "                                               'NPkVill':5, 'Mitchel':5,\n",
    "                                               'SawyerW':6, 'Gilbert':6, 'NWAmes':6,\n",
    "                                               'Blmngtn':7, 'CollgCr':7, 'ClearCr':7, 'Crawfor':7,\n",
    "                                               'Veenker':8, 'Somerst':8, 'Timber':8,\n",
    "                                               'StoneBr':9,\n",
    "                                               'NoRidge':10, 'NridgHt':10})"
   ]
  },
  {
   "cell_type": "code",
   "execution_count": 23,
   "metadata": {
    "_uuid": "25045fb1540a1f8d79f9bc5a53cc106c1975dcf2"
   },
   "outputs": [
    {
     "name": "stdout",
     "output_type": "stream",
     "text": [
      "No. of missing values are : \n",
      "0\n"
     ]
    },
    {
     "data": {
      "image/png": "[encoded data removed]",
      "text/plain": [
       "<Figure size 432x288 with 1 Axes>"
      ]
     },
     "metadata": {
      "needs_background": "light"
     },
     "output_type": "display_data"
    }
   ],
   "source": [
    "#Condition1: Proximity to various conditions\n",
    "plotting('Condition1')\n",
    "#Oops ,this looks totally biased.      \n",
    "    "
   ]
  },
  {
   "cell_type": "code",
   "execution_count": 24,
   "metadata": {
    "_uuid": "35f10b56003481152f3286b3062ae291376e8376"
   },
   "outputs": [
    {
     "name": "stdout",
     "output_type": "stream",
     "text": [
      "No. of missing values are : \n",
      "0\n"
     ]
    },
    {
     "data": {
      "image/png": "[encoded data removed]",
      "text/plain": [
       "<Figure size 432x288 with 1 Axes>"
      ]
     },
     "metadata": {
      "needs_background": "light"
     },
     "output_type": "display_data"
    }
   ],
   "source": [
    "#Condition2: Proximity to various conditions (if more than one is present)\n",
    "plotting('Condition2')\n",
    "#JUst like, again biased data."
   ]
  },
  {
   "cell_type": "code",
   "execution_count": 25,
   "metadata": {
    "_uuid": "ba1bc6d8d625dcc25920a94ed0cd71cb39acd524"
   },
   "outputs": [
    {
     "name": "stdout",
     "output_type": "stream",
     "text": [
      "No. of missing values are : \n",
      "0\n"
     ]
    },
    {
     "data": {
      "image/png": "[encoded data removed]",
      "text/plain": [
       "<Figure size 432x288 with 1 Axes>"
      ]
     },
     "metadata": {
      "needs_background": "light"
     },
     "output_type": "display_data"
    },
    {
     "data": {
      "image/png": "[encoded data removed]",
      "text/plain": [
       "<Figure size 432x288 with 1 Axes>"
      ]
     },
     "metadata": {
      "needs_background": "light"
     },
     "output_type": "display_data"
    }
   ],
   "source": [
    "#HouseStyle: Style of dwelling\n",
    "plotting('HouseStyle')\n",
    "plt.show()\n",
    "sns.lineplot(y='SalePrice',x='HouseStyle',data=train)\n",
    "#Clearly it can be seen from the plots that HouseStyle has big effect on Saleprice.\n",
    "features.append('HouseStyle')\n",
    "#Mapping values \n",
    "train.HouseStyle=train.HouseStyle.replace({'1.5Unf':1, \n",
    "                                           '1.5Fin':2, '2.5Unf':2, 'SFoyer':2, \n",
    "                                           '1Story':3, 'SLvl':3,\n",
    "                                           '2Story':4, '2.5Fin':4})\n",
    "test.HouseStyle=test.HouseStyle.replace({'1.5Unf':1, \n",
    "                                           '1.5Fin':2, '2.5Unf':2, 'SFoyer':2, \n",
    "                                           '1Story':3, 'SLvl':3,\n",
    "                                           '2Story':4, '2.5Fin':4})\n"
   ]
  },
  {
   "cell_type": "code",
   "execution_count": 42,
   "metadata": {
    "_uuid": "fd120429ade90457b8a4db6109f691a0b195f367"
   },
   "outputs": [
    {
     "name": "stdout",
     "output_type": "stream",
     "text": [
      "No. of missing values are : \n",
      "0\n"
     ]
    },
    {
     "data": {
      "image/png": "[encoded data removed]",
      "text/plain": [
       "<Figure size 720x360 with 1 Axes>"
      ]
     },
     "metadata": {
      "needs_background": "light"
     },
     "output_type": "display_data"
    },
    {
     "data": {
      "image/png": "[encoded data removed]",
      "text/plain": [
       "<Figure size 720x360 with 1 Axes>"
      ]
     },
     "metadata": {
      "needs_background": "light"
     },
     "output_type": "display_data"
    }
   ],
   "source": [
    "#YearBuilt: Original construction\n",
    "plt.figure(figsize=(10,5))\n",
    "plotting('YearBuilt')\n",
    "plt.show()\n",
    "plt.figure(figsize=(10,5))\n",
    "sns.lineplot(y='SalePrice',x='YearBuilt',data=train)\n",
    "# It is clearly visible. So it should be part of our features variable.\n",
    "features.append('YearBuilt')"
   ]
  },
  {
   "cell_type": "code",
   "execution_count": 27,
   "metadata": {
    "_uuid": "cd9d0df463e5a506cc2a05550c8638cbd755983d"
   },
   "outputs": [
    {
     "name": "stdout",
     "output_type": "stream",
     "text": [
      "No. of missing values are : \n",
      "0\n"
     ]
    },
    {
     "data": {
      "image/png": "[encoded data removed]",
      "text/plain": [
       "<Figure size 432x288 with 1 Axes>"
      ]
     },
     "metadata": {
      "needs_background": "light"
     },
     "output_type": "display_data"
    },
    {
     "name": "stdout",
     "output_type": "stream",
     "text": [
      "No. of missing values are : \n",
      "0\n"
     ]
    },
    {
     "data": {
      "image/png": "[encoded data removed]",
      "text/plain": [
       "<Figure size 432x288 with 1 Axes>"
      ]
     },
     "metadata": {
      "needs_background": "light"
     },
     "output_type": "display_data"
    }
   ],
   "source": [
    "#Roof Style : Type of roof\n",
    "plotting('RoofStyle')\n",
    "plt.show()\n",
    "#RoofMatl: Roof material\n",
    "plotting('RoofMatl')\n",
    "    \n",
    "#Both are biased.    "
   ]
  },
  {
   "cell_type": "code",
   "execution_count": 46,
   "metadata": {
    "_uuid": "9c4b64f84eea6b82a1988905780c07b4d6a7a989"
   },
   "outputs": [
    {
     "name": "stdout",
     "output_type": "stream",
     "text": [
      "No. of missing values are : \n",
      "0\n"
     ]
    },
    {
     "data": {
      "image/png": "[encoded data removed]",
      "text/plain": [
       "<Figure size 432x288 with 1 Axes>"
      ]
     },
     "metadata": {
      "needs_background": "light"
     },
     "output_type": "display_data"
    },
    {
     "data": {
      "text/plain": [
       "<Figure size 720x720 with 0 Axes>"
      ]
     },
     "metadata": {},
     "output_type": "display_data"
    },
    {
     "name": "stdout",
     "output_type": "stream",
     "text": [
      "No. of missing values are : \n",
      "0\n"
     ]
    },
    {
     "data": {
      "image/png": "[encoded data removed]",
      "text/plain": [
       "<Figure size 1080x576 with 1 Axes>"
      ]
     },
     "metadata": {
      "needs_background": "light"
     },
     "output_type": "display_data"
    }
   ],
   "source": [
    "#Exteriors\n",
    "#Exterior1st: Exterior covering on house\n",
    "plotting('Exterior1st')\n",
    "plt.figure(figsize=(10,10))\n",
    "plt.show()\n",
    "#Exterior2nd: Exterior covering on house (if more than one material)\n",
    "plt.figure(figsize=(15,8))\n",
    "plotting('Exterior2nd')\n",
    "plt.show()\n",
    "\n",
    "train.Exterior1st=train.Exterior1st.replace({'BrkComm':1,\n",
    "                                             'AsphShn':2, 'CBlock':2, 'AsbShng':2,\n",
    "                                             'WdShing':3, 'Wd Sdng':3, 'MetalSd':3, 'Stucco':3, 'HdBoard':3,\n",
    "                                             'BrkFace':4, 'Plywood':4,\n",
    "                                             'VinylSd':5,\n",
    "                                             'CemntBd':6,\n",
    "                                             'Stone':7, 'ImStucc':7})\n",
    "\n",
    "test.Exterior1st=test.Exterior1st.replace({'BrkComm':1,\n",
    "                                             'AsphShn':2, 'CBlock':2, 'AsbShng':2,\n",
    "                                             'WdShing':3, 'Wd Sdng':3, 'MetalSd':3, 'Stucco':3, 'HdBoard':3,\n",
    "                                             'BrkFace':4, 'Plywood':4,\n",
    "                                             'VinylSd':5,\n",
    "                                             'CemntBd':6,\n",
    "                                            'Stone':7, 'ImStucc':7})\n",
    "\n",
    "features.append('Exterior1st')\n",
    "\n",
    "\n",
    " "
   ]
  },
  {
   "cell_type": "code",
   "execution_count": 29,
   "metadata": {
    "_uuid": "317c7a5f2368417168ee29d8a438fa204b031d3a"
   },
   "outputs": [
    {
     "name": "stdout",
     "output_type": "stream",
     "text": [
      "No. of missing values are : \n",
      "0\n"
     ]
    },
    {
     "data": {
      "image/png": "[encoded data removed]",
      "text/plain": [
       "<Figure size 432x288 with 1 Axes>"
      ]
     },
     "metadata": {
      "needs_background": "light"
     },
     "output_type": "display_data"
    },
    {
     "data": {
      "image/png": "[encoded data removed]",
      "text/plain": [
       "<Figure size 432x288 with 1 Axes>"
      ]
     },
     "metadata": {
      "needs_background": "light"
     },
     "output_type": "display_data"
    }
   ],
   "source": [
    "#feetExterQual: Evaluates the quality of the material on the exterior \n",
    "\n",
    "plotting('ExterQual')\n",
    "plt.show()\n",
    "sns.lineplot(y='SalePrice',x='ExterQual',data=train)\n",
    "features.append('ExterQual')\n",
    "train.ExterQual = train.ExterQual.replace({'Fa':1, 'TA':2, 'Gd':3, 'Ex':4})\n",
    "test.ExterQual = test.ExterQual.replace({'Fa':1, 'TA':2, 'Gd':3, 'Ex':4})"
   ]
  },
  {
   "cell_type": "code",
   "execution_count": 30,
   "metadata": {
    "_uuid": "639fb88c78ca40479e608d2ea55c739feffd2320"
   },
   "outputs": [
    {
     "name": "stdout",
     "output_type": "stream",
     "text": [
      "No. of missing values are : \n",
      "0\n"
     ]
    },
    {
     "data": {
      "image/png": "[encoded data removed]",
      "text/plain": [
       "<Figure size 432x288 with 1 Axes>"
      ]
     },
     "metadata": {
      "needs_background": "light"
     },
     "output_type": "display_data"
    },
    {
     "data": {
      "image/png": "[encoded data removed]",
      "text/plain": [
       "<Figure size 432x288 with 1 Axes>"
      ]
     },
     "metadata": {
      "needs_background": "light"
     },
     "output_type": "display_data"
    }
   ],
   "source": [
    "#Foundation: Type of foundation\n",
    "plotting('Foundation')\n",
    "plt.show()\n",
    "sns.lineplot(y='SalePrice',x='Foundation',data=train)\n",
    "train.Foundation=train.Foundation.replace({'Slab':1, \n",
    "                                           'BrkTil':2, 'CBlock':2, 'Stone':2,\n",
    "                                           'Wood':3, 'PConc':4})\n",
    "test.Foundation=test.Foundation.replace({'Slab':1, \n",
    "                                           'BrkTil':2, 'CBlock':2, 'Stone':2,\n",
    "                                           'Wood':3, 'PConc':4})\n",
    "features.append('Foundation')"
   ]
  },
  {
   "cell_type": "code",
   "execution_count": 47,
   "metadata": {
    "_uuid": "b928e06b065603359d5a50e72f34cf11194d7624"
   },
   "outputs": [
    {
     "name": "stdout",
     "output_type": "stream",
     "text": [
      "No. of missing values are : \n",
      "37\n"
     ]
    },
    {
     "data": {
      "image/png": "[encoded data removed]",
      "text/plain": [
       "<Figure size 432x288 with 1 Axes>"
      ]
     },
     "metadata": {
      "needs_background": "light"
     },
     "output_type": "display_data"
    }
   ],
   "source": [
    "#BsmtQual: Evaluates the height of the basement\n",
    "plotting('BsmtQual')\n",
    "train.BsmtQual=train.BsmtQual.fillna('None').replace({'Fa':2, 'None':1, 'TA':3, 'Gd':4, 'Ex':5})\n",
    "test.BsmtQual=test.BsmtQual.fillna('None').replace({'Fa':2, 'None':1, 'TA':3, 'Gd':4, 'Ex':5})\n",
    "features.append('BsmtQual')"
   ]
  },
  {
   "cell_type": "code",
   "execution_count": 48,
   "metadata": {
    "_uuid": "7630d4285387f63679676e4debc48314764eb162"
   },
   "outputs": [
    {
     "name": "stdout",
     "output_type": "stream",
     "text": [
      "No. of missing values are : \n",
      "38\n"
     ]
    },
    {
     "data": {
      "image/png": "[encoded data removed]",
      "text/plain": [
       "<Figure size 432x288 with 1 Axes>"
      ]
     },
     "metadata": {
      "needs_background": "light"
     },
     "output_type": "display_data"
    }
   ],
   "source": [
    "#BsmtExposure: Refers to walkout or garden level walls\n",
    "plotting('BsmtExposure')\n",
    "train.BsmtExposure=train.BsmtExposure.fillna('None').replace({'None':1, 'No':2, 'Av':3, 'Mn':3, 'Gd':4})\n",
    "test.BsmtExposure=test.BsmtExposure.fillna('None').replace({'None':1, 'No':2, 'Av':3, 'Mn':3, 'Gd':4}) \n",
    "features.append('BsmtExposure')"
   ]
  },
  {
   "cell_type": "code",
   "execution_count": 49,
   "metadata": {
    "_uuid": "d5de78e7d7162a9cd7dcfa48d4fe38138d3abf06"
   },
   "outputs": [
    {
     "name": "stdout",
     "output_type": "stream",
     "text": [
      "No. of missing values are : \n",
      "0\n"
     ]
    },
    {
     "data": {
      "image/png": "[encoded data removed]",
      "text/plain": [
       "<Figure size 432x288 with 1 Axes>"
      ]
     },
     "metadata": {
      "needs_background": "light"
     },
     "output_type": "display_data"
    }
   ],
   "source": [
    "#HeatingQC :Heating quality and condition  \n",
    "plotting('HeatingQC')\n",
    "train.HeatingQC.replace({'Po':1, 'Fa':2, 'TA':3, 'Gd':4, 'Ex':5},inplace=True)\n",
    "test.HeatingQC.replace({'Po':1, 'Fa':2, 'TA':3, 'Gd':4, 'Ex':5},inplace=True)\n",
    "features.append('HeatingQC')"
   ]
  },
  {
   "cell_type": "code",
   "execution_count": 50,
   "metadata": {
    "_uuid": "f28e2c33e777ed4eb95c58e7f031efaa421d93db"
   },
   "outputs": [
    {
     "name": "stdout",
     "output_type": "stream",
     "text": [
      "No. of missing values are : \n",
      "0\n"
     ]
    },
    {
     "data": {
      "image/png": "[encoded data removed]",
      "text/plain": [
       "<Figure size 432x288 with 1 Axes>"
      ]
     },
     "metadata": {
      "needs_background": "light"
     },
     "output_type": "display_data"
    }
   ],
   "source": [
    "#KitchenQual: Kitchen quality\n",
    "plotting('KitchenQual')\n",
    "train.KitchenQual.replace({'Fa':1, 'TA':2, 'Gd':3, 'Ex':4},inplace=True)\n",
    "test.KitchenQual.replace({'Fa':1, 'TA':2, 'Gd':3, 'Ex':4},inplace=True)\n",
    "features.append('KitchenQual')\n",
    " "
   ]
  },
  {
   "cell_type": "code",
   "execution_count": 52,
   "metadata": {
    "_uuid": "82c7d930055b27728637a0cd0425212ac748c7c9"
   },
   "outputs": [
    {
     "name": "stdout",
     "output_type": "stream",
     "text": [
      "No. of missing values are : \n",
      "690\n"
     ]
    },
    {
     "data": {
      "image/png": "[encoded data removed]",
      "text/plain": [
       "<Figure size 432x288 with 1 Axes>"
      ]
     },
     "metadata": {
      "needs_background": "light"
     },
     "output_type": "display_data"
    }
   ],
   "source": [
    "#FireplaceQu: Fireplace quality\n",
    "plotting('FireplaceQu')\n",
    "train.FireplaceQu.fillna('None',inplace=True)\n",
    "train.FireplaceQu.replace({'None':1, 'Po':1, 'Fa':2, 'TA':3, 'Gd':4, 'Ex':5},inplace=True)\n",
    "test.FireplaceQu.fillna('None',inplace=True)\n",
    "test.FireplaceQu.replace({'None':1, 'Po':1, 'Fa':2, 'TA':3, 'Gd':4, 'Ex':5},inplace=True)\n",
    "features.append('FireplaceQu')\n",
    "\n",
    "\n"
   ]
  },
  {
   "cell_type": "code",
   "execution_count": 51,
   "metadata": {
    "_uuid": "0e37e8e6cef0fadae8ae604828445538c0299a0f"
   },
   "outputs": [
    {
     "name": "stdout",
     "output_type": "stream",
     "text": [
      "No. of missing values are : \n",
      "81\n"
     ]
    },
    {
     "data": {
      "image/png": "[encoded data removed]",
      "text/plain": [
       "<Figure size 432x288 with 1 Axes>"
      ]
     },
     "metadata": {
      "needs_background": "light"
     },
     "output_type": "display_data"
    }
   ],
   "source": [
    "#GarageType: Garage location\n",
    "plotting('GarageType')\n",
    "train.GarageType.fillna('None',inplace=True)\n",
    "test.GarageType.fillna('None',inplace=True)\n",
    "train.GarageType.replace({'CarPort':1, 'None':1,\n",
    "                                           'Detchd':2,\n",
    "                                           '2Types':3, 'Basment':3,\n",
    "                                           'Attchd':4, 'BuiltIn':5},inplace=True)\n",
    "test.GarageType.replace({'CarPort':1, 'None':1,\n",
    "                                           'Detchd':2,\n",
    "                                           '2Types':3, 'Basment':3,\n",
    "                                           'Attchd':4, 'BuiltIn':5},inplace=True)\n",
    "features.append('GarageType')\n",
    "\n"
   ]
  },
  {
   "cell_type": "code",
   "execution_count": 53,
   "metadata": {
    "_uuid": "c802a0a8c72ad3073a24967bf8c700e45d5cf1b1"
   },
   "outputs": [
    {
     "name": "stdout",
     "output_type": "stream",
     "text": [
      "No. of missing values are : \n",
      "81\n"
     ]
    },
    {
     "data": {
      "image/png": "[encoded data removed]",
      "text/plain": [
       "<Figure size 432x288 with 1 Axes>"
      ]
     },
     "metadata": {
      "needs_background": "light"
     },
     "output_type": "display_data"
    }
   ],
   "source": [
    "#GarageFinish: Interior finish of the garage\n",
    "plotting('GarageFinish')\n",
    "train.GarageFinish.fillna('None',inplace=True)\n",
    "test.GarageFinish.fillna('None',inplace=True)\n",
    "train.GarageFinish.replace({'None':1, 'Unf':2, 'RFn':3, 'Fin':4},inplace=True)\n",
    "test.GarageFinish.replace({'None':1, 'Unf':2, 'RFn':3, 'Fin':4},inplace=True)\n",
    "features.append('GarageFinish')\n",
    " "
   ]
  },
  {
   "cell_type": "code",
   "execution_count": 54,
   "metadata": {
    "_uuid": "7b612aaa66549a9f74199dfa1123e1d01da3f1fc"
   },
   "outputs": [
    {
     "data": {
      "text/plain": [
       "(2918, 80)"
      ]
     },
     "execution_count": 54,
     "metadata": {},
     "output_type": "execute_result"
    }
   ],
   "source": [
    "full=pd.concat([train,test],ignore_index=True)\n",
    "full.drop('Id',axis=1,inplace=True)\n",
    "full.shape"
   ]
  },
  {
   "cell_type": "code",
   "execution_count": 55,
   "metadata": {
    "_uuid": "7d446e8b40e3199846078b84307e507f8bd5ae81"
   },
   "outputs": [
    {
     "data": {
      "text/plain": [
       "PoolQC         2905\n",
       "MiscFeature    2810\n",
       "Alley          2736\n",
       "Fence          2356\n",
       "LotFrontage     518\n",
       "               ... \n",
       "ExterCond         0\n",
       "ExterQual         0\n",
       "Exterior2nd       0\n",
       "Exterior1st       0\n",
       "SalePrice         0\n",
       "Length: 80, dtype: int64"
      ]
     },
     "execution_count": 55,
     "metadata": {},
     "output_type": "execute_result"
    }
   ],
   "source": [
    "full.isnull().sum().sort_values(ascending=False)"
   ]
  },
  {
   "cell_type": "code",
   "execution_count": 56,
   "metadata": {
    "_uuid": "88f18081a151ed63b9ce6126616a759cd81f8d1c"
   },
   "outputs": [
    {
     "data": {
      "text/html": [
       "<div>\n",
       "<style scoped>\n",
       "    .dataframe tbody tr th:only-of-type {\n",
       "        vertical-align: middle;\n",
       "    }\n",
       "\n",
       "    .dataframe tbody tr th {\n",
       "        vertical-align: top;\n",
       "    }\n",
       "\n",
       "    .dataframe thead tr th {\n",
       "        text-align: left;\n",
       "    }\n",
       "\n",
       "    .dataframe thead tr:last-of-type th {\n",
       "        text-align: right;\n",
       "    }\n",
       "</style>\n",
       "<table border=\"1\" class=\"dataframe\">\n",
       "  <thead>\n",
       "    <tr>\n",
       "      <th></th>\n",
       "      <th colspan=\"3\" halign=\"left\">LotFrontage</th>\n",
       "    </tr>\n",
       "    <tr>\n",
       "      <th></th>\n",
       "      <th>mean</th>\n",
       "      <th>median</th>\n",
       "      <th>count</th>\n",
       "    </tr>\n",
       "    <tr>\n",
       "      <th>Neighborhood</th>\n",
       "      <th></th>\n",
       "      <th></th>\n",
       "      <th></th>\n",
       "    </tr>\n",
       "  </thead>\n",
       "  <tbody>\n",
       "    <tr>\n",
       "      <th>1</th>\n",
       "      <td>27.800000</td>\n",
       "      <td>21.0</td>\n",
       "      <td>15</td>\n",
       "    </tr>\n",
       "    <tr>\n",
       "      <th>2</th>\n",
       "      <td>49.400000</td>\n",
       "      <td>50.0</td>\n",
       "      <td>50</td>\n",
       "    </tr>\n",
       "    <tr>\n",
       "      <th>3</th>\n",
       "      <td>62.440000</td>\n",
       "      <td>60.0</td>\n",
       "      <td>250</td>\n",
       "    </tr>\n",
       "    <tr>\n",
       "      <th>4</th>\n",
       "      <td>68.164384</td>\n",
       "      <td>66.0</td>\n",
       "      <td>73</td>\n",
       "    </tr>\n",
       "    <tr>\n",
       "      <th>5</th>\n",
       "      <td>63.930233</td>\n",
       "      <td>69.0</td>\n",
       "      <td>43</td>\n",
       "    </tr>\n",
       "    <tr>\n",
       "      <th>6</th>\n",
       "      <td>77.409722</td>\n",
       "      <td>76.0</td>\n",
       "      <td>144</td>\n",
       "    </tr>\n",
       "    <tr>\n",
       "      <th>7</th>\n",
       "      <td>70.726804</td>\n",
       "      <td>70.0</td>\n",
       "      <td>194</td>\n",
       "    </tr>\n",
       "    <tr>\n",
       "      <th>8</th>\n",
       "      <td>68.400000</td>\n",
       "      <td>75.0</td>\n",
       "      <td>115</td>\n",
       "    </tr>\n",
       "    <tr>\n",
       "      <th>9</th>\n",
       "      <td>62.700000</td>\n",
       "      <td>61.5</td>\n",
       "      <td>20</td>\n",
       "    </tr>\n",
       "    <tr>\n",
       "      <th>10</th>\n",
       "      <td>84.908257</td>\n",
       "      <td>90.0</td>\n",
       "      <td>109</td>\n",
       "    </tr>\n",
       "    <tr>\n",
       "      <th>mes</th>\n",
       "      <td>76.462366</td>\n",
       "      <td>73.0</td>\n",
       "      <td>186</td>\n",
       "    </tr>\n",
       "  </tbody>\n",
       "</table>\n",
       "</div>"
      ],
      "text/plain": [
       "             LotFrontage             \n",
       "                    mean median count\n",
       "Neighborhood                         \n",
       "1              27.800000   21.0    15\n",
       "2              49.400000   50.0    50\n",
       "3              62.440000   60.0   250\n",
       "4              68.164384   66.0    73\n",
       "5              63.930233   69.0    43\n",
       "6              77.409722   76.0   144\n",
       "7              70.726804   70.0   194\n",
       "8              68.400000   75.0   115\n",
       "9              62.700000   61.5    20\n",
       "10             84.908257   90.0   109\n",
       "mes            76.462366   73.0   186"
      ]
     },
     "execution_count": 56,
     "metadata": {},
     "output_type": "execute_result"
    }
   ],
   "source": [
    "train.groupby(['Neighborhood'])[['LotFrontage']].agg(['mean','median','count'])\n",
    "\n"
   ]
  },
  {
   "cell_type": "code",
   "execution_count": 57,
   "metadata": {
    "_uuid": "95088d13be948b6d5596e962de0040bb0b7759e8"
   },
   "outputs": [
    {
     "data": {
      "text/html": [
       "<div>\n",
       "<style scoped>\n",
       "    .dataframe tbody tr th:only-of-type {\n",
       "        vertical-align: middle;\n",
       "    }\n",
       "\n",
       "    .dataframe tbody tr th {\n",
       "        vertical-align: top;\n",
       "    }\n",
       "\n",
       "    .dataframe thead tr th {\n",
       "        text-align: left;\n",
       "    }\n",
       "\n",
       "    .dataframe thead tr:last-of-type th {\n",
       "        text-align: right;\n",
       "    }\n",
       "</style>\n",
       "<table border=\"1\" class=\"dataframe\">\n",
       "  <thead>\n",
       "    <tr>\n",
       "      <th></th>\n",
       "      <th colspan=\"3\" halign=\"left\">LotFrontage</th>\n",
       "    </tr>\n",
       "    <tr>\n",
       "      <th></th>\n",
       "      <th>mean</th>\n",
       "      <th>median</th>\n",
       "      <th>count</th>\n",
       "    </tr>\n",
       "    <tr>\n",
       "      <th>LotAreaCut</th>\n",
       "      <th></th>\n",
       "      <th></th>\n",
       "      <th></th>\n",
       "    </tr>\n",
       "  </thead>\n",
       "  <tbody>\n",
       "    <tr>\n",
       "      <th>(1299.999, 5000.0]</th>\n",
       "      <td>36.691057</td>\n",
       "      <td>35.0</td>\n",
       "      <td>123</td>\n",
       "    </tr>\n",
       "    <tr>\n",
       "      <th>(5000.0, 7078.4]</th>\n",
       "      <td>55.984252</td>\n",
       "      <td>52.0</td>\n",
       "      <td>127</td>\n",
       "    </tr>\n",
       "    <tr>\n",
       "      <th>(7078.4, 8063.7]</th>\n",
       "      <td>63.869919</td>\n",
       "      <td>61.0</td>\n",
       "      <td>123</td>\n",
       "    </tr>\n",
       "    <tr>\n",
       "      <th>(8063.7, 8793.4]</th>\n",
       "      <td>67.120301</td>\n",
       "      <td>65.0</td>\n",
       "      <td>133</td>\n",
       "    </tr>\n",
       "    <tr>\n",
       "      <th>(8793.4, 9478.5]</th>\n",
       "      <td>70.598361</td>\n",
       "      <td>70.5</td>\n",
       "      <td>122</td>\n",
       "    </tr>\n",
       "    <tr>\n",
       "      <th>(9478.5, 10198.2]</th>\n",
       "      <td>75.232558</td>\n",
       "      <td>76.0</td>\n",
       "      <td>129</td>\n",
       "    </tr>\n",
       "    <tr>\n",
       "      <th>(10198.2, 11066.5]</th>\n",
       "      <td>73.829268</td>\n",
       "      <td>75.0</td>\n",
       "      <td>123</td>\n",
       "    </tr>\n",
       "    <tr>\n",
       "      <th>(11066.5, 12205.8]</th>\n",
       "      <td>84.754386</td>\n",
       "      <td>84.5</td>\n",
       "      <td>114</td>\n",
       "    </tr>\n",
       "    <tr>\n",
       "      <th>(12205.8, 14381.7]</th>\n",
       "      <td>84.611111</td>\n",
       "      <td>85.0</td>\n",
       "      <td>108</td>\n",
       "    </tr>\n",
       "    <tr>\n",
       "      <th>(14381.7, 215245.0]</th>\n",
       "      <td>96.212121</td>\n",
       "      <td>90.0</td>\n",
       "      <td>99</td>\n",
       "    </tr>\n",
       "  </tbody>\n",
       "</table>\n",
       "</div>"
      ],
      "text/plain": [
       "                    LotFrontage             \n",
       "                           mean median count\n",
       "LotAreaCut                                  \n",
       "(1299.999, 5000.0]    36.691057   35.0   123\n",
       "(5000.0, 7078.4]      55.984252   52.0   127\n",
       "(7078.4, 8063.7]      63.869919   61.0   123\n",
       "(8063.7, 8793.4]      67.120301   65.0   133\n",
       "(8793.4, 9478.5]      70.598361   70.5   122\n",
       "(9478.5, 10198.2]     75.232558   76.0   129\n",
       "(10198.2, 11066.5]    73.829268   75.0   123\n",
       "(11066.5, 12205.8]    84.754386   84.5   114\n",
       "(12205.8, 14381.7]    84.611111   85.0   108\n",
       "(14381.7, 215245.0]   96.212121   90.0    99"
      ]
     },
     "execution_count": 57,
     "metadata": {},
     "output_type": "execute_result"
    }
   ],
   "source": [
    "train['LotAreaCut'] = pd.qcut(train.LotArea,10)\n",
    "\n",
    "train.groupby([train['LotAreaCut']])[['LotFrontage']].agg(['mean','median','count'])\n",
    "\n",
    "test['LotAreaCut'] = pd.qcut(test.LotArea,10)\n",
    "\n",
    "test.groupby([test['LotAreaCut']])[['LotFrontage']].agg(['mean','median','count'])"
   ]
  },
  {
   "cell_type": "code",
   "execution_count": 58,
   "metadata": {
    "_uuid": "00ad457e027ca21ae980cad2fcde64b539136816"
   },
   "outputs": [],
   "source": [
    "train['LotFrontage']= train.groupby(['LotAreaCut','Neighborhood'])['LotFrontage'].transform(lambda x : x.fillna(x.median()))\n",
    "test['LotFrontage']= test.groupby(['LotAreaCut'])['LotFrontage'].transform(lambda x : x.fillna(x.median()))"
   ]
  },
  {
   "cell_type": "markdown",
   "metadata": {
    "_uuid": "a8bc52f73a66baa5e442452dd7a834487d0ff9ff"
   },
   "source": [
    "These columns are having plenty of missing values , so it is good idea  to fill them with 0."
   ]
  },
  {
   "cell_type": "code",
   "execution_count": 59,
   "metadata": {
    "_uuid": "f4e6aedcd6bddd97f8a7569a1f1a9cc59d133b51"
   },
   "outputs": [],
   "source": [
    "columns = [\"MasVnrArea\", \"BsmtUnfSF\", \"TotalBsmtSF\", \"GarageCars\", \"BsmtFinSF2\", \"BsmtFinSF1\", \"GarageArea\"]\n",
    "for col in columns:\n",
    "    train[col].fillna(0,inplace= True)\n",
    "for col in columns:\n",
    "    test[col].fillna(0,inplace=True)"
   ]
  },
  {
   "cell_type": "code",
   "execution_count": 60,
   "metadata": {
    "_uuid": "d731b99332a8ed8bfad00c3933ad6ae4cd58751d"
   },
   "outputs": [],
   "source": [
    "columns1 = [\"PoolQC\" , \"MiscFeature\", \"Alley\", \"Fence\", \"FireplaceQu\", \"GarageQual\", \"GarageCond\", \"GarageFinish\",\n",
    "\"GarageYrBlt\", \"GarageType\", \"BsmtExposure\", \"BsmtCond\", \"BsmtQual\", \"BsmtFinType2\", \"BsmtFinType1\", \"MasVnrType\"]\n",
    "for col1 in columns1:\n",
    "    train[col1].fillna('None',inplace = True)\n",
    "    test[col1].fillna('None',inplace=True)"
   ]
  },
  {
   "cell_type": "markdown",
   "metadata": {
    "_uuid": "32db29126700ac66ed89e571bb5d654a055e23b4"
   },
   "source": [
    "These columns are having very few missing values , so I'm filling them with their mode."
   ]
  },
  {
   "cell_type": "code",
   "execution_count": 64,
   "metadata": {
    "_uuid": "63fa8022a6904e56254d945897618e8708f5dc82"
   },
   "outputs": [],
   "source": [
    "columns2 = [\"MSZoning\", \"BsmtFullBath\", \"BsmtHalfBath\", \"Utilities\", \"Functiol\",\n",
    "            \"Electrical\", \"KitchenQual\", \"SaleType\",\"Exterior1st\", \"Exterior2nd\"]\n",
    "\n",
    "for col2 in columns2:\n",
    "    train[col2].fillna(full[col2].mode()[0],inplace = True)\n",
    "    test[col2].fillna(full[col2].mode()[0],inplace = True)"
   ]
  },
  {
   "cell_type": "code",
   "execution_count": 67,
   "metadata": {
    "_uuid": "750583fa123acfa4991df84602aeea057466e974"
   },
   "outputs": [],
   "source": [
    "train.drop(\"LotArea\",axis=1,inplace=True)\n",
    "test.drop(\"LotArea\",axis=1,inplace=True)"
   ]
  },
  {
   "cell_type": "code",
   "execution_count": 68,
   "metadata": {
    "_uuid": "4ba8a3836590e22588bfd533f95b83ee4b9dc0ff"
   },
   "outputs": [
    {
     "data": {
      "text/plain": [
       "['LotShape',\n",
       " 'LotConfig',\n",
       " 'Neighborhood',\n",
       " 'HouseStyle',\n",
       " 'YearBuilt',\n",
       " 'Exterior1st',\n",
       " 'ExterQual',\n",
       " 'Foundation',\n",
       " 'Exterior1st',\n",
       " 'Exterior1st',\n",
       " 'Exterior1st',\n",
       " 'Exterior1st',\n",
       " 'Neighborhood',\n",
       " 'Neighborhood',\n",
       " 'YearBuilt',\n",
       " 'YearBuilt',\n",
       " 'YearBuilt',\n",
       " 'YearBuilt',\n",
       " 'Exterior1st',\n",
       " 'Exterior1st',\n",
       " 'Exterior1st',\n",
       " 'Exterior1st',\n",
       " 'BsmtQual',\n",
       " 'BsmtExposure',\n",
       " 'HeatingQC',\n",
       " 'KitchenQual',\n",
       " 'GarageType',\n",
       " 'FireplaceQu',\n",
       " 'GarageFinish']"
      ]
     },
     "execution_count": 68,
     "metadata": {},
     "output_type": "execute_result"
    }
   ],
   "source": [
    "features"
   ]
  },
  {
   "cell_type": "code",
   "execution_count": null,
   "metadata": {
    "_uuid": "52700357e8c9c270eb8dbed35aa7217efb1a8c8b"
   },
   "outputs": [],
   "source": [
    "cols_num = [\"MSSubClass\",\"BsmtFullBath\",\"BsmtHalfBath\",\"HalfBath\",\"BedroomAbvGr\",\"KitchenAbvGr\",\"MoSold\",\n",
    "          \"YrSold\",\"YearBuilt\",\"YearRemodAdd\",\"LowQualFinSF\",\"GarageYrBlt\"]\n",
    "\n",
    "for i in cols_num :\n",
    "    train[i]=train[i].astype(str)\n",
    "    test[i]=test[i].astype(str)"
   ]
  },
  {
   "cell_type": "code",
   "execution_count": 66,
   "metadata": {
    "_uuid": "35c2585dcbf4e23ce3e4bc754e59315263674b2f"
   },
   "outputs": [
    {
     "data": {
      "text/plain": [
       "['LotShape',\n",
       " 'LotConfig',\n",
       " 'Neighborhood',\n",
       " 'HouseStyle',\n",
       " 'YearBuilt',\n",
       " 'Exterior1st',\n",
       " 'ExterQual',\n",
       " 'Foundation',\n",
       " 'Exterior1st',\n",
       " 'Exterior1st',\n",
       " 'Exterior1st',\n",
       " 'Exterior1st',\n",
       " 'Neighborhood',\n",
       " 'Neighborhood',\n",
       " 'YearBuilt',\n",
       " 'YearBuilt',\n",
       " 'YearBuilt',\n",
       " 'YearBuilt',\n",
       " 'Exterior1st',\n",
       " 'Exterior1st',\n",
       " 'Exterior1st',\n",
       " 'Exterior1st',\n",
       " 'BsmtQual',\n",
       " 'BsmtExposure',\n",
       " 'HeatingQC',\n",
       " 'KitchenQual',\n",
       " 'GarageType',\n",
       " 'FireplaceQu',\n",
       " 'GarageFinish']"
      ]
     },
     "execution_count": 66,
     "metadata": {},
     "output_type": "execute_result"
    }
   ],
   "source": [
    "features"
   ]
  },
  {
   "cell_type": "code",
   "execution_count": 69,
   "metadata": {
    "_uuid": "4fd2affec246a5767075b049707c1fae4c27620f"
   },
   "outputs": [
    {
     "data": {
      "text/plain": [
       "Id             0\n",
       "MSSubClass     0\n",
       "GarageYrBlt    0\n",
       "GarageType     0\n",
       "FireplaceQu    0\n",
       "              ..\n",
       "MasVnrArea     0\n",
       "MasVnrType     0\n",
       "Exterior2nd    0\n",
       "Exterior1st    0\n",
       "SalePrice      0\n",
       "Length: 80, dtype: int64"
      ]
     },
     "execution_count": 69,
     "metadata": {},
     "output_type": "execute_result"
    }
   ],
   "source": [
    "train.isnull().sum(0).sort_values(ascending=False)"
   ]
  },
  {
   "cell_type": "code",
   "execution_count": 70,
   "metadata": {
    "_uuid": "eafa9aed1629e0d6555f0cb37f2f5731d6d3bc25"
   },
   "outputs": [
    {
     "data": {
      "image/png": "[encoded data removed]",
      "text/plain": [
       "<Figure size 1080x864 with 2 Axes>"
      ]
     },
     "metadata": {
      "needs_background": "light"
     },
     "output_type": "display_data"
    }
   ],
   "source": [
    "#Checking correlation via heatmap:\n",
    "plt.figure(figsize=(15,12))\n",
    "sns.heatmap(train.corr(),cmap=\"YlGnBu\")\n",
    "plt.show()"
   ]
  },
  {
   "cell_type": "code",
   "execution_count": 71,
   "metadata": {
    "_uuid": "08588aeaae59e62a7dd976c2ac383bd6e5a0bf9b"
   },
   "outputs": [
    {
     "data": {
      "text/html": [
       "<div>\n",
       "<style scoped>\n",
       "    .dataframe tbody tr th:only-of-type {\n",
       "        vertical-align: middle;\n",
       "    }\n",
       "\n",
       "    .dataframe tbody tr th {\n",
       "        vertical-align: top;\n",
       "    }\n",
       "\n",
       "    .dataframe thead th {\n",
       "        text-align: right;\n",
       "    }\n",
       "</style>\n",
       "<table border=\"1\" class=\"dataframe\">\n",
       "  <thead>\n",
       "    <tr style=\"text-align: right;\">\n",
       "      <th></th>\n",
       "      <th>Id</th>\n",
       "      <th>MSSubClass</th>\n",
       "      <th>LotFrontage</th>\n",
       "      <th>LotShape</th>\n",
       "      <th>LotConfig</th>\n",
       "      <th>HouseStyle</th>\n",
       "      <th>OverallQual</th>\n",
       "      <th>OverallCond</th>\n",
       "      <th>YearBuilt</th>\n",
       "      <th>YearRemodAdd</th>\n",
       "      <th>...</th>\n",
       "      <th>WoodDeckSF</th>\n",
       "      <th>OpenPorchSF</th>\n",
       "      <th>EnclosedPorch</th>\n",
       "      <th>3SsnPorch</th>\n",
       "      <th>ScreenPorch</th>\n",
       "      <th>PoolArea</th>\n",
       "      <th>MiscVal</th>\n",
       "      <th>MoSold</th>\n",
       "      <th>YrSold</th>\n",
       "      <th>SalePrice</th>\n",
       "    </tr>\n",
       "  </thead>\n",
       "  <tbody>\n",
       "    <tr>\n",
       "      <th>SalePrice</th>\n",
       "      <td>-0.021673</td>\n",
       "      <td>-0.084276</td>\n",
       "      <td>0.361292</td>\n",
       "      <td>0.270477</td>\n",
       "      <td>0.092499</td>\n",
       "      <td>0.292263</td>\n",
       "      <td>0.795774</td>\n",
       "      <td>-0.077948</td>\n",
       "      <td>0.523608</td>\n",
       "      <td>0.507717</td>\n",
       "      <td>...</td>\n",
       "      <td>0.324758</td>\n",
       "      <td>0.321142</td>\n",
       "      <td>-0.128646</td>\n",
       "      <td>0.044568</td>\n",
       "      <td>0.111415</td>\n",
       "      <td>0.099490</td>\n",
       "      <td>-0.021203</td>\n",
       "      <td>0.046124</td>\n",
       "      <td>-0.028882</td>\n",
       "      <td>1.000000</td>\n",
       "    </tr>\n",
       "    <tr>\n",
       "      <th>OverallQual</th>\n",
       "      <td>-0.030213</td>\n",
       "      <td>0.032522</td>\n",
       "      <td>0.206488</td>\n",
       "      <td>0.190817</td>\n",
       "      <td>0.064424</td>\n",
       "      <td>0.295311</td>\n",
       "      <td>1.000000</td>\n",
       "      <td>-0.090442</td>\n",
       "      <td>0.571368</td>\n",
       "      <td>0.549827</td>\n",
       "      <td>...</td>\n",
       "      <td>0.236753</td>\n",
       "      <td>0.297186</td>\n",
       "      <td>-0.113176</td>\n",
       "      <td>0.030991</td>\n",
       "      <td>0.066298</td>\n",
       "      <td>0.044758</td>\n",
       "      <td>-0.031238</td>\n",
       "      <td>0.072531</td>\n",
       "      <td>-0.026575</td>\n",
       "      <td>0.795774</td>\n",
       "    </tr>\n",
       "    <tr>\n",
       "      <th>GrLivArea</th>\n",
       "      <td>0.003138</td>\n",
       "      <td>0.076778</td>\n",
       "      <td>0.353064</td>\n",
       "      <td>0.192468</td>\n",
       "      <td>0.060986</td>\n",
       "      <td>0.387912</td>\n",
       "      <td>0.589414</td>\n",
       "      <td>-0.077423</td>\n",
       "      <td>0.194397</td>\n",
       "      <td>0.286758</td>\n",
       "      <td>...</td>\n",
       "      <td>0.247120</td>\n",
       "      <td>0.302569</td>\n",
       "      <td>0.012976</td>\n",
       "      <td>0.022520</td>\n",
       "      <td>0.107768</td>\n",
       "      <td>0.115999</td>\n",
       "      <td>-0.001637</td>\n",
       "      <td>0.057296</td>\n",
       "      <td>-0.035971</td>\n",
       "      <td>0.734968</td>\n",
       "    </tr>\n",
       "    <tr>\n",
       "      <th>ExterQual</th>\n",
       "      <td>0.003413</td>\n",
       "      <td>0.015982</td>\n",
       "      <td>0.122734</td>\n",
       "      <td>0.180443</td>\n",
       "      <td>0.051259</td>\n",
       "      <td>0.252170</td>\n",
       "      <td>0.723286</td>\n",
       "      <td>-0.137724</td>\n",
       "      <td>0.597356</td>\n",
       "      <td>0.586675</td>\n",
       "      <td>...</td>\n",
       "      <td>0.205586</td>\n",
       "      <td>0.279707</td>\n",
       "      <td>-0.149025</td>\n",
       "      <td>0.037582</td>\n",
       "      <td>0.013799</td>\n",
       "      <td>0.012827</td>\n",
       "      <td>-0.039184</td>\n",
       "      <td>0.044280</td>\n",
       "      <td>-0.005866</td>\n",
       "      <td>0.686756</td>\n",
       "    </tr>\n",
       "    <tr>\n",
       "      <th>KitchenQual</th>\n",
       "      <td>0.013709</td>\n",
       "      <td>-0.012652</td>\n",
       "      <td>0.140458</td>\n",
       "      <td>0.151122</td>\n",
       "      <td>0.034402</td>\n",
       "      <td>0.224432</td>\n",
       "      <td>0.670627</td>\n",
       "      <td>-0.025207</td>\n",
       "      <td>0.528822</td>\n",
       "      <td>0.624563</td>\n",
       "      <td>...</td>\n",
       "      <td>0.219112</td>\n",
       "      <td>0.249783</td>\n",
       "      <td>-0.105126</td>\n",
       "      <td>0.022769</td>\n",
       "      <td>0.031731</td>\n",
       "      <td>0.046646</td>\n",
       "      <td>-0.054012</td>\n",
       "      <td>0.052985</td>\n",
       "      <td>0.002788</td>\n",
       "      <td>0.662236</td>\n",
       "    </tr>\n",
       "    <tr>\n",
       "      <th>TotalBsmtSF</th>\n",
       "      <td>-0.025908</td>\n",
       "      <td>-0.253194</td>\n",
       "      <td>0.313779</td>\n",
       "      <td>0.172605</td>\n",
       "      <td>0.042197</td>\n",
       "      <td>-0.028472</td>\n",
       "      <td>0.538595</td>\n",
       "      <td>-0.174931</td>\n",
       "      <td>0.400266</td>\n",
       "      <td>0.294941</td>\n",
       "      <td>...</td>\n",
       "      <td>0.234476</td>\n",
       "      <td>0.215140</td>\n",
       "      <td>-0.096773</td>\n",
       "      <td>0.040921</td>\n",
       "      <td>0.092574</td>\n",
       "      <td>0.036089</td>\n",
       "      <td>-0.018514</td>\n",
       "      <td>0.025775</td>\n",
       "      <td>-0.014880</td>\n",
       "      <td>0.651153</td>\n",
       "    </tr>\n",
       "    <tr>\n",
       "      <th>GarageCars</th>\n",
       "      <td>0.016863</td>\n",
       "      <td>-0.040248</td>\n",
       "      <td>0.281073</td>\n",
       "      <td>0.194461</td>\n",
       "      <td>0.097318</td>\n",
       "      <td>0.272117</td>\n",
       "      <td>0.600741</td>\n",
       "      <td>-0.185275</td>\n",
       "      <td>0.537301</td>\n",
       "      <td>0.419882</td>\n",
       "      <td>...</td>\n",
       "      <td>0.225462</td>\n",
       "      <td>0.209968</td>\n",
       "      <td>-0.151110</td>\n",
       "      <td>0.035957</td>\n",
       "      <td>0.050909</td>\n",
       "      <td>0.019446</td>\n",
       "      <td>-0.043004</td>\n",
       "      <td>0.039520</td>\n",
       "      <td>-0.038494</td>\n",
       "      <td>0.641047</td>\n",
       "    </tr>\n",
       "    <tr>\n",
       "      <th>1stFlrSF</th>\n",
       "      <td>0.003921</td>\n",
       "      <td>-0.262529</td>\n",
       "      <td>0.394293</td>\n",
       "      <td>0.165273</td>\n",
       "      <td>0.048999</td>\n",
       "      <td>-0.086386</td>\n",
       "      <td>0.469092</td>\n",
       "      <td>-0.144717</td>\n",
       "      <td>0.281253</td>\n",
       "      <td>0.238769</td>\n",
       "      <td>...</td>\n",
       "      <td>0.235439</td>\n",
       "      <td>0.178859</td>\n",
       "      <td>-0.064247</td>\n",
       "      <td>0.059521</td>\n",
       "      <td>0.095042</td>\n",
       "      <td>0.062756</td>\n",
       "      <td>-0.021045</td>\n",
       "      <td>0.040558</td>\n",
       "      <td>-0.012810</td>\n",
       "      <td>0.631530</td>\n",
       "    </tr>\n",
       "    <tr>\n",
       "      <th>GarageArea</th>\n",
       "      <td>0.014316</td>\n",
       "      <td>-0.099790</td>\n",
       "      <td>0.317903</td>\n",
       "      <td>0.161068</td>\n",
       "      <td>0.068097</td>\n",
       "      <td>0.221161</td>\n",
       "      <td>0.557230</td>\n",
       "      <td>-0.150503</td>\n",
       "      <td>0.477998</td>\n",
       "      <td>0.370000</td>\n",
       "      <td>...</td>\n",
       "      <td>0.222482</td>\n",
       "      <td>0.228246</td>\n",
       "      <td>-0.121194</td>\n",
       "      <td>0.035880</td>\n",
       "      <td>0.053015</td>\n",
       "      <td>0.026642</td>\n",
       "      <td>-0.027236</td>\n",
       "      <td>0.032470</td>\n",
       "      <td>-0.027209</td>\n",
       "      <td>0.629217</td>\n",
       "    </tr>\n",
       "    <tr>\n",
       "      <th>BsmtQual</th>\n",
       "      <td>-0.033854</td>\n",
       "      <td>0.060142</td>\n",
       "      <td>0.121623</td>\n",
       "      <td>0.217596</td>\n",
       "      <td>0.083792</td>\n",
       "      <td>0.241591</td>\n",
       "      <td>0.658657</td>\n",
       "      <td>-0.200155</td>\n",
       "      <td>0.656603</td>\n",
       "      <td>0.546599</td>\n",
       "      <td>...</td>\n",
       "      <td>0.262482</td>\n",
       "      <td>0.260816</td>\n",
       "      <td>-0.203033</td>\n",
       "      <td>0.010975</td>\n",
       "      <td>0.030462</td>\n",
       "      <td>0.012592</td>\n",
       "      <td>-0.043146</td>\n",
       "      <td>0.016445</td>\n",
       "      <td>-0.017597</td>\n",
       "      <td>0.624758</td>\n",
       "    </tr>\n",
       "    <tr>\n",
       "      <th>FullBath</th>\n",
       "      <td>0.005750</td>\n",
       "      <td>0.131773</td>\n",
       "      <td>0.187091</td>\n",
       "      <td>0.181745</td>\n",
       "      <td>0.060946</td>\n",
       "      <td>0.354523</td>\n",
       "      <td>0.548420</td>\n",
       "      <td>-0.193473</td>\n",
       "      <td>0.467146</td>\n",
       "      <td>0.437927</td>\n",
       "      <td>...</td>\n",
       "      <td>0.186147</td>\n",
       "      <td>0.252678</td>\n",
       "      <td>-0.114558</td>\n",
       "      <td>0.035715</td>\n",
       "      <td>-0.007496</td>\n",
       "      <td>0.045656</td>\n",
       "      <td>-0.014122</td>\n",
       "      <td>0.054756</td>\n",
       "      <td>-0.018697</td>\n",
       "      <td>0.562165</td>\n",
       "    </tr>\n",
       "    <tr>\n",
       "      <th>GarageFinish</th>\n",
       "      <td>0.013001</td>\n",
       "      <td>-0.033269</td>\n",
       "      <td>0.206785</td>\n",
       "      <td>0.233131</td>\n",
       "      <td>0.068212</td>\n",
       "      <td>0.290597</td>\n",
       "      <td>0.555118</td>\n",
       "      <td>-0.170498</td>\n",
       "      <td>0.594845</td>\n",
       "      <td>0.443340</td>\n",
       "      <td>...</td>\n",
       "      <td>0.250194</td>\n",
       "      <td>0.196671</td>\n",
       "      <td>-0.187237</td>\n",
       "      <td>0.034922</td>\n",
       "      <td>0.041669</td>\n",
       "      <td>0.018035</td>\n",
       "      <td>-0.003183</td>\n",
       "      <td>-0.000083</td>\n",
       "      <td>0.001939</td>\n",
       "      <td>0.550255</td>\n",
       "    </tr>\n",
       "    <tr>\n",
       "      <th>TotRmsAbvGrd</th>\n",
       "      <td>0.025227</td>\n",
       "      <td>0.040335</td>\n",
       "      <td>0.339434</td>\n",
       "      <td>0.126653</td>\n",
       "      <td>0.026261</td>\n",
       "      <td>0.346882</td>\n",
       "      <td>0.420621</td>\n",
       "      <td>-0.055782</td>\n",
       "      <td>0.091220</td>\n",
       "      <td>0.188418</td>\n",
       "      <td>...</td>\n",
       "      <td>0.163218</td>\n",
       "      <td>0.220052</td>\n",
       "      <td>0.005700</td>\n",
       "      <td>-0.006235</td>\n",
       "      <td>0.060920</td>\n",
       "      <td>0.059728</td>\n",
       "      <td>0.025297</td>\n",
       "      <td>0.039221</td>\n",
       "      <td>-0.033901</td>\n",
       "      <td>0.537769</td>\n",
       "    </tr>\n",
       "    <tr>\n",
       "      <th>FireplaceQu</th>\n",
       "      <td>0.003231</td>\n",
       "      <td>-0.040368</td>\n",
       "      <td>0.229629</td>\n",
       "      <td>0.182126</td>\n",
       "      <td>0.030781</td>\n",
       "      <td>0.113930</td>\n",
       "      <td>0.497400</td>\n",
       "      <td>-0.055271</td>\n",
       "      <td>0.219047</td>\n",
       "      <td>0.199877</td>\n",
       "      <td>...</td>\n",
       "      <td>0.211295</td>\n",
       "      <td>0.156796</td>\n",
       "      <td>-0.042915</td>\n",
       "      <td>0.037962</td>\n",
       "      <td>0.147088</td>\n",
       "      <td>0.032945</td>\n",
       "      <td>-0.024111</td>\n",
       "      <td>0.054510</td>\n",
       "      <td>-0.050337</td>\n",
       "      <td>0.527256</td>\n",
       "    </tr>\n",
       "    <tr>\n",
       "      <th>YearBuilt</th>\n",
       "      <td>-0.013463</td>\n",
       "      <td>0.027757</td>\n",
       "      <td>0.091459</td>\n",
       "      <td>0.226674</td>\n",
       "      <td>0.083040</td>\n",
       "      <td>0.335103</td>\n",
       "      <td>0.571368</td>\n",
       "      <td>-0.375572</td>\n",
       "      <td>1.000000</td>\n",
       "      <td>0.592105</td>\n",
       "      <td>...</td>\n",
       "      <td>0.223700</td>\n",
       "      <td>0.184116</td>\n",
       "      <td>-0.387093</td>\n",
       "      <td>0.031578</td>\n",
       "      <td>-0.049972</td>\n",
       "      <td>-0.005171</td>\n",
       "      <td>-0.034273</td>\n",
       "      <td>0.012975</td>\n",
       "      <td>-0.013250</td>\n",
       "      <td>0.523608</td>\n",
       "    </tr>\n",
       "    <tr>\n",
       "      <th>YearRemodAdd</th>\n",
       "      <td>-0.022694</td>\n",
       "      <td>0.040503</td>\n",
       "      <td>0.056648</td>\n",
       "      <td>0.172670</td>\n",
       "      <td>0.075750</td>\n",
       "      <td>0.293811</td>\n",
       "      <td>0.549827</td>\n",
       "      <td>0.074615</td>\n",
       "      <td>0.592105</td>\n",
       "      <td>1.000000</td>\n",
       "      <td>...</td>\n",
       "      <td>0.204591</td>\n",
       "      <td>0.222790</td>\n",
       "      <td>-0.193551</td>\n",
       "      <td>0.045504</td>\n",
       "      <td>-0.038360</td>\n",
       "      <td>-0.003426</td>\n",
       "      <td>-0.010160</td>\n",
       "      <td>0.022020</td>\n",
       "      <td>0.036145</td>\n",
       "      <td>0.507717</td>\n",
       "    </tr>\n",
       "    <tr>\n",
       "      <th>Foundation</th>\n",
       "      <td>-0.007603</td>\n",
       "      <td>0.066866</td>\n",
       "      <td>0.023025</td>\n",
       "      <td>0.165594</td>\n",
       "      <td>0.047767</td>\n",
       "      <td>0.307361</td>\n",
       "      <td>0.577360</td>\n",
       "      <td>-0.279920</td>\n",
       "      <td>0.644117</td>\n",
       "      <td>0.573413</td>\n",
       "      <td>...</td>\n",
       "      <td>0.176950</td>\n",
       "      <td>0.228337</td>\n",
       "      <td>-0.167918</td>\n",
       "      <td>0.017907</td>\n",
       "      <td>-0.053332</td>\n",
       "      <td>-0.016876</td>\n",
       "      <td>-0.064806</td>\n",
       "      <td>0.021040</td>\n",
       "      <td>-0.033946</td>\n",
       "      <td>0.502768</td>\n",
       "    </tr>\n",
       "    <tr>\n",
       "      <th>GarageType</th>\n",
       "      <td>0.001513</td>\n",
       "      <td>-0.100578</td>\n",
       "      <td>0.272008</td>\n",
       "      <td>0.223326</td>\n",
       "      <td>0.079480</td>\n",
       "      <td>0.284851</td>\n",
       "      <td>0.496929</td>\n",
       "      <td>-0.140671</td>\n",
       "      <td>0.589410</td>\n",
       "      <td>0.375404</td>\n",
       "      <td>...</td>\n",
       "      <td>0.261738</td>\n",
       "      <td>0.154637</td>\n",
       "      <td>-0.184755</td>\n",
       "      <td>0.049153</td>\n",
       "      <td>0.049566</td>\n",
       "      <td>0.022017</td>\n",
       "      <td>0.013625</td>\n",
       "      <td>0.026289</td>\n",
       "      <td>-0.003016</td>\n",
       "      <td>0.496644</td>\n",
       "    </tr>\n",
       "    <tr>\n",
       "      <th>MasVnrArea</th>\n",
       "      <td>-0.053952</td>\n",
       "      <td>0.023423</td>\n",
       "      <td>0.152038</td>\n",
       "      <td>0.076833</td>\n",
       "      <td>0.042114</td>\n",
       "      <td>0.196764</td>\n",
       "      <td>0.398785</td>\n",
       "      <td>-0.124261</td>\n",
       "      <td>0.308722</td>\n",
       "      <td>0.172590</td>\n",
       "      <td>...</td>\n",
       "      <td>0.156812</td>\n",
       "      <td>0.101698</td>\n",
       "      <td>-0.109126</td>\n",
       "      <td>0.019933</td>\n",
       "      <td>0.064258</td>\n",
       "      <td>-0.020350</td>\n",
       "      <td>-0.029346</td>\n",
       "      <td>-0.005006</td>\n",
       "      <td>-0.007215</td>\n",
       "      <td>0.477810</td>\n",
       "    </tr>\n",
       "    <tr>\n",
       "      <th>Fireplaces</th>\n",
       "      <td>-0.023122</td>\n",
       "      <td>-0.046009</td>\n",
       "      <td>0.239627</td>\n",
       "      <td>0.192602</td>\n",
       "      <td>0.041528</td>\n",
       "      <td>0.116101</td>\n",
       "      <td>0.392472</td>\n",
       "      <td>-0.022406</td>\n",
       "      <td>0.144982</td>\n",
       "      <td>0.109898</td>\n",
       "      <td>...</td>\n",
       "      <td>0.198294</td>\n",
       "      <td>0.160924</td>\n",
       "      <td>-0.023879</td>\n",
       "      <td>0.011657</td>\n",
       "      <td>0.186238</td>\n",
       "      <td>0.068655</td>\n",
       "      <td>0.001676</td>\n",
       "      <td>0.051142</td>\n",
       "      <td>-0.024315</td>\n",
       "      <td>0.469862</td>\n",
       "    </tr>\n",
       "    <tr>\n",
       "      <th>HeatingQC</th>\n",
       "      <td>-0.015546</td>\n",
       "      <td>-0.019558</td>\n",
       "      <td>0.070610</td>\n",
       "      <td>0.117117</td>\n",
       "      <td>0.050443</td>\n",
       "      <td>0.175592</td>\n",
       "      <td>0.456379</td>\n",
       "      <td>-0.013482</td>\n",
       "      <td>0.448075</td>\n",
       "      <td>0.549420</td>\n",
       "      <td>...</td>\n",
       "      <td>0.129869</td>\n",
       "      <td>0.172574</td>\n",
       "      <td>-0.101368</td>\n",
       "      <td>0.059826</td>\n",
       "      <td>-0.034613</td>\n",
       "      <td>-0.057745</td>\n",
       "      <td>-0.026780</td>\n",
       "      <td>0.015935</td>\n",
       "      <td>-0.009365</td>\n",
       "      <td>0.428024</td>\n",
       "    </tr>\n",
       "    <tr>\n",
       "      <th>BsmtFinSF1</th>\n",
       "      <td>-0.015012</td>\n",
       "      <td>-0.074434</td>\n",
       "      <td>0.146506</td>\n",
       "      <td>0.127540</td>\n",
       "      <td>0.064786</td>\n",
       "      <td>-0.024982</td>\n",
       "      <td>0.222467</td>\n",
       "      <td>-0.042987</td>\n",
       "      <td>0.249818</td>\n",
       "      <td>0.123039</td>\n",
       "      <td>...</td>\n",
       "      <td>0.204993</td>\n",
       "      <td>0.072717</td>\n",
       "      <td>-0.103853</td>\n",
       "      <td>0.029177</td>\n",
       "      <td>0.068389</td>\n",
       "      <td>0.052981</td>\n",
       "      <td>0.004741</td>\n",
       "      <td>-0.004281</td>\n",
       "      <td>0.015767</td>\n",
       "      <td>0.409384</td>\n",
       "    </tr>\n",
       "    <tr>\n",
       "      <th>Exterior1st</th>\n",
       "      <td>-0.001654</td>\n",
       "      <td>0.029159</td>\n",
       "      <td>0.027434</td>\n",
       "      <td>0.100561</td>\n",
       "      <td>0.009628</td>\n",
       "      <td>0.217661</td>\n",
       "      <td>0.396564</td>\n",
       "      <td>-0.172392</td>\n",
       "      <td>0.545668</td>\n",
       "      <td>0.480334</td>\n",
       "      <td>...</td>\n",
       "      <td>0.126352</td>\n",
       "      <td>0.195974</td>\n",
       "      <td>-0.175786</td>\n",
       "      <td>0.001081</td>\n",
       "      <td>-0.049561</td>\n",
       "      <td>-0.025228</td>\n",
       "      <td>-0.024777</td>\n",
       "      <td>0.004053</td>\n",
       "      <td>0.014829</td>\n",
       "      <td>0.383349</td>\n",
       "    </tr>\n",
       "    <tr>\n",
       "      <th>BsmtExposure</th>\n",
       "      <td>0.015689</td>\n",
       "      <td>0.042041</td>\n",
       "      <td>0.149516</td>\n",
       "      <td>0.182028</td>\n",
       "      <td>0.069130</td>\n",
       "      <td>-0.020630</td>\n",
       "      <td>0.295445</td>\n",
       "      <td>-0.031653</td>\n",
       "      <td>0.254469</td>\n",
       "      <td>0.207194</td>\n",
       "      <td>...</td>\n",
       "      <td>0.244759</td>\n",
       "      <td>0.083108</td>\n",
       "      <td>-0.076415</td>\n",
       "      <td>-0.017925</td>\n",
       "      <td>0.057929</td>\n",
       "      <td>0.013197</td>\n",
       "      <td>-0.005497</td>\n",
       "      <td>0.018078</td>\n",
       "      <td>-0.063932</td>\n",
       "      <td>0.382907</td>\n",
       "    </tr>\n",
       "    <tr>\n",
       "      <th>LotFrontage</th>\n",
       "      <td>-0.010181</td>\n",
       "      <td>-0.414084</td>\n",
       "      <td>1.000000</td>\n",
       "      <td>0.204337</td>\n",
       "      <td>0.074351</td>\n",
       "      <td>0.077233</td>\n",
       "      <td>0.206488</td>\n",
       "      <td>-0.029367</td>\n",
       "      <td>0.091459</td>\n",
       "      <td>0.056648</td>\n",
       "      <td>...</td>\n",
       "      <td>0.092277</td>\n",
       "      <td>0.105699</td>\n",
       "      <td>0.017687</td>\n",
       "      <td>0.067284</td>\n",
       "      <td>0.042183</td>\n",
       "      <td>0.106658</td>\n",
       "      <td>0.035609</td>\n",
       "      <td>0.022187</td>\n",
       "      <td>0.000349</td>\n",
       "      <td>0.361292</td>\n",
       "    </tr>\n",
       "    <tr>\n",
       "      <th>WoodDeckSF</th>\n",
       "      <td>-0.030262</td>\n",
       "      <td>-0.012681</td>\n",
       "      <td>0.092277</td>\n",
       "      <td>0.159403</td>\n",
       "      <td>0.056044</td>\n",
       "      <td>0.116652</td>\n",
       "      <td>0.236753</td>\n",
       "      <td>-0.002675</td>\n",
       "      <td>0.223700</td>\n",
       "      <td>0.204591</td>\n",
       "      <td>...</td>\n",
       "      <td>1.000000</td>\n",
       "      <td>0.053686</td>\n",
       "      <td>-0.125616</td>\n",
       "      <td>-0.032642</td>\n",
       "      <td>-0.073884</td>\n",
       "      <td>0.069100</td>\n",
       "      <td>-0.009445</td>\n",
       "      <td>0.021509</td>\n",
       "      <td>0.022579</td>\n",
       "      <td>0.324758</td>\n",
       "    </tr>\n",
       "    <tr>\n",
       "      <th>OpenPorchSF</th>\n",
       "      <td>-0.002115</td>\n",
       "      <td>-0.006659</td>\n",
       "      <td>0.105699</td>\n",
       "      <td>0.079791</td>\n",
       "      <td>0.059458</td>\n",
       "      <td>0.194471</td>\n",
       "      <td>0.297186</td>\n",
       "      <td>-0.029800</td>\n",
       "      <td>0.184116</td>\n",
       "      <td>0.222790</td>\n",
       "      <td>...</td>\n",
       "      <td>0.053686</td>\n",
       "      <td>1.000000</td>\n",
       "      <td>-0.092212</td>\n",
       "      <td>-0.005191</td>\n",
       "      <td>0.077150</td>\n",
       "      <td>0.032920</td>\n",
       "      <td>-0.018308</td>\n",
       "      <td>0.072416</td>\n",
       "      <td>-0.056537</td>\n",
       "      <td>0.321142</td>\n",
       "    </tr>\n",
       "    <tr>\n",
       "      <th>2ndFlrSF</th>\n",
       "      <td>0.005248</td>\n",
       "      <td>0.308672</td>\n",
       "      <td>0.070666</td>\n",
       "      <td>0.084127</td>\n",
       "      <td>0.031950</td>\n",
       "      <td>0.529462</td>\n",
       "      <td>0.290052</td>\n",
       "      <td>0.030504</td>\n",
       "      <td>0.006968</td>\n",
       "      <td>0.137423</td>\n",
       "      <td>...</td>\n",
       "      <td>0.089902</td>\n",
       "      <td>0.197938</td>\n",
       "      <td>0.063211</td>\n",
       "      <td>-0.024107</td>\n",
       "      <td>0.041504</td>\n",
       "      <td>0.074258</td>\n",
       "      <td>0.016497</td>\n",
       "      <td>0.034665</td>\n",
       "      <td>-0.027775</td>\n",
       "      <td>0.320532</td>\n",
       "    </tr>\n",
       "    <tr>\n",
       "      <th>HouseStyle</th>\n",
       "      <td>-0.007124</td>\n",
       "      <td>0.186376</td>\n",
       "      <td>0.077233</td>\n",
       "      <td>0.127657</td>\n",
       "      <td>0.044283</td>\n",
       "      <td>1.000000</td>\n",
       "      <td>0.295311</td>\n",
       "      <td>-0.103506</td>\n",
       "      <td>0.335103</td>\n",
       "      <td>0.293811</td>\n",
       "      <td>...</td>\n",
       "      <td>0.116652</td>\n",
       "      <td>0.194471</td>\n",
       "      <td>-0.121171</td>\n",
       "      <td>-0.011804</td>\n",
       "      <td>-0.014635</td>\n",
       "      <td>0.027652</td>\n",
       "      <td>-0.033895</td>\n",
       "      <td>0.015159</td>\n",
       "      <td>-0.008630</td>\n",
       "      <td>0.292263</td>\n",
       "    </tr>\n",
       "    <tr>\n",
       "      <th>HalfBath</th>\n",
       "      <td>0.006071</td>\n",
       "      <td>0.177415</td>\n",
       "      <td>0.047124</td>\n",
       "      <td>0.112897</td>\n",
       "      <td>0.040774</td>\n",
       "      <td>0.482373</td>\n",
       "      <td>0.270466</td>\n",
       "      <td>-0.059971</td>\n",
       "      <td>0.241123</td>\n",
       "      <td>0.181788</td>\n",
       "      <td>...</td>\n",
       "      <td>0.106685</td>\n",
       "      <td>0.195162</td>\n",
       "      <td>-0.094818</td>\n",
       "      <td>-0.004782</td>\n",
       "      <td>0.072960</td>\n",
       "      <td>0.013097</td>\n",
       "      <td>0.001439</td>\n",
       "      <td>-0.008563</td>\n",
       "      <td>-0.009880</td>\n",
       "      <td>0.284590</td>\n",
       "    </tr>\n",
       "    <tr>\n",
       "      <th>LotShape</th>\n",
       "      <td>-0.028067</td>\n",
       "      <td>-0.116473</td>\n",
       "      <td>0.204337</td>\n",
       "      <td>1.000000</td>\n",
       "      <td>0.276815</td>\n",
       "      <td>0.127657</td>\n",
       "      <td>0.190817</td>\n",
       "      <td>-0.032042</td>\n",
       "      <td>0.226674</td>\n",
       "      <td>0.172670</td>\n",
       "      <td>...</td>\n",
       "      <td>0.159403</td>\n",
       "      <td>0.079791</td>\n",
       "      <td>-0.094430</td>\n",
       "      <td>0.034485</td>\n",
       "      <td>0.066678</td>\n",
       "      <td>0.011531</td>\n",
       "      <td>0.029176</td>\n",
       "      <td>0.031968</td>\n",
       "      <td>-0.037661</td>\n",
       "      <td>0.270477</td>\n",
       "    </tr>\n",
       "    <tr>\n",
       "      <th>BsmtFullBath</th>\n",
       "      <td>-0.000146</td>\n",
       "      <td>0.003294</td>\n",
       "      <td>0.068168</td>\n",
       "      <td>0.055191</td>\n",
       "      <td>0.026936</td>\n",
       "      <td>-0.046123</td>\n",
       "      <td>0.104020</td>\n",
       "      <td>-0.053674</td>\n",
       "      <td>0.185012</td>\n",
       "      <td>0.116804</td>\n",
       "      <td>...</td>\n",
       "      <td>0.173360</td>\n",
       "      <td>0.056548</td>\n",
       "      <td>-0.049070</td>\n",
       "      <td>0.000225</td>\n",
       "      <td>0.024003</td>\n",
       "      <td>0.045344</td>\n",
       "      <td>-0.022880</td>\n",
       "      <td>-0.022423</td>\n",
       "      <td>0.067479</td>\n",
       "      <td>0.228459</td>\n",
       "    </tr>\n",
       "    <tr>\n",
       "      <th>BsmtUnfSF</th>\n",
       "      <td>-0.007499</td>\n",
       "      <td>-0.140810</td>\n",
       "      <td>0.127331</td>\n",
       "      <td>0.014493</td>\n",
       "      <td>-0.027797</td>\n",
       "      <td>0.013420</td>\n",
       "      <td>0.308990</td>\n",
       "      <td>-0.136723</td>\n",
       "      <td>0.148836</td>\n",
       "      <td>0.180958</td>\n",
       "      <td>...</td>\n",
       "      <td>-0.005609</td>\n",
       "      <td>0.128917</td>\n",
       "      <td>-0.002422</td>\n",
       "      <td>0.020806</td>\n",
       "      <td>-0.012494</td>\n",
       "      <td>-0.034936</td>\n",
       "      <td>-0.023813</td>\n",
       "      <td>0.033997</td>\n",
       "      <td>-0.040953</td>\n",
       "      <td>0.214460</td>\n",
       "    </tr>\n",
       "    <tr>\n",
       "      <th>BedroomAbvGr</th>\n",
       "      <td>0.037649</td>\n",
       "      <td>-0.023455</td>\n",
       "      <td>0.284319</td>\n",
       "      <td>0.059844</td>\n",
       "      <td>0.036057</td>\n",
       "      <td>0.267404</td>\n",
       "      <td>0.101601</td>\n",
       "      <td>0.013099</td>\n",
       "      <td>-0.070992</td>\n",
       "      <td>-0.040869</td>\n",
       "      <td>...</td>\n",
       "      <td>0.046673</td>\n",
       "      <td>0.094190</td>\n",
       "      <td>0.041656</td>\n",
       "      <td>-0.024452</td>\n",
       "      <td>0.044363</td>\n",
       "      <td>0.072999</td>\n",
       "      <td>0.007787</td>\n",
       "      <td>0.046705</td>\n",
       "      <td>-0.035966</td>\n",
       "      <td>0.168245</td>\n",
       "    </tr>\n",
       "    <tr>\n",
       "      <th>ScreenPorch</th>\n",
       "      <td>0.001491</td>\n",
       "      <td>-0.026004</td>\n",
       "      <td>0.042183</td>\n",
       "      <td>0.066678</td>\n",
       "      <td>-0.016082</td>\n",
       "      <td>-0.014635</td>\n",
       "      <td>0.066298</td>\n",
       "      <td>0.054632</td>\n",
       "      <td>-0.049972</td>\n",
       "      <td>-0.038360</td>\n",
       "      <td>...</td>\n",
       "      <td>-0.073884</td>\n",
       "      <td>0.077150</td>\n",
       "      <td>-0.083009</td>\n",
       "      <td>-0.031481</td>\n",
       "      <td>1.000000</td>\n",
       "      <td>0.056293</td>\n",
       "      <td>0.031915</td>\n",
       "      <td>0.023151</td>\n",
       "      <td>0.010608</td>\n",
       "      <td>0.111415</td>\n",
       "    </tr>\n",
       "    <tr>\n",
       "      <th>PoolArea</th>\n",
       "      <td>0.048476</td>\n",
       "      <td>0.008090</td>\n",
       "      <td>0.106658</td>\n",
       "      <td>0.011531</td>\n",
       "      <td>0.024744</td>\n",
       "      <td>0.027652</td>\n",
       "      <td>0.044758</td>\n",
       "      <td>0.002321</td>\n",
       "      <td>-0.005171</td>\n",
       "      <td>-0.003426</td>\n",
       "      <td>...</td>\n",
       "      <td>0.069100</td>\n",
       "      <td>0.032920</td>\n",
       "      <td>0.060101</td>\n",
       "      <td>-0.007417</td>\n",
       "      <td>0.056293</td>\n",
       "      <td>1.000000</td>\n",
       "      <td>0.031965</td>\n",
       "      <td>-0.018601</td>\n",
       "      <td>-0.064030</td>\n",
       "      <td>0.099490</td>\n",
       "    </tr>\n",
       "    <tr>\n",
       "      <th>LotConfig</th>\n",
       "      <td>-0.015053</td>\n",
       "      <td>-0.037595</td>\n",
       "      <td>0.074351</td>\n",
       "      <td>0.276815</td>\n",
       "      <td>1.000000</td>\n",
       "      <td>0.044283</td>\n",
       "      <td>0.064424</td>\n",
       "      <td>0.012180</td>\n",
       "      <td>0.083040</td>\n",
       "      <td>0.075750</td>\n",
       "      <td>...</td>\n",
       "      <td>0.056044</td>\n",
       "      <td>0.059458</td>\n",
       "      <td>-0.021226</td>\n",
       "      <td>0.058946</td>\n",
       "      <td>-0.016082</td>\n",
       "      <td>0.024744</td>\n",
       "      <td>0.031796</td>\n",
       "      <td>-0.023353</td>\n",
       "      <td>0.011064</td>\n",
       "      <td>0.092499</td>\n",
       "    </tr>\n",
       "    <tr>\n",
       "      <th>MoSold</th>\n",
       "      <td>0.023511</td>\n",
       "      <td>-0.013581</td>\n",
       "      <td>0.022187</td>\n",
       "      <td>0.031968</td>\n",
       "      <td>-0.023353</td>\n",
       "      <td>0.015159</td>\n",
       "      <td>0.072531</td>\n",
       "      <td>-0.003735</td>\n",
       "      <td>0.012975</td>\n",
       "      <td>0.022020</td>\n",
       "      <td>...</td>\n",
       "      <td>0.021509</td>\n",
       "      <td>0.072416</td>\n",
       "      <td>-0.029097</td>\n",
       "      <td>0.029483</td>\n",
       "      <td>0.023151</td>\n",
       "      <td>-0.018601</td>\n",
       "      <td>-0.006544</td>\n",
       "      <td>1.000000</td>\n",
       "      <td>-0.145267</td>\n",
       "      <td>0.046124</td>\n",
       "    </tr>\n",
       "    <tr>\n",
       "      <th>3SsnPorch</th>\n",
       "      <td>-0.046600</td>\n",
       "      <td>-0.043813</td>\n",
       "      <td>0.067284</td>\n",
       "      <td>0.034485</td>\n",
       "      <td>0.058946</td>\n",
       "      <td>-0.011804</td>\n",
       "      <td>0.030991</td>\n",
       "      <td>0.025426</td>\n",
       "      <td>0.031578</td>\n",
       "      <td>0.045504</td>\n",
       "      <td>...</td>\n",
       "      <td>-0.032642</td>\n",
       "      <td>-0.005191</td>\n",
       "      <td>-0.037366</td>\n",
       "      <td>1.000000</td>\n",
       "      <td>-0.031481</td>\n",
       "      <td>-0.007417</td>\n",
       "      <td>0.000340</td>\n",
       "      <td>0.029483</td>\n",
       "      <td>0.018610</td>\n",
       "      <td>0.044568</td>\n",
       "    </tr>\n",
       "    <tr>\n",
       "      <th>BsmtFinSF2</th>\n",
       "      <td>-0.005802</td>\n",
       "      <td>-0.065624</td>\n",
       "      <td>0.064977</td>\n",
       "      <td>0.061950</td>\n",
       "      <td>0.010835</td>\n",
       "      <td>-0.042940</td>\n",
       "      <td>-0.058324</td>\n",
       "      <td>0.040034</td>\n",
       "      <td>-0.048683</td>\n",
       "      <td>-0.067377</td>\n",
       "      <td>...</td>\n",
       "      <td>0.068312</td>\n",
       "      <td>0.004974</td>\n",
       "      <td>0.036406</td>\n",
       "      <td>-0.030041</td>\n",
       "      <td>0.088774</td>\n",
       "      <td>0.046350</td>\n",
       "      <td>0.004905</td>\n",
       "      <td>-0.015362</td>\n",
       "      <td>0.031618</td>\n",
       "      <td>-0.011422</td>\n",
       "    </tr>\n",
       "    <tr>\n",
       "      <th>BsmtHalfBath</th>\n",
       "      <td>-0.020028</td>\n",
       "      <td>-0.002308</td>\n",
       "      <td>0.011869</td>\n",
       "      <td>0.059059</td>\n",
       "      <td>0.044661</td>\n",
       "      <td>-0.032625</td>\n",
       "      <td>-0.039435</td>\n",
       "      <td>0.117676</td>\n",
       "      <td>-0.037804</td>\n",
       "      <td>-0.011977</td>\n",
       "      <td>...</td>\n",
       "      <td>0.040495</td>\n",
       "      <td>-0.024176</td>\n",
       "      <td>-0.008675</td>\n",
       "      <td>0.035077</td>\n",
       "      <td>0.032035</td>\n",
       "      <td>0.023126</td>\n",
       "      <td>-0.007396</td>\n",
       "      <td>0.032838</td>\n",
       "      <td>-0.046611</td>\n",
       "      <td>-0.016881</td>\n",
       "    </tr>\n",
       "    <tr>\n",
       "      <th>MiscVal</th>\n",
       "      <td>-0.006195</td>\n",
       "      <td>-0.007675</td>\n",
       "      <td>0.035609</td>\n",
       "      <td>0.029176</td>\n",
       "      <td>0.031796</td>\n",
       "      <td>-0.033895</td>\n",
       "      <td>-0.031238</td>\n",
       "      <td>0.068728</td>\n",
       "      <td>-0.034273</td>\n",
       "      <td>-0.010160</td>\n",
       "      <td>...</td>\n",
       "      <td>-0.009445</td>\n",
       "      <td>-0.018308</td>\n",
       "      <td>0.018319</td>\n",
       "      <td>0.000340</td>\n",
       "      <td>0.031915</td>\n",
       "      <td>0.031965</td>\n",
       "      <td>1.000000</td>\n",
       "      <td>-0.006544</td>\n",
       "      <td>0.004878</td>\n",
       "      <td>-0.021203</td>\n",
       "    </tr>\n",
       "    <tr>\n",
       "      <th>Id</th>\n",
       "      <td>1.000000</td>\n",
       "      <td>0.011121</td>\n",
       "      <td>-0.010181</td>\n",
       "      <td>-0.028067</td>\n",
       "      <td>-0.015053</td>\n",
       "      <td>-0.007124</td>\n",
       "      <td>-0.030213</td>\n",
       "      <td>0.012925</td>\n",
       "      <td>-0.013463</td>\n",
       "      <td>-0.022694</td>\n",
       "      <td>...</td>\n",
       "      <td>-0.030262</td>\n",
       "      <td>-0.002115</td>\n",
       "      <td>0.003103</td>\n",
       "      <td>-0.046600</td>\n",
       "      <td>0.001491</td>\n",
       "      <td>0.048476</td>\n",
       "      <td>-0.006195</td>\n",
       "      <td>0.023511</td>\n",
       "      <td>0.000378</td>\n",
       "      <td>-0.021673</td>\n",
       "    </tr>\n",
       "    <tr>\n",
       "      <th>LowQualFinSF</th>\n",
       "      <td>-0.044191</td>\n",
       "      <td>0.046486</td>\n",
       "      <td>0.038046</td>\n",
       "      <td>-0.007576</td>\n",
       "      <td>-0.024001</td>\n",
       "      <td>-0.028556</td>\n",
       "      <td>-0.030129</td>\n",
       "      <td>0.025414</td>\n",
       "      <td>-0.183770</td>\n",
       "      <td>-0.062289</td>\n",
       "      <td>...</td>\n",
       "      <td>-0.025305</td>\n",
       "      <td>0.019292</td>\n",
       "      <td>0.061028</td>\n",
       "      <td>-0.004315</td>\n",
       "      <td>0.026756</td>\n",
       "      <td>0.066428</td>\n",
       "      <td>-0.003807</td>\n",
       "      <td>-0.022268</td>\n",
       "      <td>-0.028964</td>\n",
       "      <td>-0.025625</td>\n",
       "    </tr>\n",
       "    <tr>\n",
       "      <th>YrSold</th>\n",
       "      <td>0.000378</td>\n",
       "      <td>-0.021386</td>\n",
       "      <td>0.000349</td>\n",
       "      <td>-0.037661</td>\n",
       "      <td>0.011064</td>\n",
       "      <td>-0.008630</td>\n",
       "      <td>-0.026575</td>\n",
       "      <td>0.043795</td>\n",
       "      <td>-0.013250</td>\n",
       "      <td>0.036145</td>\n",
       "      <td>...</td>\n",
       "      <td>0.022579</td>\n",
       "      <td>-0.056537</td>\n",
       "      <td>-0.010035</td>\n",
       "      <td>0.018610</td>\n",
       "      <td>0.010608</td>\n",
       "      <td>-0.064030</td>\n",
       "      <td>0.004878</td>\n",
       "      <td>-0.145267</td>\n",
       "      <td>1.000000</td>\n",
       "      <td>-0.028882</td>\n",
       "    </tr>\n",
       "    <tr>\n",
       "      <th>OverallCond</th>\n",
       "      <td>0.012925</td>\n",
       "      <td>-0.059275</td>\n",
       "      <td>-0.029367</td>\n",
       "      <td>-0.032042</td>\n",
       "      <td>0.012180</td>\n",
       "      <td>-0.103506</td>\n",
       "      <td>-0.090442</td>\n",
       "      <td>1.000000</td>\n",
       "      <td>-0.375572</td>\n",
       "      <td>0.074615</td>\n",
       "      <td>...</td>\n",
       "      <td>-0.002675</td>\n",
       "      <td>-0.029800</td>\n",
       "      <td>0.070120</td>\n",
       "      <td>0.025426</td>\n",
       "      <td>0.054632</td>\n",
       "      <td>0.002321</td>\n",
       "      <td>0.068728</td>\n",
       "      <td>-0.003735</td>\n",
       "      <td>0.043795</td>\n",
       "      <td>-0.077948</td>\n",
       "    </tr>\n",
       "    <tr>\n",
       "      <th>MSSubClass</th>\n",
       "      <td>0.011121</td>\n",
       "      <td>1.000000</td>\n",
       "      <td>-0.414084</td>\n",
       "      <td>-0.116473</td>\n",
       "      <td>-0.037595</td>\n",
       "      <td>0.186376</td>\n",
       "      <td>0.032522</td>\n",
       "      <td>-0.059275</td>\n",
       "      <td>0.027757</td>\n",
       "      <td>0.040503</td>\n",
       "      <td>...</td>\n",
       "      <td>-0.012681</td>\n",
       "      <td>-0.006659</td>\n",
       "      <td>-0.012002</td>\n",
       "      <td>-0.043813</td>\n",
       "      <td>-0.026004</td>\n",
       "      <td>0.008090</td>\n",
       "      <td>-0.007675</td>\n",
       "      <td>-0.013581</td>\n",
       "      <td>-0.021386</td>\n",
       "      <td>-0.084276</td>\n",
       "    </tr>\n",
       "    <tr>\n",
       "      <th>EnclosedPorch</th>\n",
       "      <td>0.003103</td>\n",
       "      <td>-0.012002</td>\n",
       "      <td>0.017687</td>\n",
       "      <td>-0.094430</td>\n",
       "      <td>-0.021226</td>\n",
       "      <td>-0.121171</td>\n",
       "      <td>-0.113176</td>\n",
       "      <td>0.070120</td>\n",
       "      <td>-0.387093</td>\n",
       "      <td>-0.193551</td>\n",
       "      <td>...</td>\n",
       "      <td>-0.125616</td>\n",
       "      <td>-0.092212</td>\n",
       "      <td>1.000000</td>\n",
       "      <td>-0.037366</td>\n",
       "      <td>-0.083009</td>\n",
       "      <td>0.060101</td>\n",
       "      <td>0.018319</td>\n",
       "      <td>-0.029097</td>\n",
       "      <td>-0.010035</td>\n",
       "      <td>-0.128646</td>\n",
       "    </tr>\n",
       "    <tr>\n",
       "      <th>KitchebvGr</th>\n",
       "      <td>0.003078</td>\n",
       "      <td>0.281752</td>\n",
       "      <td>0.001710</td>\n",
       "      <td>-0.094759</td>\n",
       "      <td>-0.025386</td>\n",
       "      <td>-0.024264</td>\n",
       "      <td>-0.184077</td>\n",
       "      <td>-0.087170</td>\n",
       "      <td>-0.174630</td>\n",
       "      <td>-0.149406</td>\n",
       "      <td>...</td>\n",
       "      <td>-0.089916</td>\n",
       "      <td>-0.069810</td>\n",
       "      <td>0.037213</td>\n",
       "      <td>-0.024635</td>\n",
       "      <td>-0.051696</td>\n",
       "      <td>-0.013481</td>\n",
       "      <td>0.062318</td>\n",
       "      <td>0.026554</td>\n",
       "      <td>0.031623</td>\n",
       "      <td>-0.135946</td>\n",
       "    </tr>\n",
       "  </tbody>\n",
       "</table>\n",
       "<p>49 rows × 49 columns</p>\n",
       "</div>"
      ],
      "text/plain": [
       "                     Id  MSSubClass  LotFrontage  LotShape  LotConfig  \\\n",
       "SalePrice     -0.021673   -0.084276     0.361292  0.270477   0.092499   \n",
       "OverallQual   -0.030213    0.032522     0.206488  0.190817   0.064424   \n",
       "GrLivArea      0.003138    0.076778     0.353064  0.192468   0.060986   \n",
       "ExterQual      0.003413    0.015982     0.122734  0.180443   0.051259   \n",
       "KitchenQual    0.013709   -0.012652     0.140458  0.151122   0.034402   \n",
       "TotalBsmtSF   -0.025908   -0.253194     0.313779  0.172605   0.042197   \n",
       "GarageCars     0.016863   -0.040248     0.281073  0.194461   0.097318   \n",
       "1stFlrSF       0.003921   -0.262529     0.394293  0.165273   0.048999   \n",
       "GarageArea     0.014316   -0.099790     0.317903  0.161068   0.068097   \n",
       "BsmtQual      -0.033854    0.060142     0.121623  0.217596   0.083792   \n",
       "FullBath       0.005750    0.131773     0.187091  0.181745   0.060946   \n",
       "GarageFinish   0.013001   -0.033269     0.206785  0.233131   0.068212   \n",
       "TotRmsAbvGrd   0.025227    0.040335     0.339434  0.126653   0.026261   \n",
       "FireplaceQu    0.003231   -0.040368     0.229629  0.182126   0.030781   \n",
       "YearBuilt     -0.013463    0.027757     0.091459  0.226674   0.083040   \n",
       "YearRemodAdd  -0.022694    0.040503     0.056648  0.172670   0.075750   \n",
       "Foundation    -0.007603    0.066866     0.023025  0.165594   0.047767   \n",
       "GarageType     0.001513   -0.100578     0.272008  0.223326   0.079480   \n",
       "MasVnrArea    -0.053952    0.023423     0.152038  0.076833   0.042114   \n",
       "Fireplaces    -0.023122   -0.046009     0.239627  0.192602   0.041528   \n",
       "HeatingQC     -0.015546   -0.019558     0.070610  0.117117   0.050443   \n",
       "BsmtFinSF1    -0.015012   -0.074434     0.146506  0.127540   0.064786   \n",
       "Exterior1st   -0.001654    0.029159     0.027434  0.100561   0.009628   \n",
       "BsmtExposure   0.015689    0.042041     0.149516  0.182028   0.069130   \n",
       "LotFrontage   -0.010181   -0.414084     1.000000  0.204337   0.074351   \n",
       "WoodDeckSF    -0.030262   -0.012681     0.092277  0.159403   0.056044   \n",
       "OpenPorchSF   -0.002115   -0.006659     0.105699  0.079791   0.059458   \n",
       "2ndFlrSF       0.005248    0.308672     0.070666  0.084127   0.031950   \n",
       "HouseStyle    -0.007124    0.186376     0.077233  0.127657   0.044283   \n",
       "HalfBath       0.006071    0.177415     0.047124  0.112897   0.040774   \n",
       "LotShape      -0.028067   -0.116473     0.204337  1.000000   0.276815   \n",
       "BsmtFullBath  -0.000146    0.003294     0.068168  0.055191   0.026936   \n",
       "BsmtUnfSF     -0.007499   -0.140810     0.127331  0.014493  -0.027797   \n",
       "BedroomAbvGr   0.037649   -0.023455     0.284319  0.059844   0.036057   \n",
       "ScreenPorch    0.001491   -0.026004     0.042183  0.066678  -0.016082   \n",
       "PoolArea       0.048476    0.008090     0.106658  0.011531   0.024744   \n",
       "LotConfig     -0.015053   -0.037595     0.074351  0.276815   1.000000   \n",
       "MoSold         0.023511   -0.013581     0.022187  0.031968  -0.023353   \n",
       "3SsnPorch     -0.046600   -0.043813     0.067284  0.034485   0.058946   \n",
       "BsmtFinSF2    -0.005802   -0.065624     0.064977  0.061950   0.010835   \n",
       "BsmtHalfBath  -0.020028   -0.002308     0.011869  0.059059   0.044661   \n",
       "MiscVal       -0.006195   -0.007675     0.035609  0.029176   0.031796   \n",
       "Id             1.000000    0.011121    -0.010181 -0.028067  -0.015053   \n",
       "LowQualFinSF  -0.044191    0.046486     0.038046 -0.007576  -0.024001   \n",
       "YrSold         0.000378   -0.021386     0.000349 -0.037661   0.011064   \n",
       "OverallCond    0.012925   -0.059275    -0.029367 -0.032042   0.012180   \n",
       "MSSubClass     0.011121    1.000000    -0.414084 -0.116473  -0.037595   \n",
       "EnclosedPorch  0.003103   -0.012002     0.017687 -0.094430  -0.021226   \n",
       "KitchebvGr     0.003078    0.281752     0.001710 -0.094759  -0.025386   \n",
       "\n",
       "               HouseStyle  OverallQual  OverallCond  YearBuilt  YearRemodAdd  \\\n",
       "SalePrice        0.292263     0.795774    -0.077948   0.523608      0.507717   \n",
       "OverallQual      0.295311     1.000000    -0.090442   0.571368      0.549827   \n",
       "GrLivArea        0.387912     0.589414    -0.077423   0.194397      0.286758   \n",
       "ExterQual        0.252170     0.723286    -0.137724   0.597356      0.586675   \n",
       "KitchenQual      0.224432     0.670627    -0.025207   0.528822      0.624563   \n",
       "TotalBsmtSF     -0.028472     0.538595    -0.174931   0.400266      0.294941   \n",
       "GarageCars       0.272117     0.600741    -0.185275   0.537301      0.419882   \n",
       "1stFlrSF        -0.086386     0.469092    -0.144717   0.281253      0.238769   \n",
       "GarageArea       0.221161     0.557230    -0.150503   0.477998      0.370000   \n",
       "BsmtQual         0.241591     0.658657    -0.200155   0.656603      0.546599   \n",
       "FullBath         0.354523     0.548420    -0.193473   0.467146      0.437927   \n",
       "GarageFinish     0.290597     0.555118    -0.170498   0.594845      0.443340   \n",
       "TotRmsAbvGrd     0.346882     0.420621    -0.055782   0.091220      0.188418   \n",
       "FireplaceQu      0.113930     0.497400    -0.055271   0.219047      0.199877   \n",
       "YearBuilt        0.335103     0.571368    -0.375572   1.000000      0.592105   \n",
       "YearRemodAdd     0.293811     0.549827     0.074615   0.592105      1.000000   \n",
       "Foundation       0.307361     0.577360    -0.279920   0.644117      0.573413   \n",
       "GarageType       0.284851     0.496929    -0.140671   0.589410      0.375404   \n",
       "MasVnrArea       0.196764     0.398785    -0.124261   0.308722      0.172590   \n",
       "Fireplaces       0.116101     0.392472    -0.022406   0.144982      0.109898   \n",
       "HeatingQC        0.175592     0.456379    -0.013482   0.448075      0.549420   \n",
       "BsmtFinSF1      -0.024982     0.222467    -0.042987   0.249818      0.123039   \n",
       "Exterior1st      0.217661     0.396564    -0.172392   0.545668      0.480334   \n",
       "BsmtExposure    -0.020630     0.295445    -0.031653   0.254469      0.207194   \n",
       "LotFrontage      0.077233     0.206488    -0.029367   0.091459      0.056648   \n",
       "WoodDeckSF       0.116652     0.236753    -0.002675   0.223700      0.204591   \n",
       "OpenPorchSF      0.194471     0.297186    -0.029800   0.184116      0.222790   \n",
       "2ndFlrSF         0.529462     0.290052     0.030504   0.006968      0.137423   \n",
       "HouseStyle       1.000000     0.295311    -0.103506   0.335103      0.293811   \n",
       "HalfBath         0.482373     0.270466    -0.059971   0.241123      0.181788   \n",
       "LotShape         0.127657     0.190817    -0.032042   0.226674      0.172670   \n",
       "BsmtFullBath    -0.046123     0.104020    -0.053674   0.185012      0.116804   \n",
       "BsmtUnfSF        0.013420     0.308990    -0.136723   0.148836      0.180958   \n",
       "BedroomAbvGr     0.267404     0.101601     0.013099  -0.070992     -0.040869   \n",
       "ScreenPorch     -0.014635     0.066298     0.054632  -0.049972     -0.038360   \n",
       "PoolArea         0.027652     0.044758     0.002321  -0.005171     -0.003426   \n",
       "LotConfig        0.044283     0.064424     0.012180   0.083040      0.075750   \n",
       "MoSold           0.015159     0.072531    -0.003735   0.012975      0.022020   \n",
       "3SsnPorch       -0.011804     0.030991     0.025426   0.031578      0.045504   \n",
       "BsmtFinSF2      -0.042940    -0.058324     0.040034  -0.048683     -0.067377   \n",
       "BsmtHalfBath    -0.032625    -0.039435     0.117676  -0.037804     -0.011977   \n",
       "MiscVal         -0.033895    -0.031238     0.068728  -0.034273     -0.010160   \n",
       "Id              -0.007124    -0.030213     0.012925  -0.013463     -0.022694   \n",
       "LowQualFinSF    -0.028556    -0.030129     0.025414  -0.183770     -0.062289   \n",
       "YrSold          -0.008630    -0.026575     0.043795  -0.013250      0.036145   \n",
       "OverallCond     -0.103506    -0.090442     1.000000  -0.375572      0.074615   \n",
       "MSSubClass       0.186376     0.032522    -0.059275   0.027757      0.040503   \n",
       "EnclosedPorch   -0.121171    -0.113176     0.070120  -0.387093     -0.193551   \n",
       "KitchebvGr      -0.024264    -0.184077    -0.087170  -0.174630     -0.149406   \n",
       "\n",
       "               ...  WoodDeckSF  OpenPorchSF  EnclosedPorch  3SsnPorch  \\\n",
       "SalePrice      ...    0.324758     0.321142      -0.128646   0.044568   \n",
       "OverallQual    ...    0.236753     0.297186      -0.113176   0.030991   \n",
       "GrLivArea      ...    0.247120     0.302569       0.012976   0.022520   \n",
       "ExterQual      ...    0.205586     0.279707      -0.149025   0.037582   \n",
       "KitchenQual    ...    0.219112     0.249783      -0.105126   0.022769   \n",
       "TotalBsmtSF    ...    0.234476     0.215140      -0.096773   0.040921   \n",
       "GarageCars     ...    0.225462     0.209968      -0.151110   0.035957   \n",
       "1stFlrSF       ...    0.235439     0.178859      -0.064247   0.059521   \n",
       "GarageArea     ...    0.222482     0.228246      -0.121194   0.035880   \n",
       "BsmtQual       ...    0.262482     0.260816      -0.203033   0.010975   \n",
       "FullBath       ...    0.186147     0.252678      -0.114558   0.035715   \n",
       "GarageFinish   ...    0.250194     0.196671      -0.187237   0.034922   \n",
       "TotRmsAbvGrd   ...    0.163218     0.220052       0.005700  -0.006235   \n",
       "FireplaceQu    ...    0.211295     0.156796      -0.042915   0.037962   \n",
       "YearBuilt      ...    0.223700     0.184116      -0.387093   0.031578   \n",
       "YearRemodAdd   ...    0.204591     0.222790      -0.193551   0.045504   \n",
       "Foundation     ...    0.176950     0.228337      -0.167918   0.017907   \n",
       "GarageType     ...    0.261738     0.154637      -0.184755   0.049153   \n",
       "MasVnrArea     ...    0.156812     0.101698      -0.109126   0.019933   \n",
       "Fireplaces     ...    0.198294     0.160924      -0.023879   0.011657   \n",
       "HeatingQC      ...    0.129869     0.172574      -0.101368   0.059826   \n",
       "BsmtFinSF1     ...    0.204993     0.072717      -0.103853   0.029177   \n",
       "Exterior1st    ...    0.126352     0.195974      -0.175786   0.001081   \n",
       "BsmtExposure   ...    0.244759     0.083108      -0.076415  -0.017925   \n",
       "LotFrontage    ...    0.092277     0.105699       0.017687   0.067284   \n",
       "WoodDeckSF     ...    1.000000     0.053686      -0.125616  -0.032642   \n",
       "OpenPorchSF    ...    0.053686     1.000000      -0.092212  -0.005191   \n",
       "2ndFlrSF       ...    0.089902     0.197938       0.063211  -0.024107   \n",
       "HouseStyle     ...    0.116652     0.194471      -0.121171  -0.011804   \n",
       "HalfBath       ...    0.106685     0.195162      -0.094818  -0.004782   \n",
       "LotShape       ...    0.159403     0.079791      -0.094430   0.034485   \n",
       "BsmtFullBath   ...    0.173360     0.056548      -0.049070   0.000225   \n",
       "BsmtUnfSF      ...   -0.005609     0.128917      -0.002422   0.020806   \n",
       "BedroomAbvGr   ...    0.046673     0.094190       0.041656  -0.024452   \n",
       "ScreenPorch    ...   -0.073884     0.077150      -0.083009  -0.031481   \n",
       "PoolArea       ...    0.069100     0.032920       0.060101  -0.007417   \n",
       "LotConfig      ...    0.056044     0.059458      -0.021226   0.058946   \n",
       "MoSold         ...    0.021509     0.072416      -0.029097   0.029483   \n",
       "3SsnPorch      ...   -0.032642    -0.005191      -0.037366   1.000000   \n",
       "BsmtFinSF2     ...    0.068312     0.004974       0.036406  -0.030041   \n",
       "BsmtHalfBath   ...    0.040495    -0.024176      -0.008675   0.035077   \n",
       "MiscVal        ...   -0.009445    -0.018308       0.018319   0.000340   \n",
       "Id             ...   -0.030262    -0.002115       0.003103  -0.046600   \n",
       "LowQualFinSF   ...   -0.025305     0.019292       0.061028  -0.004315   \n",
       "YrSold         ...    0.022579    -0.056537      -0.010035   0.018610   \n",
       "OverallCond    ...   -0.002675    -0.029800       0.070120   0.025426   \n",
       "MSSubClass     ...   -0.012681    -0.006659      -0.012002  -0.043813   \n",
       "EnclosedPorch  ...   -0.125616    -0.092212       1.000000  -0.037366   \n",
       "KitchebvGr     ...   -0.089916    -0.069810       0.037213  -0.024635   \n",
       "\n",
       "               ScreenPorch  PoolArea   MiscVal    MoSold    YrSold  SalePrice  \n",
       "SalePrice         0.111415  0.099490 -0.021203  0.046124 -0.028882   1.000000  \n",
       "OverallQual       0.066298  0.044758 -0.031238  0.072531 -0.026575   0.795774  \n",
       "GrLivArea         0.107768  0.115999 -0.001637  0.057296 -0.035971   0.734968  \n",
       "ExterQual         0.013799  0.012827 -0.039184  0.044280 -0.005866   0.686756  \n",
       "KitchenQual       0.031731  0.046646 -0.054012  0.052985  0.002788   0.662236  \n",
       "TotalBsmtSF       0.092574  0.036089 -0.018514  0.025775 -0.014880   0.651153  \n",
       "GarageCars        0.050909  0.019446 -0.043004  0.039520 -0.038494   0.641047  \n",
       "1stFlrSF          0.095042  0.062756 -0.021045  0.040558 -0.012810   0.631530  \n",
       "GarageArea        0.053015  0.026642 -0.027236  0.032470 -0.027209   0.629217  \n",
       "BsmtQual          0.030462  0.012592 -0.043146  0.016445 -0.017597   0.624758  \n",
       "FullBath         -0.007496  0.045656 -0.014122  0.054756 -0.018697   0.562165  \n",
       "GarageFinish      0.041669  0.018035 -0.003183 -0.000083  0.001939   0.550255  \n",
       "TotRmsAbvGrd      0.060920  0.059728  0.025297  0.039221 -0.033901   0.537769  \n",
       "FireplaceQu       0.147088  0.032945 -0.024111  0.054510 -0.050337   0.527256  \n",
       "YearBuilt        -0.049972 -0.005171 -0.034273  0.012975 -0.013250   0.523608  \n",
       "YearRemodAdd     -0.038360 -0.003426 -0.010160  0.022020  0.036145   0.507717  \n",
       "Foundation       -0.053332 -0.016876 -0.064806  0.021040 -0.033946   0.502768  \n",
       "GarageType        0.049566  0.022017  0.013625  0.026289 -0.003016   0.496644  \n",
       "MasVnrArea        0.064258 -0.020350 -0.029346 -0.005006 -0.007215   0.477810  \n",
       "Fireplaces        0.186238  0.068655  0.001676  0.051142 -0.024315   0.469862  \n",
       "HeatingQC        -0.034613 -0.057745 -0.026780  0.015935 -0.009365   0.428024  \n",
       "BsmtFinSF1        0.068389  0.052981  0.004741 -0.004281  0.015767   0.409384  \n",
       "Exterior1st      -0.049561 -0.025228 -0.024777  0.004053  0.014829   0.383349  \n",
       "BsmtExposure      0.057929  0.013197 -0.005497  0.018078 -0.063932   0.382907  \n",
       "LotFrontage       0.042183  0.106658  0.035609  0.022187  0.000349   0.361292  \n",
       "WoodDeckSF       -0.073884  0.069100 -0.009445  0.021509  0.022579   0.324758  \n",
       "OpenPorchSF       0.077150  0.032920 -0.018308  0.072416 -0.056537   0.321142  \n",
       "2ndFlrSF          0.041504  0.074258  0.016497  0.034665 -0.027775   0.320532  \n",
       "HouseStyle       -0.014635  0.027652 -0.033895  0.015159 -0.008630   0.292263  \n",
       "HalfBath          0.072960  0.013097  0.001439 -0.008563 -0.009880   0.284590  \n",
       "LotShape          0.066678  0.011531  0.029176  0.031968 -0.037661   0.270477  \n",
       "BsmtFullBath      0.024003  0.045344 -0.022880 -0.022423  0.067479   0.228459  \n",
       "BsmtUnfSF        -0.012494 -0.034936 -0.023813  0.033997 -0.040953   0.214460  \n",
       "BedroomAbvGr      0.044363  0.072999  0.007787  0.046705 -0.035966   0.168245  \n",
       "ScreenPorch       1.000000  0.056293  0.031915  0.023151  0.010608   0.111415  \n",
       "PoolArea          0.056293  1.000000  0.031965 -0.018601 -0.064030   0.099490  \n",
       "LotConfig        -0.016082  0.024744  0.031796 -0.023353  0.011064   0.092499  \n",
       "MoSold            0.023151 -0.018601 -0.006544  1.000000 -0.145267   0.046124  \n",
       "3SsnPorch        -0.031481 -0.007417  0.000340  0.029483  0.018610   0.044568  \n",
       "BsmtFinSF2        0.088774  0.046350  0.004905 -0.015362  0.031618  -0.011422  \n",
       "BsmtHalfBath      0.032035  0.023126 -0.007396  0.032838 -0.046611  -0.016881  \n",
       "MiscVal           0.031915  0.031965  1.000000 -0.006544  0.004878  -0.021203  \n",
       "Id                0.001491  0.048476 -0.006195  0.023511  0.000378  -0.021673  \n",
       "LowQualFinSF      0.026756  0.066428 -0.003807 -0.022268 -0.028964  -0.025625  \n",
       "YrSold            0.010608 -0.064030  0.004878 -0.145267  1.000000  -0.028882  \n",
       "OverallCond       0.054632  0.002321  0.068728 -0.003735  0.043795  -0.077948  \n",
       "MSSubClass       -0.026004  0.008090 -0.007675 -0.013581 -0.021386  -0.084276  \n",
       "EnclosedPorch    -0.083009  0.060101  0.018319 -0.029097 -0.010035  -0.128646  \n",
       "KitchebvGr       -0.051696 -0.013481  0.062318  0.026554  0.031623  -0.135946  \n",
       "\n",
       "[49 rows x 49 columns]"
      ]
     },
     "execution_count": 71,
     "metadata": {},
     "output_type": "execute_result"
    }
   ],
   "source": [
    "core=train.corr()\n",
    "core_des=core.sort_values(by='SalePrice',ascending=False)\n",
    "core_des"
   ]
  },
  {
   "cell_type": "code",
   "execution_count": 72,
   "metadata": {
    "_uuid": "023133cd0144df05a9b665c57e2b65847c46e2d1"
   },
   "outputs": [
    {
     "data": {
      "text/plain": [
       "Index(['OverallQual', 'GrLivArea', 'ExterQual', 'KitchenQual', 'TotalBsmtSF',\n",
       "       'GarageCars', '1stFlrSF', 'GarageArea', 'BsmtQual', 'FullBath',\n",
       "       'GarageFinish', 'TotRmsAbvGrd', 'FireplaceQu', 'YearBuilt',\n",
       "       'YearRemodAdd', 'Foundation'],\n",
       "      dtype='object')"
      ]
     },
     "execution_count": 72,
     "metadata": {},
     "output_type": "execute_result"
    }
   ],
   "source": [
    "core_des_top=core_des[(core_des['SalePrice']>0.5) & (core_des['SalePrice'] !=1)]\n",
    "core_des_top.index"
   ]
  },
  {
   "cell_type": "code",
   "execution_count": 73,
   "metadata": {
    "_uuid": "23e29215c8d86e873db3d01f262a02df93350ee1"
   },
   "outputs": [],
   "source": [
    "features.append(['OverallQual', 'GrLivArea', 'Neighborhood', 'ExterQual', 'KitchenQual',\n",
    "       'TotalBsmtSF', 'GarageCars', '1stFlrSF', 'GarageArea', 'BsmtQual',\n",
    "       'FullBath', 'GarageFinish', 'TotRmsAbvGrd', 'FireplaceQu',\n",
    "       'Foundation'])"
   ]
  },
  {
   "cell_type": "code",
   "execution_count": 74,
   "metadata": {
    "_uuid": "84f7c6a7d9ad60d6bd54eb0bffded7ffbaf7718d"
   },
   "outputs": [
    {
     "data": {
      "text/plain": [
       "Index(['BsmtFinSF2', 'BsmtHalfBath', 'MiscVal', 'Id', 'LowQualFinSF', 'YrSold',\n",
       "       'OverallCond', 'MSSubClass', 'EnclosedPorch', 'KitchebvGr'],\n",
       "      dtype='object')"
      ]
     },
     "execution_count": 74,
     "metadata": {},
     "output_type": "execute_result"
    }
   ],
   "source": [
    "core_des_low=core_des[(core_des['SalePrice']<0)]\n",
    "core_des_low.index"
   ]
  },
  {
   "cell_type": "code",
   "execution_count": 75,
   "metadata": {
    "_uuid": "a2e492991448e053b65a76c3747c30e5ce84b02f"
   },
   "outputs": [],
   "source": [
    "features.append(['BsmtFinSF2', 'MiscVal', 'Id', 'OverallCond', 'EnclosedPorch'])\n"
   ]
  },
  {
   "cell_type": "code",
   "execution_count": 76,
   "metadata": {
    "_uuid": "341d03bac576dc11924cefa0ecf07c00734901d5"
   },
   "outputs": [],
   "source": [
    "features=['LotShape',\n",
    " 'LotConfig',\n",
    " 'Neighborhood',\n",
    " 'HouseStyle',\n",
    " 'Exterior1st',\n",
    " 'ExterQual',\n",
    " 'Foundation',\n",
    " 'BsmtQual',\n",
    " 'BsmtExposure',\n",
    " 'HeatingQC',\n",
    " 'KitchenQual',\n",
    " 'FireplaceQu',\n",
    " 'GarageType',\n",
    " 'GarageFinish',\n",
    " 'OverallQual',\n",
    "  'GrLivArea',\n",
    "  'Neighborhood',\n",
    "  'ExterQual',\n",
    "  'KitchenQual',\n",
    "  'TotalBsmtSF',\n",
    "  'GarageCars',\n",
    "  '1stFlrSF',\n",
    "  'GarageArea',\n",
    "  'BsmtQual',\n",
    "  'FullBath',\n",
    "  'GarageFinish',\n",
    "  'TotRmsAbvGrd',\n",
    "  'FireplaceQu',\n",
    "  'Foundation',\n",
    " 'BsmtFinSF2', 'MiscVal', 'Id', 'OverallCond', 'EnclosedPorch','SalePrice']"
   ]
  },
  {
   "cell_type": "code",
   "execution_count": 79,
   "metadata": {
    "_uuid": "299a3dfba612cbf94a28c4fd07f5ebe99e021bff"
   },
   "outputs": [],
   "source": [
    "train_d=train.copy()"
   ]
  },
  {
   "cell_type": "code",
   "execution_count": 80,
   "metadata": {
    "_uuid": "e920c5a6f1c5552191345fd457fbf8ff52de6412"
   },
   "outputs": [],
   "source": [
    "train_d=train_d[features]"
   ]
  },
  {
   "cell_type": "code",
   "execution_count": 81,
   "metadata": {
    "_uuid": "4b3329bcf4a3041d5b4acde1fb07699dea90480e"
   },
   "outputs": [
    {
     "data": {
      "text/html": [
       "<div>\n",
       "<style scoped>\n",
       "    .dataframe tbody tr th:only-of-type {\n",
       "        vertical-align: middle;\n",
       "    }\n",
       "\n",
       "    .dataframe tbody tr th {\n",
       "        vertical-align: top;\n",
       "    }\n",
       "\n",
       "    .dataframe thead th {\n",
       "        text-align: right;\n",
       "    }\n",
       "</style>\n",
       "<table border=\"1\" class=\"dataframe\">\n",
       "  <thead>\n",
       "    <tr style=\"text-align: right;\">\n",
       "      <th></th>\n",
       "      <th>LotShape</th>\n",
       "      <th>LotConfig</th>\n",
       "      <th>Neighborhood</th>\n",
       "      <th>HouseStyle</th>\n",
       "      <th>Exterior1st</th>\n",
       "      <th>ExterQual</th>\n",
       "      <th>Foundation</th>\n",
       "      <th>BsmtQual</th>\n",
       "      <th>BsmtExposure</th>\n",
       "      <th>HeatingQC</th>\n",
       "      <th>...</th>\n",
       "      <th>GarageFinish</th>\n",
       "      <th>TotRmsAbvGrd</th>\n",
       "      <th>FireplaceQu</th>\n",
       "      <th>Foundation</th>\n",
       "      <th>BsmtFinSF2</th>\n",
       "      <th>MiscVal</th>\n",
       "      <th>Id</th>\n",
       "      <th>OverallCond</th>\n",
       "      <th>EnclosedPorch</th>\n",
       "      <th>SalePrice</th>\n",
       "    </tr>\n",
       "  </thead>\n",
       "  <tbody>\n",
       "    <tr>\n",
       "      <th>0</th>\n",
       "      <td>1</td>\n",
       "      <td>1</td>\n",
       "      <td>7</td>\n",
       "      <td>4</td>\n",
       "      <td>5</td>\n",
       "      <td>3</td>\n",
       "      <td>4</td>\n",
       "      <td>4</td>\n",
       "      <td>2</td>\n",
       "      <td>5</td>\n",
       "      <td>...</td>\n",
       "      <td>3</td>\n",
       "      <td>8</td>\n",
       "      <td>1</td>\n",
       "      <td>4</td>\n",
       "      <td>0</td>\n",
       "      <td>0</td>\n",
       "      <td>1</td>\n",
       "      <td>5</td>\n",
       "      <td>0</td>\n",
       "      <td>208500</td>\n",
       "    </tr>\n",
       "    <tr>\n",
       "      <th>1</th>\n",
       "      <td>1</td>\n",
       "      <td>4</td>\n",
       "      <td>8</td>\n",
       "      <td>3</td>\n",
       "      <td>3</td>\n",
       "      <td>2</td>\n",
       "      <td>2</td>\n",
       "      <td>4</td>\n",
       "      <td>4</td>\n",
       "      <td>5</td>\n",
       "      <td>...</td>\n",
       "      <td>3</td>\n",
       "      <td>6</td>\n",
       "      <td>3</td>\n",
       "      <td>2</td>\n",
       "      <td>0</td>\n",
       "      <td>0</td>\n",
       "      <td>2</td>\n",
       "      <td>8</td>\n",
       "      <td>0</td>\n",
       "      <td>181500</td>\n",
       "    </tr>\n",
       "    <tr>\n",
       "      <th>2</th>\n",
       "      <td>2</td>\n",
       "      <td>1</td>\n",
       "      <td>7</td>\n",
       "      <td>4</td>\n",
       "      <td>5</td>\n",
       "      <td>3</td>\n",
       "      <td>4</td>\n",
       "      <td>4</td>\n",
       "      <td>3</td>\n",
       "      <td>5</td>\n",
       "      <td>...</td>\n",
       "      <td>3</td>\n",
       "      <td>6</td>\n",
       "      <td>3</td>\n",
       "      <td>4</td>\n",
       "      <td>0</td>\n",
       "      <td>0</td>\n",
       "      <td>3</td>\n",
       "      <td>5</td>\n",
       "      <td>0</td>\n",
       "      <td>223500</td>\n",
       "    </tr>\n",
       "    <tr>\n",
       "      <th>3</th>\n",
       "      <td>2</td>\n",
       "      <td>2</td>\n",
       "      <td>7</td>\n",
       "      <td>4</td>\n",
       "      <td>3</td>\n",
       "      <td>2</td>\n",
       "      <td>2</td>\n",
       "      <td>3</td>\n",
       "      <td>2</td>\n",
       "      <td>4</td>\n",
       "      <td>...</td>\n",
       "      <td>2</td>\n",
       "      <td>7</td>\n",
       "      <td>4</td>\n",
       "      <td>2</td>\n",
       "      <td>0</td>\n",
       "      <td>0</td>\n",
       "      <td>4</td>\n",
       "      <td>5</td>\n",
       "      <td>272</td>\n",
       "      <td>140000</td>\n",
       "    </tr>\n",
       "    <tr>\n",
       "      <th>4</th>\n",
       "      <td>2</td>\n",
       "      <td>4</td>\n",
       "      <td>10</td>\n",
       "      <td>4</td>\n",
       "      <td>5</td>\n",
       "      <td>3</td>\n",
       "      <td>4</td>\n",
       "      <td>4</td>\n",
       "      <td>3</td>\n",
       "      <td>5</td>\n",
       "      <td>...</td>\n",
       "      <td>3</td>\n",
       "      <td>9</td>\n",
       "      <td>3</td>\n",
       "      <td>4</td>\n",
       "      <td>0</td>\n",
       "      <td>0</td>\n",
       "      <td>5</td>\n",
       "      <td>5</td>\n",
       "      <td>0</td>\n",
       "      <td>250000</td>\n",
       "    </tr>\n",
       "    <tr>\n",
       "      <th>...</th>\n",
       "      <td>...</td>\n",
       "      <td>...</td>\n",
       "      <td>...</td>\n",
       "      <td>...</td>\n",
       "      <td>...</td>\n",
       "      <td>...</td>\n",
       "      <td>...</td>\n",
       "      <td>...</td>\n",
       "      <td>...</td>\n",
       "      <td>...</td>\n",
       "      <td>...</td>\n",
       "      <td>...</td>\n",
       "      <td>...</td>\n",
       "      <td>...</td>\n",
       "      <td>...</td>\n",
       "      <td>...</td>\n",
       "      <td>...</td>\n",
       "      <td>...</td>\n",
       "      <td>...</td>\n",
       "      <td>...</td>\n",
       "      <td>...</td>\n",
       "    </tr>\n",
       "    <tr>\n",
       "      <th>1455</th>\n",
       "      <td>1</td>\n",
       "      <td>1</td>\n",
       "      <td>6</td>\n",
       "      <td>4</td>\n",
       "      <td>5</td>\n",
       "      <td>2</td>\n",
       "      <td>4</td>\n",
       "      <td>4</td>\n",
       "      <td>2</td>\n",
       "      <td>5</td>\n",
       "      <td>...</td>\n",
       "      <td>3</td>\n",
       "      <td>7</td>\n",
       "      <td>3</td>\n",
       "      <td>4</td>\n",
       "      <td>0</td>\n",
       "      <td>0</td>\n",
       "      <td>1456</td>\n",
       "      <td>5</td>\n",
       "      <td>0</td>\n",
       "      <td>175000</td>\n",
       "    </tr>\n",
       "    <tr>\n",
       "      <th>1456</th>\n",
       "      <td>1</td>\n",
       "      <td>1</td>\n",
       "      <td>6</td>\n",
       "      <td>3</td>\n",
       "      <td>4</td>\n",
       "      <td>2</td>\n",
       "      <td>2</td>\n",
       "      <td>4</td>\n",
       "      <td>2</td>\n",
       "      <td>3</td>\n",
       "      <td>...</td>\n",
       "      <td>2</td>\n",
       "      <td>7</td>\n",
       "      <td>3</td>\n",
       "      <td>2</td>\n",
       "      <td>163</td>\n",
       "      <td>0</td>\n",
       "      <td>1457</td>\n",
       "      <td>6</td>\n",
       "      <td>0</td>\n",
       "      <td>210000</td>\n",
       "    </tr>\n",
       "    <tr>\n",
       "      <th>1457</th>\n",
       "      <td>1</td>\n",
       "      <td>1</td>\n",
       "      <td>7</td>\n",
       "      <td>4</td>\n",
       "      <td>6</td>\n",
       "      <td>4</td>\n",
       "      <td>2</td>\n",
       "      <td>3</td>\n",
       "      <td>2</td>\n",
       "      <td>5</td>\n",
       "      <td>...</td>\n",
       "      <td>3</td>\n",
       "      <td>9</td>\n",
       "      <td>4</td>\n",
       "      <td>2</td>\n",
       "      <td>0</td>\n",
       "      <td>2500</td>\n",
       "      <td>1458</td>\n",
       "      <td>9</td>\n",
       "      <td>0</td>\n",
       "      <td>266500</td>\n",
       "    </tr>\n",
       "    <tr>\n",
       "      <th>1458</th>\n",
       "      <td>1</td>\n",
       "      <td>1</td>\n",
       "      <td>mes</td>\n",
       "      <td>3</td>\n",
       "      <td>3</td>\n",
       "      <td>2</td>\n",
       "      <td>2</td>\n",
       "      <td>3</td>\n",
       "      <td>3</td>\n",
       "      <td>4</td>\n",
       "      <td>...</td>\n",
       "      <td>2</td>\n",
       "      <td>5</td>\n",
       "      <td>1</td>\n",
       "      <td>2</td>\n",
       "      <td>1029</td>\n",
       "      <td>0</td>\n",
       "      <td>1459</td>\n",
       "      <td>6</td>\n",
       "      <td>112</td>\n",
       "      <td>142125</td>\n",
       "    </tr>\n",
       "    <tr>\n",
       "      <th>1459</th>\n",
       "      <td>1</td>\n",
       "      <td>1</td>\n",
       "      <td>3</td>\n",
       "      <td>3</td>\n",
       "      <td>3</td>\n",
       "      <td>3</td>\n",
       "      <td>2</td>\n",
       "      <td>3</td>\n",
       "      <td>2</td>\n",
       "      <td>4</td>\n",
       "      <td>...</td>\n",
       "      <td>4</td>\n",
       "      <td>6</td>\n",
       "      <td>1</td>\n",
       "      <td>2</td>\n",
       "      <td>290</td>\n",
       "      <td>0</td>\n",
       "      <td>1460</td>\n",
       "      <td>6</td>\n",
       "      <td>0</td>\n",
       "      <td>147500</td>\n",
       "    </tr>\n",
       "  </tbody>\n",
       "</table>\n",
       "<p>1458 rows × 35 columns</p>\n",
       "</div>"
      ],
      "text/plain": [
       "      LotShape  LotConfig Neighborhood  HouseStyle  Exterior1st  ExterQual  \\\n",
       "0            1          1            7           4            5          3   \n",
       "1            1          4            8           3            3          2   \n",
       "2            2          1            7           4            5          3   \n",
       "3            2          2            7           4            3          2   \n",
       "4            2          4           10           4            5          3   \n",
       "...        ...        ...          ...         ...          ...        ...   \n",
       "1455         1          1            6           4            5          2   \n",
       "1456         1          1            6           3            4          2   \n",
       "1457         1          1            7           4            6          4   \n",
       "1458         1          1          mes           3            3          2   \n",
       "1459         1          1            3           3            3          3   \n",
       "\n",
       "      Foundation  BsmtQual  BsmtExposure  HeatingQC  ...  GarageFinish  \\\n",
       "0              4         4             2          5  ...             3   \n",
       "1              2         4             4          5  ...             3   \n",
       "2              4         4             3          5  ...             3   \n",
       "3              2         3             2          4  ...             2   \n",
       "4              4         4             3          5  ...             3   \n",
       "...          ...       ...           ...        ...  ...           ...   \n",
       "1455           4         4             2          5  ...             3   \n",
       "1456           2         4             2          3  ...             2   \n",
       "1457           2         3             2          5  ...             3   \n",
       "1458           2         3             3          4  ...             2   \n",
       "1459           2         3             2          4  ...             4   \n",
       "\n",
       "      TotRmsAbvGrd  FireplaceQu  Foundation  BsmtFinSF2  MiscVal    Id  \\\n",
       "0                8            1           4           0        0     1   \n",
       "1                6            3           2           0        0     2   \n",
       "2                6            3           4           0        0     3   \n",
       "3                7            4           2           0        0     4   \n",
       "4                9            3           4           0        0     5   \n",
       "...            ...          ...         ...         ...      ...   ...   \n",
       "1455             7            3           4           0        0  1456   \n",
       "1456             7            3           2         163        0  1457   \n",
       "1457             9            4           2           0     2500  1458   \n",
       "1458             5            1           2        1029        0  1459   \n",
       "1459             6            1           2         290        0  1460   \n",
       "\n",
       "      OverallCond  EnclosedPorch  SalePrice  \n",
       "0               5              0     208500  \n",
       "1               8              0     181500  \n",
       "2               5              0     223500  \n",
       "3               5            272     140000  \n",
       "4               5              0     250000  \n",
       "...           ...            ...        ...  \n",
       "1455            5              0     175000  \n",
       "1456            6              0     210000  \n",
       "1457            9              0     266500  \n",
       "1458            6            112     142125  \n",
       "1459            6              0     147500  \n",
       "\n",
       "[1458 rows x 35 columns]"
      ]
     },
     "execution_count": 81,
     "metadata": {},
     "output_type": "execute_result"
    }
   ],
   "source": [
    "train_d"
   ]
  },
  {
   "cell_type": "code",
   "execution_count": 82,
   "metadata": {
    "_uuid": "f88e698b5e8ff9735c4c62f5397bfb2856a133f3"
   },
   "outputs": [],
   "source": [
    "train_d=pd.get_dummies(train_d)"
   ]
  },
  {
   "cell_type": "code",
   "execution_count": 83,
   "metadata": {
    "_uuid": "fc64209d0ba91bd43e32ccc87a4d5eb1992434c0"
   },
   "outputs": [],
   "source": [
    "test_d=pd.get_dummies(test)"
   ]
  },
  {
   "cell_type": "code",
   "execution_count": 84,
   "metadata": {
    "_uuid": "8294154ff43ad48a14174cbeccd56a50bfa7cb47"
   },
   "outputs": [],
   "source": [
    "test_d.drop(['Id'],axis=1,inplace=True)"
   ]
  },
  {
   "cell_type": "code",
   "execution_count": 85,
   "metadata": {
    "_uuid": "ecedb985254c7608d4b8bcf9a7080aaba7494280"
   },
   "outputs": [
    {
     "data": {
      "text/plain": [
       "Index(['LotShape', 'LotConfig', 'HouseStyle', 'Exterior1st', 'ExterQual',\n",
       "       'Foundation', 'BsmtQual', 'BsmtExposure', 'HeatingQC', 'KitchenQual',\n",
       "       'FireplaceQu', 'GarageType', 'GarageFinish', 'OverallQual', 'GrLivArea',\n",
       "       'ExterQual', 'KitchenQual', 'TotalBsmtSF', 'GarageCars', '1stFlrSF',\n",
       "       'GarageArea', 'BsmtQual', 'FullBath', 'GarageFinish', 'TotRmsAbvGrd',\n",
       "       'FireplaceQu', 'Foundation', 'BsmtFinSF2', 'MiscVal', 'Id',\n",
       "       'OverallCond', 'EnclosedPorch', 'SalePrice', 'Neighborhood_1',\n",
       "       'Neighborhood_2', 'Neighborhood_3', 'Neighborhood_4', 'Neighborhood_5',\n",
       "       'Neighborhood_6', 'Neighborhood_7', 'Neighborhood_8', 'Neighborhood_9',\n",
       "       'Neighborhood_10', 'Neighborhood_mes', 'Neighborhood_1',\n",
       "       'Neighborhood_2', 'Neighborhood_3', 'Neighborhood_4', 'Neighborhood_5',\n",
       "       'Neighborhood_6', 'Neighborhood_7', 'Neighborhood_8', 'Neighborhood_9',\n",
       "       'Neighborhood_10', 'Neighborhood_mes'],\n",
       "      dtype='object')"
      ]
     },
     "execution_count": 85,
     "metadata": {},
     "output_type": "execute_result"
    }
   ],
   "source": [
    "train_d.columns"
   ]
  },
  {
   "cell_type": "code",
   "execution_count": 86,
   "metadata": {
    "_uuid": "1e7b442379156fac9fc9d9871ec102e043383c3d"
   },
   "outputs": [
    {
     "name": "stdout",
     "output_type": "stream",
     "text": [
      "LotShape\n",
      "LotConfig\n",
      "HouseStyle\n",
      "Exterior1st\n",
      "ExterQual\n",
      "Foundation\n",
      "BsmtQual\n",
      "BsmtExposure\n",
      "HeatingQC\n",
      "KitchenQual\n",
      "FireplaceQu\n",
      "GarageType\n",
      "GarageFinish\n",
      "OverallQual\n",
      "GrLivArea\n",
      "ExterQual\n",
      "KitchenQual\n",
      "TotalBsmtSF\n",
      "GarageCars\n",
      "1stFlrSF\n",
      "GarageArea\n",
      "BsmtQual\n",
      "FullBath\n",
      "GarageFinish\n",
      "TotRmsAbvGrd\n",
      "FireplaceQu\n",
      "Foundation\n",
      "BsmtFinSF2\n",
      "MiscVal\n",
      "Id\n",
      "OverallCond\n",
      "EnclosedPorch\n",
      "SalePrice\n",
      "Neighborhood_1\n",
      "Neighborhood_2\n",
      "Neighborhood_3\n",
      "Neighborhood_4\n",
      "Neighborhood_5\n",
      "Neighborhood_6\n",
      "Neighborhood_7\n",
      "Neighborhood_8\n",
      "Neighborhood_9\n",
      "Neighborhood_10\n",
      "Neighborhood_mes\n",
      "Neighborhood_1\n",
      "Neighborhood_2\n",
      "Neighborhood_3\n",
      "Neighborhood_4\n",
      "Neighborhood_5\n",
      "Neighborhood_6\n",
      "Neighborhood_7\n",
      "Neighborhood_8\n",
      "Neighborhood_9\n",
      "Neighborhood_10\n",
      "Neighborhood_mes\n"
     ]
    }
   ],
   "source": [
    "for col in train_d.columns:\n",
    "    print(col,)"
   ]
  },
  {
   "cell_type": "code",
   "execution_count": 88,
   "metadata": {
    "_uuid": "dedf0623d597cbf477eb77f02669ce7b387f4dc6"
   },
   "outputs": [],
   "source": [
    "from sklearn.linear_model import LinearRegression\n",
    "from sklearn.model_selection import train_test_split\n",
    "predictors=train_d.drop(['Id','SalePrice'],axis=1)\n",
    "target=train.SalePrice\n",
    "x_train,x_cv,y_train,y_cv=train_test_split(predictors,target,test_size=0.35,random_state=0)\n"
   ]
  },
  {
   "cell_type": "code",
   "execution_count": 92,
   "metadata": {
    "_uuid": "6eb16066498f5af34f3ba41b88f0eb5f8d44f1cc"
   },
   "outputs": [
    {
     "data": {
      "text/html": [
       "<style>#sk-container-id-2 {color: black;background-color: white;}#sk-container-id-2 pre{padding: 0;}#sk-container-id-2 div.sk-toggleable {background-color: white;}#sk-container-id-2 label.sk-toggleable__label {cursor: pointer;display: block;width: 100%;margin-bottom: 0;padding: 0.3em;box-sizing: border-box;text-align: center;}#sk-container-id-2 label.sk-toggleable__label-arrow:before {content: \"▸\";float: left;margin-right: 0.25em;color: #696969;}#sk-container-id-2 label.sk-toggleable__label-arrow:hover:before {color: black;}#sk-container-id-2 div.sk-estimator:hover label.sk-toggleable__label-arrow:before {color: black;}#sk-container-id-2 div.sk-toggleable__content {max-height: 0;max-width: 0;overflow: hidden;text-align: left;background-color: #f0f8ff;}#sk-container-id-2 div.sk-toggleable__content pre {margin: 0.2em;color: black;border-radius: 0.25em;background-color: #f0f8ff;}#sk-container-id-2 input.sk-toggleable__control:checked~div.sk-toggleable__content {max-height: 200px;max-width: 100%;overflow: auto;}#sk-container-id-2 input.sk-toggleable__control:checked~label.sk-toggleable__label-arrow:before {content: \"▾\";}#sk-container-id-2 div.sk-estimator input.sk-toggleable__control:checked~label.sk-toggleable__label {background-color: #d4ebff;}#sk-container-id-2 div.sk-label input.sk-toggleable__control:checked~label.sk-toggleable__label {background-color: #d4ebff;}#sk-container-id-2 input.sk-hidden--visually {border: 0;clip: rect(1px 1px 1px 1px);clip: rect(1px, 1px, 1px, 1px);height: 1px;margin: -1px;overflow: hidden;padding: 0;position: absolute;width: 1px;}#sk-container-id-2 div.sk-estimator {font-family: monospace;background-color: #f0f8ff;border: 1px dotted black;border-radius: 0.25em;box-sizing: border-box;margin-bottom: 0.5em;}#sk-container-id-2 div.sk-estimator:hover {background-color: #d4ebff;}#sk-container-id-2 div.sk-parallel-item::after {content: \"\";width: 100%;border-bottom: 1px solid gray;flex-grow: 1;}#sk-container-id-2 div.sk-label:hover label.sk-toggleable__label {background-color: #d4ebff;}#sk-container-id-2 div.sk-serial::before {content: \"\";position: absolute;border-left: 1px solid gray;box-sizing: border-box;top: 0;bottom: 0;left: 50%;z-index: 0;}#sk-container-id-2 div.sk-serial {display: flex;flex-direction: column;align-items: center;background-color: white;padding-right: 0.2em;padding-left: 0.2em;position: relative;}#sk-container-id-2 div.sk-item {position: relative;z-index: 1;}#sk-container-id-2 div.sk-parallel {display: flex;align-items: stretch;justify-content: center;background-color: white;position: relative;}#sk-container-id-2 div.sk-item::before, #sk-container-id-2 div.sk-parallel-item::before {content: \"\";position: absolute;border-left: 1px solid gray;box-sizing: border-box;top: 0;bottom: 0;left: 50%;z-index: -1;}#sk-container-id-2 div.sk-parallel-item {display: flex;flex-direction: column;z-index: 1;position: relative;background-color: white;}#sk-container-id-2 div.sk-parallel-item:first-child::after {align-self: flex-end;width: 50%;}#sk-container-id-2 div.sk-parallel-item:last-child::after {align-self: flex-start;width: 50%;}#sk-container-id-2 div.sk-parallel-item:only-child::after {width: 0;}#sk-container-id-2 div.sk-dashed-wrapped {border: 1px dashed gray;margin: 0 0.4em 0.5em 0.4em;box-sizing: border-box;padding-bottom: 0.4em;background-color: white;}#sk-container-id-2 div.sk-label label {font-family: monospace;font-weight: bold;display: inline-block;line-height: 1.2em;}#sk-container-id-2 div.sk-label-container {text-align: center;}#sk-container-id-2 div.sk-container {/* jupyter's `normalize.less` sets `[hidden] { display: none; }` but bootstrap.min.css set `[hidden] { display: none !important; }` so we also need the `!important` here to be able to override the default hidden behavior on the sphinx rendered scikit-learn.org. See: https://github.com/scikit-learn/scikit-learn/issues/21755 */display: inline-block !important;position: relative;}#sk-container-id-2 div.sk-text-repr-fallback {display: none;}</style><div id=\"sk-container-id-2\" class=\"sk-top-container\"><div class=\"sk-text-repr-fallback\"><pre>LinearRegression()</pre><b>In a Jupyter environment, please rerun this cell to show the HTML representation or trust the notebook. <br />On GitHub, the HTML representation is unable to render, please try loading this page with nbviewer.org.</b></div><div class=\"sk-container\" hidden><div class=\"sk-item\"><div class=\"sk-estimator sk-toggleable\"><input class=\"sk-toggleable__control sk-hidden--visually\" id=\"sk-estimator-id-2\" type=\"checkbox\" checked><label for=\"sk-estimator-id-2\" class=\"sk-toggleable__label sk-toggleable__label-arrow\">LinearRegression</label><div class=\"sk-toggleable__content\"><pre>LinearRegression()</pre></div></div></div></div></div>"
      ],
      "text/plain": [
       "LinearRegression()"
      ]
     },
     "execution_count": 92,
     "metadata": {},
     "output_type": "execute_result"
    }
   ],
   "source": [
    "from sklearn.model_selection import KFold,cross_val_score\n",
    "logreg = LinearRegression()\n",
    "logreg.fit(x_train, y_train)"
   ]
  },
  {
   "cell_type": "code",
   "execution_count": 93,
   "metadata": {
    "_uuid": "3959031b15c88161b5d6f80a187b3c02795dfc27"
   },
   "outputs": [
    {
     "data": {
      "text/plain": [
       "array([136159.96244755, 158647.16514891,  41668.46991035, 120734.4972987 ,\n",
       "       277000.81072496, 118019.31181441, 212548.58178795, 112866.12319951,\n",
       "       144006.13558325, 143689.18322545, 195506.2112848 , 102599.57415683,\n",
       "       107833.6105956 , 151333.60912729,  90535.1098146 , 241865.74713918,\n",
       "       211636.87560488,  83034.40490829, 162223.77411172, 392063.80777746,\n",
       "       303220.92943425, 105684.39453594, 122030.7312921 , 107250.47403145,\n",
       "       101455.52993661, 226019.12882216, 200831.09320141, 102705.237326  ,\n",
       "       135577.67171357, 391304.95555841, 171182.38999861, 222209.49769791,\n",
       "       149802.32313006, 236059.05862154,  78385.99985503, 113020.48579279,\n",
       "       242334.63669966, 281537.15376569,  98118.58062532,  60295.78089575,\n",
       "       127492.16038446, 254673.61623652, 121909.38599677, 115716.55954817,\n",
       "       180537.80363979, 168048.7238126 , 305073.64877586, 331980.2464772 ,\n",
       "       417415.6330948 , 254774.19099927, 251728.11854188,  97420.07031714,\n",
       "       155039.06278242, 116432.40248808, 397433.62616931, 252096.60774076,\n",
       "       311611.28479884,  91279.53522217, 189504.19971522, 122752.35986941,\n",
       "       179236.95770045, 118669.70664731, 119088.34976114, 263838.42772657,\n",
       "       113280.11854057, 358203.55341967, 281488.81767832, 266943.60117924,\n",
       "       149440.27861064, 103147.23030822, 131134.49912396, 246303.66114842,\n",
       "        80739.97532876, 150167.79071901, 376888.09806401, 157229.28590087,\n",
       "       255454.12578887, 229621.29190731, 255599.7548866 , 235338.09781881,\n",
       "       216219.79339748, 128267.2281541 , 266937.70875736, 227829.73827576,\n",
       "       215776.06258833, 132278.79151006, 138075.47353039, 144309.42207764,\n",
       "       142074.40572945,  85867.73331705, 285330.62781502, 142120.9406046 ,\n",
       "       129721.01044105, 291311.62113847, 352505.26541854,  96133.08018897,\n",
       "       302091.80388918, 138591.97926216, 184884.81242278, 103528.6929407 ,\n",
       "       213070.52601872, 210877.15902478, 206465.2919131 , 104117.90829283,\n",
       "       178547.37802166, 187835.36230544, 217180.70941238, 219770.48094745,\n",
       "       153105.35712366, 244924.97379292, 112991.17537573, 152460.5640305 ,\n",
       "       230210.95673618, 120577.26995596, 109622.79391985, 108167.04188336,\n",
       "       321894.09557928, 248018.32035259, 309828.79369715, 135149.39441176,\n",
       "       140226.03481315,  83740.95028176,  68359.73762037,  29662.83381766,\n",
       "        13059.81039181, 183170.66141522, 101200.59366803, 279314.41031331,\n",
       "       241739.30281454, 182587.03639848, 323361.22507195, 141549.06510915,\n",
       "       209453.64828311, 265245.14114384, 247261.75160188, 191414.61231955,\n",
       "       131563.5447865 , 141087.39923257, 117901.72809885, 113454.40501357,\n",
       "       320104.89367819, 241638.64784558, 169663.63781175, 103892.14718363,\n",
       "       143954.03626835, 124965.62371371, 212666.39353594, 260619.64654676,\n",
       "       161248.86414536, 159744.17760475,  76117.14008838, 200483.25128875,\n",
       "       277794.53832783, 155169.03457944, 269707.23169076,  96237.00943824,\n",
       "       180878.42707543, 104996.62979569, 422248.02942861, 124425.31945247,\n",
       "        71522.49373915, 192283.31953526, 424494.27449924, 159340.98258875,\n",
       "       171735.1111575 , 119109.96558515, 246357.39917131, 104251.02466384,\n",
       "        96448.77170735, 150354.20089447, 129812.41476231, 173334.26326359,\n",
       "       276838.70926605, 292300.86457098, 385889.01689141, 141073.19695617,\n",
       "       151940.75712645, 168119.97735507,  96149.36572967, 104722.87623635,\n",
       "       138385.56210932, 261821.9418866 , 233867.14192324, 143303.31760055,\n",
       "       294525.77273133, 184994.32077906, 170227.15773583, 176673.98543061,\n",
       "       150486.71586771, 136907.76354346, 174676.93178412, 336060.28712115,\n",
       "       183276.3161083 ,  62044.57696469, 213998.66023549, 206649.77296035,\n",
       "       202559.98448193, 111205.04822145, 225342.50665619, 140289.2312154 ,\n",
       "       137496.84058198, 221852.96397878, 200123.98741354, 325732.51564895,\n",
       "       234713.08452043, 219931.02679121, 183800.00623966, 258375.45006454,\n",
       "       239685.19597511, 216965.8176846 , 187569.50745039, 147055.09292076,\n",
       "       230553.33136802, 288934.16926117, 291459.14782173,  99915.98716126,\n",
       "       317576.55106681, 230713.43260403, 194927.85287043, 123673.85971538,\n",
       "        77657.34756388, 225715.30379007, 256181.34706868, 303986.27878871,\n",
       "       237551.17742297, 203053.56750785,  26896.38156838, 190070.13904949,\n",
       "       110085.1651691 , 274612.32085312, 205913.37967141, 226791.81176766,\n",
       "       208588.27876736, 245279.80463666, 214001.28407875, 172216.35901559,\n",
       "       149793.35238562, 222474.92699949, 175716.66490914, 164380.4282088 ,\n",
       "       241450.80793216, 392199.80930711, 128661.96121279, 131892.68288196,\n",
       "       113274.79698538, 173862.63311022, 147120.86236696, 322487.75229943,\n",
       "       241227.05558614,  90428.00612075, 219603.23742548, 125256.4774689 ,\n",
       "       102169.56139068, 343339.5016864 ,  90376.83211106, 233793.85629652,\n",
       "       206995.65130426, 211034.70216559, 199626.28019146, 129510.05975294,\n",
       "        38577.75068116, 166318.27259954, 255634.43550931, 267813.70276952,\n",
       "       385224.86284144, 132644.53493302, 179948.50908094, 168682.76171638,\n",
       "        77368.94800976, 197546.78743964, 153732.45294076, 160524.71761475,\n",
       "       217106.15699794, 102816.13603459,  50118.52192748, 161141.4770898 ,\n",
       "       158181.77075106, 183284.00151657, 167440.8469388 , 188809.9570665 ,\n",
       "       190997.55818197,  70513.25734908, 238436.56022726, 152365.02251953,\n",
       "        78315.1004506 ,  84311.10773437, 167540.60714973, 132272.45780747,\n",
       "       170570.73216354, 145026.65675076,  95664.41957672, 147081.01872997,\n",
       "       157772.89339494,  92719.38999256, 124378.88348289, 155788.45836824,\n",
       "       264859.28177744, 342258.41655526, 161658.70023755, 104784.63934808,\n",
       "        95239.41876633, 311679.93025012, 177017.57532486,  86111.18115918,\n",
       "       292063.67470626, 152268.93603753, 193923.2437545 , 124379.23092687,\n",
       "       197595.84082826, 271939.58585543, 231757.10098917, 221119.788158  ,\n",
       "        75822.83170054, 128909.3028555 , 174672.07459961, 157651.38645826,\n",
       "       149632.23121182, 140455.19414641,  45984.03809068, 247117.11938757,\n",
       "       215271.67706332, 120450.64179291, 140911.48286554, 182093.93233164,\n",
       "       202098.490313  , 314929.80883311, 168868.00757224, 131506.67818045,\n",
       "       234163.35984191, 445257.45296114, 273871.02513573, 146949.01813181,\n",
       "       134061.00150681, 149123.43623607, 283003.43618973, 121249.26336233,\n",
       "       105020.53393977, 208355.60528241, 131032.21083704, 188820.69198407,\n",
       "       128519.19145843, 117850.52913531, 211908.44435537, 211505.33760033,\n",
       "       340236.11348228,  40619.33695257,  50751.22765057, 157984.14231365,\n",
       "        41201.85358105, 309466.1478108 , 237782.33022263, 263167.7705972 ,\n",
       "       275404.59106224, 237971.13644535, 324329.68930898, 216782.32970307,\n",
       "       255586.85611321, 122931.54922162, 115811.76776986, 183189.62586987,\n",
       "        65383.36517486,  50401.58106179,  50802.97570918, 103467.76127779,\n",
       "       119421.58737565, 139752.61010451,  91923.66425993, 117967.68217919,\n",
       "        76516.494489  ,  98102.70713077, 269719.09313476, 127162.09542077,\n",
       "       248186.14025342, 148881.19209204, 308253.65911645, 144894.68068187,\n",
       "       117636.5411414 , 115848.03250759, 102696.29097151, 152775.87971694,\n",
       "       138460.35936039, 117242.6567487 , 104770.35592373, 171586.51968733,\n",
       "       103257.87899342, 126177.31469884, 287584.64242767, 126297.71169104,\n",
       "       136767.72088874, 353679.10460604, 181674.58396513, 161711.19282801,\n",
       "        99328.16081628, 151342.53120835, 220389.66393423, 111349.21616125,\n",
       "       144552.56384029, 142291.38963689, 167303.84336887, 133723.79870742,\n",
       "       183171.00682317, 242720.82970231,  86556.93458375, 140588.98233172,\n",
       "       209208.93988927, 145254.34500123, 152194.26086292, 184364.35279667,\n",
       "       222947.3402792 , 120100.17444974, 179387.0993309 , 139913.66058901,\n",
       "       352934.08431774, 327044.51715065, 254863.89549456, 155002.66959039,\n",
       "       150758.54030184, 103164.81984072, 286770.39384365, 158454.78112093,\n",
       "        44406.97821341, 115087.10650477, 105724.01526868, 116517.13107192,\n",
       "       198898.04220764, 209564.65814032, 258401.84297434, 156774.10865626,\n",
       "        80364.58025621, 135925.94416224, 215646.03787225, 216262.94856086,\n",
       "       121352.23389331,  88096.3991495 , 190368.08437814, 148373.29184005,\n",
       "       263566.91266344, 196136.11526766, 107462.34097551,  32580.823019  ,\n",
       "       178483.09015684, 230500.8539371 , 116063.69312558, 114140.62262431,\n",
       "       238801.45123287, 130624.18146063, 165384.35533575, 143970.33568719,\n",
       "       300619.82545833,  93829.36415958, 106557.62469112,  85414.58599647,\n",
       "       245858.27731425, 308943.16955195, 103752.95936784, 126235.06653749,\n",
       "       267641.88286028, 284506.87296303, 148012.49839017, 138624.00474222,\n",
       "       142032.1992275 , 244402.42294767, 130997.26966791, 115087.98296344,\n",
       "       106452.97768719, 216605.72242293, 123234.42967606, 171990.22075334,\n",
       "       104713.31741984, 222459.08486632, 247841.70017442, 107376.49104868,\n",
       "       176882.41738984, 136467.97595276, 199677.72908846, 361298.12042969,\n",
       "       237499.95613511, 147893.66886904, 125273.60035763, 110542.14512327,\n",
       "        89253.07565245, 104691.63412633, 120698.97320424, 189832.5776029 ,\n",
       "       183871.98273761, 153779.47085266, 159033.25954419, 253682.86974517,\n",
       "       227334.07560965, 166346.08188718, 123423.29418976, 232694.52444587,\n",
       "       110970.88711017, 148938.97978494, 100916.17278191, 268215.60612691,\n",
       "       161287.79455165, 349292.01325329, 236910.08340063, 148795.08276576,\n",
       "       141659.12676559, 164819.34810582, 398259.38452063, 127127.62997051,\n",
       "       226878.71685344, 103922.16122762, 121418.09368682, 113070.04500198,\n",
       "       179995.48034669, 184550.71209193, 138674.02282262])"
      ]
     },
     "execution_count": 93,
     "metadata": {},
     "output_type": "execute_result"
    }
   ],
   "source": [
    "logreg.predict(x_cv)"
   ]
  },
  {
   "cell_type": "code",
   "execution_count": 91,
   "metadata": {
    "_uuid": "57322c4e1cedb1a430756d45573b176e0d03dfec"
   },
   "outputs": [
    {
     "data": {
      "text/plain": [
       "0.8611901825735364"
      ]
     },
     "execution_count": 91,
     "metadata": {},
     "output_type": "execute_result"
    }
   ],
   "source": [
    "from sklearn.metrics import accuracy_score\n",
    "y_pred=logreg.predict(x_cv)\n",
    "logreg.score(x_cv,y_cv)"
   ]
  },
  {
   "cell_type": "code",
   "execution_count": 94,
   "metadata": {
    "_uuid": "fdb1e8a463c0b0d3a62ed4c0a27dcc112d9366d9"
   },
   "outputs": [],
   "source": [
    "features_train=['LotShape', 'LotConfig', 'Neighborhood', 'HouseStyle', 'Exterior1st',\n",
    "       'ExterQual', 'Foundation', 'BsmtQual', 'BsmtExposure', 'HeatingQC',\n",
    "       'KitchenQual', 'FireplaceQu', 'GarageType', 'GarageFinish',\n",
    "       'OverallQual', 'GrLivArea', 'Neighborhood', 'ExterQual', 'KitchenQual',\n",
    "       'TotalBsmtSF', 'GarageCars', '1stFlrSF', 'GarageArea', 'BsmtQual',\n",
    "       'FullBath', 'GarageFinish', 'TotRmsAbvGrd', 'FireplaceQu', 'Foundation',\n",
    "       'BsmtFinSF2', 'MiscVal','OverallCond', 'EnclosedPorch']\n"
   ]
  },
  {
   "cell_type": "code",
   "execution_count": 95,
   "metadata": {
    "_uuid": "8cb35ee63bec457bb6a11c85e7b8a3841084eb05"
   },
   "outputs": [],
   "source": [
    "test_p=test[features_train]\n",
    "test_p=pd.get_dummies(test_p)"
   ]
  },
  {
   "cell_type": "code",
   "execution_count": 96,
   "metadata": {
    "_uuid": "32dabd893c184f585df6aab4d359654381ff08dc"
   },
   "outputs": [
    {
     "data": {
      "text/plain": [
       "array([195350.88162357, 208588.27876736, 226791.81176766, ...,\n",
       "       276315.13088497, 127028.42415611, 139752.61010451])"
      ]
     },
     "execution_count": 96,
     "metadata": {},
     "output_type": "execute_result"
    }
   ],
   "source": [
    "test_X = test_p\n",
    "predicted_prices = logreg.predict(test_X)\n",
    "predicted_prices"
   ]
  },
  {
   "cell_type": "code",
   "execution_count": 97,
   "metadata": {
    "_uuid": "d0b43629e6b080ee8b307ccd81da0e8c95f219ac"
   },
   "outputs": [],
   "source": [
    "my_submission = pd.DataFrame({'Id': test.Id, 'SalePrice': predicted_prices})\n",
    "# you could use any filename. We choose submission here\n",
    "my_submission.to_csv('submission.csv', index=False)"
   ]
  },
  {
   "cell_type": "code",
   "execution_count": 98,
   "metadata": {
    "_uuid": "d16b42a92c1306d384086c07681bf7cbfebdcbeb"
   },
   "outputs": [],
   "source": [
    "df_sub=pd.read_csv(\"submission.csv\")"
   ]
  },
  {
   "cell_type": "code",
   "execution_count": 99,
   "metadata": {},
   "outputs": [
    {
     "data": {
      "text/html": [
       "<div>\n",
       "<style scoped>\n",
       "    .dataframe tbody tr th:only-of-type {\n",
       "        vertical-align: middle;\n",
       "    }\n",
       "\n",
       "    .dataframe tbody tr th {\n",
       "        vertical-align: top;\n",
       "    }\n",
       "\n",
       "    .dataframe thead th {\n",
       "        text-align: right;\n",
       "    }\n",
       "</style>\n",
       "<table border=\"1\" class=\"dataframe\">\n",
       "  <thead>\n",
       "    <tr style=\"text-align: right;\">\n",
       "      <th></th>\n",
       "      <th>Id</th>\n",
       "      <th>SalePrice</th>\n",
       "    </tr>\n",
       "  </thead>\n",
       "  <tbody>\n",
       "    <tr>\n",
       "      <th>0</th>\n",
       "      <td>1</td>\n",
       "      <td>195350.881624</td>\n",
       "    </tr>\n",
       "    <tr>\n",
       "      <th>1</th>\n",
       "      <td>2</td>\n",
       "      <td>208588.278767</td>\n",
       "    </tr>\n",
       "    <tr>\n",
       "      <th>2</th>\n",
       "      <td>3</td>\n",
       "      <td>226791.811768</td>\n",
       "    </tr>\n",
       "    <tr>\n",
       "      <th>3</th>\n",
       "      <td>4</td>\n",
       "      <td>189023.061756</td>\n",
       "    </tr>\n",
       "    <tr>\n",
       "      <th>4</th>\n",
       "      <td>5</td>\n",
       "      <td>311611.284799</td>\n",
       "    </tr>\n",
       "  </tbody>\n",
       "</table>\n",
       "</div>"
      ],
      "text/plain": [
       "   Id      SalePrice\n",
       "0   1  195350.881624\n",
       "1   2  208588.278767\n",
       "2   3  226791.811768\n",
       "3   4  189023.061756\n",
       "4   5  311611.284799"
      ]
     },
     "execution_count": 99,
     "metadata": {},
     "output_type": "execute_result"
    }
   ],
   "source": [
    "df_sub.head()"
   ]
  },
  {
   "cell_type": "code",
   "execution_count": null,
   "metadata": {},
   "outputs": [],
   "source": []
  }
 ],
 "metadata": {
  "kernelspec": {
   "display_name": "Python 3 (ipykernel)",
   "language": "python",
   "name": "python3"
  },
  "language_info": {
   "codemirror_mode": {
    "name": "ipython",
    "version": 3
   },
   "file_extension": ".py",
   "mimetype": "text/x-python",
   "name": "python",
   "nbconvert_exporter": "python",
   "pygments_lexer": "ipython3",
   "version": "3.9.12"
  }
 },
 "nbformat": 4,
 "nbformat_minor": 1
}
